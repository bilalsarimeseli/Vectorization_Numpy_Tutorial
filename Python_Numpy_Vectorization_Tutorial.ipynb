{
  "cells": [
    {
      "cell_type": "markdown",
      "metadata": {
        "id": "view-in-github",
        "colab_type": "text"
      },
      "source": [
        "<a href=\"https://colab.research.google.com/github/bilalsarimeseli/Vectorization_Numpy_Tutorial/blob/main/Python_Numpy_Vectorization_Tutorial.ipynb\" target=\"_parent\"><img src=\"https://colab.research.google.com/assets/colab-badge.svg\" alt=\"Open In Colab\"/></a>"
      ]
    },
    {
      "cell_type": "markdown",
      "metadata": {
        "id": "mIbGRhznRSoX"
      },
      "source": [
        "# Quick Tutorial: Python, NumPy and Vectorization\n",
        "I am going to make a brief introduction to some of the scientific computing in data science, particularly the NumPy scientific computing package and its use with python.\n",
        "\n",
        "# Outline\n",
        "- [&nbsp;&nbsp;1.1 Goals](#toc_40015_1.1)\n",
        "- [&nbsp;&nbsp;1.2 Useful References](#toc_40015_1.2)\n",
        "- [2 Python and NumPy <a name='Python and NumPy'></a>](#toc_40015_2)\n",
        "- [3 Vectors](#toc_40015_3)\n",
        "- [&nbsp;&nbsp;3.1 Abstract](#toc_40015_3.1)\n",
        "- [&nbsp;&nbsp;3.2 NumPy Arrays](#toc_40015_3.2)\n",
        "- [&nbsp;&nbsp;3.3 Vector Creation](#toc_40015_3.3)\n",
        "- [&nbsp;&nbsp;3.4 Operations on Vectors](#toc_40015_3.4)\n",
        "- [4 Matrices](#toc_40015_4)\n",
        "- [&nbsp;&nbsp;4.1 Abstract](#toc_40015_4.1)\n",
        "- [&nbsp;&nbsp;4.2 NumPy Arrays](#toc_40015_4.2)\n",
        "- [&nbsp;&nbsp;4.3 Matrix Creation](#toc_40015_4.3)\n",
        "- [&nbsp;&nbsp;4.4 Operations on Matrices](#toc_40015_4.4)\n"
      ]
    },
    {
      "cell_type": "code",
      "execution_count": 1,
      "metadata": {
        "id": "Asg-JNWzRSoZ"
      },
      "outputs": [],
      "source": [
        "import numpy as np    # it is an unofficial standard to use np for numpy\n",
        "import time"
      ]
    },
    {
      "cell_type": "markdown",
      "metadata": {
        "id": "Vmu5xRU-RSob"
      },
      "source": [
        "<a name=\"toc_40015_1.1\"></a>\n",
        "## Goal\n",
        "In this brief lab, we will:\n",
        "- Review the features of NumPy and Python that are widely used in Machine Learning. "
      ]
    },
    {
      "cell_type": "markdown",
      "metadata": {
        "id": "ej_kEyo3RSob"
      },
      "source": [
        "<a name=\"toc_40015_1.2\"></a>\n",
        "## Useful References\n",
        "- NumPy Documentation including a basic introduction: [NumPy.org](https://NumPy.org/doc/stable/)\n",
        "- A challenging feature topic: [NumPy Broadcasting](https://NumPy.org/doc/stable/user/basics.broadcasting.html)\n"
      ]
    },
    {
      "cell_type": "markdown",
      "metadata": {
        "id": "ZY6T_SxtRSoc"
      },
      "source": [
        "<a name=\"toc_40015_3\"></a>\n",
        "# Vectors\n",
        "<a name=\"toc_40015_3.1\"></a>\n",
        "Vectors are ordered arrays of numbers. In notation, vectors are denoted with lower case bold letters such as $\\mathbf{x}$.  The elements of a vector are all the same type. A vector does not, for example, contain both characters and numbers. The number of elements in the array is often referred to as the *dimension* though mathematicians may prefer *rank*. The elements of a vector can be referenced with an index. In math settings, indices typically run from 1 to n. In computer science, indexing will typically run from 0 to n-1.  In notation, elements of a vector, when referenced individually will indicate the index in a subscript, for example, the $0^{th}$ element, of the vector $\\mathbf{x}$ is $x_0$. Note, the x is not bold in this case.  \n"
      ]
    },
    {
      "cell_type": "markdown",
      "metadata": {
        "id": "CYgvDZgyRSoc"
      },
      "source": [
        "<a name=\"toc_40015_3.2\"></a>\n",
        "## NumPy Arrays\n",
        "\n",
        "NumPy's basic data structure is an indexable, n-dimensional *array* containing elements of the same type (`dtype`). Right away, it seems like we have overloaded the term **'dimension'**. Above, it was the number of elements in the vector, here, dimension refers to the number of indexes of an array.  \n",
        "A one-dimensional or 1-D array has one index. Let's represent vectors as NumPy 1-D arrays. \n",
        "\n",
        " - 1-D array, shape (n,): `n` elements indexed [**0**] through [**n-1**]\n",
        " "
      ]
    },
    {
      "cell_type": "markdown",
      "metadata": {
        "id": "y4aAMVeZRSod"
      },
      "source": [
        "<a name=\"toc_40015_3.3\"></a>\n",
        "## Vector Creation\n"
      ]
    },
    {
      "cell_type": "markdown",
      "metadata": {
        "id": "HkKDswg4RSod"
      },
      "source": [
        "Data creation routines in NumPy will generally have a first parameter which is the shape of the object. This can either be a single value for a 1-D result or a tuple (n,m,...) specifying the shape of the result. Below are examples of creating vectors using these routines."
      ]
    },
    {
      "cell_type": "code",
      "execution_count": 2,
      "metadata": {
        "colab": {
          "base_uri": "https://localhost:8080/"
        },
        "id": "oisBiv-RRSod",
        "outputId": "1961c7c8-3ae0-4940-bbd5-7ccc65cd7251"
      },
      "outputs": [
        {
          "output_type": "stream",
          "name": "stdout",
          "text": [
            "np.zeros(4) :   a = [0. 0. 0. 0.], a shape = (4,), a data type = float64\n",
            "np.zeros(4,) :  a = [0. 0. 0. 0.], a shape = (4,), a data type = float64\n",
            "np.random.random_sample(4): a = [0.32880101 0.44374443 0.14591009 0.62004329], a shape = (4,), a data type = float64\n"
          ]
        }
      ],
      "source": [
        "# NumPy routines which allocate memory and fill arrays with value\n",
        "a = np.zeros(4);                print(f\"np.zeros(4) :   a = {a}, a shape = {a.shape}, a data type = {a.dtype}\")\n",
        "a = np.zeros((4,));             print(f\"np.zeros(4,) :  a = {a}, a shape = {a.shape}, a data type = {a.dtype}\")\n",
        "a = np.random.random_sample(4); print(f\"np.random.random_sample(4): a = {a}, a shape = {a.shape}, a data type = {a.dtype}\")"
      ]
    },
    {
      "cell_type": "markdown",
      "metadata": {
        "id": "Aislwa5WRSoe"
      },
      "source": [
        "Some data creation routines do not take a shape tuple:"
      ]
    },
    {
      "cell_type": "code",
      "execution_count": 3,
      "metadata": {
        "colab": {
          "base_uri": "https://localhost:8080/"
        },
        "id": "xFcATJKtRSoe",
        "outputId": "1232640d-b3e3-4174-d645-82a6b3fea58e"
      },
      "outputs": [
        {
          "output_type": "stream",
          "name": "stdout",
          "text": [
            "np.arange(4.):     a = [0. 1. 2. 3.], a shape = (4,), a data type = float64\n",
            "np.random.rand(4): a = [0.32950913 0.41417335 0.34520629 0.02283992], a shape = (4,), a data type = float64\n"
          ]
        }
      ],
      "source": [
        "# NumPy routines which allocate memory and fill arrays with value but do not accept shape as input argument\n",
        "a = np.arange(4.);              print(f\"np.arange(4.):     a = {a}, a shape = {a.shape}, a data type = {a.dtype}\")\n",
        "a = np.random.rand(4);          print(f\"np.random.rand(4): a = {a}, a shape = {a.shape}, a data type = {a.dtype}\")"
      ]
    },
    {
      "cell_type": "markdown",
      "metadata": {
        "id": "yDTKpiUQRSoe"
      },
      "source": [
        "values can be specified manually as well. "
      ]
    },
    {
      "cell_type": "code",
      "execution_count": 4,
      "metadata": {
        "colab": {
          "base_uri": "https://localhost:8080/"
        },
        "id": "kTuUQVxJRSof",
        "outputId": "45af964d-8385-4bb6-f88b-24026b476d83"
      },
      "outputs": [
        {
          "output_type": "stream",
          "name": "stdout",
          "text": [
            "np.array([5,4,3,2]):  a = [5 4 3 2],     a shape = (4,), a data type = int64\n",
            "np.array([5.,4,3,2]): a = [5. 4. 3. 2.], a shape = (4,), a data type = float64\n"
          ]
        }
      ],
      "source": [
        "# NumPy routines which allocate memory and fill with user specified values\n",
        "a = np.array([5,4,3,2]);  print(f\"np.array([5,4,3,2]):  a = {a},     a shape = {a.shape}, a data type = {a.dtype}\")\n",
        "a = np.array([5.,4,3,2]); print(f\"np.array([5.,4,3,2]): a = {a}, a shape = {a.shape}, a data type = {a.dtype}\")"
      ]
    },
    {
      "cell_type": "markdown",
      "metadata": {
        "id": "23BeFjCfRSof"
      },
      "source": [
        "These have all created a one-dimensional vector  `a` with four elements. `a.shape` returns the dimensions. Here we see a.shape = `(4,)` indicating a 1-d array with 4 elements.  "
      ]
    },
    {
      "cell_type": "markdown",
      "metadata": {
        "id": "u4OiGlPURSof"
      },
      "source": [
        "<a name=\"toc_40015_3.4\"></a>\n",
        "## Operations on Vectors\n",
        "Let's explore some operations using vectors.\n",
        "<a name=\"toc_40015_3.4.1\"></a>\n",
        "### Indexing\n",
        "Elements of vectors can be accessed via indexing and slicing. NumPy provides a very complete set of indexing and slicing capabilities.  \n",
        "Reference [Slicing and Indexing](https://NumPy.org/doc/stable/reference/arrays.indexing.html) for more details.  \n",
        "**Indexing** means referring to *an element* of an array by its position within the array.  \n",
        "**Slicing** means getting a *subset* of elements from an array based on their indices.  \n",
        "NumPy starts indexing at zero so the 3rd element of an vector $\\mathbf{a}$ is `a[2]`."
      ]
    },
    {
      "cell_type": "code",
      "execution_count": 5,
      "metadata": {
        "colab": {
          "base_uri": "https://localhost:8080/"
        },
        "id": "sMXqdWO4RSof",
        "outputId": "c13bc129-01a9-4ac1-9c0c-c1166bad9251"
      },
      "outputs": [
        {
          "output_type": "stream",
          "name": "stdout",
          "text": [
            "[0 1 2 3 4 5 6 7 8 9]\n",
            "a[2].shape: () a[2]  = 2, Accessing an element returns a scalar\n",
            "a[-1] = 9\n",
            "The error message you'll see is:\n",
            "index 10 is out of bounds for axis 0 with size 10\n"
          ]
        }
      ],
      "source": [
        "#vector indexing operations on 1-D vectors\n",
        "a = np.arange(10)\n",
        "print(a)\n",
        "\n",
        "#access an element\n",
        "print(f\"a[2].shape: {a[2].shape} a[2]  = {a[2]}, Accessing an element returns a scalar\")\n",
        "\n",
        "# access the last element, negative indexes count from the end\n",
        "print(f\"a[-1] = {a[-1]}\")\n",
        "\n",
        "#indexs must be within the range of the vector or they will produce and error\n",
        "try:\n",
        "    c = a[10]\n",
        "except Exception as e:\n",
        "    print(\"The error message you'll see is:\")\n",
        "    print(e)"
      ]
    },
    {
      "cell_type": "markdown",
      "metadata": {
        "id": "5KGNrDf6RSog"
      },
      "source": [
        "<a name=\"toc_40015_3.4.2\"></a>\n",
        "### Slicing\n",
        "Slicing creates an array of indices using a set of three values (`start:stop:step`). A subset of values is also valid. Its use is best explained by example:"
      ]
    },
    {
      "cell_type": "code",
      "execution_count": 6,
      "metadata": {
        "colab": {
          "base_uri": "https://localhost:8080/"
        },
        "id": "QZTjDh-ZRSog",
        "outputId": "4ed2ecb3-eaae-4c90-90a8-12667765ff2a"
      },
      "outputs": [
        {
          "output_type": "stream",
          "name": "stdout",
          "text": [
            "a         = [0 1 2 3 4 5 6 7 8 9]\n",
            "a[2:7:1] =  [2 3 4 5 6]\n",
            "a[2:7:2] =  [2 4 6]\n",
            "a[3:]    =  [3 4 5 6 7 8 9]\n",
            "a[:3]    =  [0 1 2]\n",
            "a[:]     =  [0 1 2 3 4 5 6 7 8 9]\n"
          ]
        }
      ],
      "source": [
        "#vector slicing operations\n",
        "a = np.arange(10)\n",
        "print(f\"a         = {a}\")\n",
        "\n",
        "#access 5 consecutive elements (start:stop:step)\n",
        "c = a[2:7:1];     print(\"a[2:7:1] = \", c)\n",
        "\n",
        "# access 3 elements separated by two \n",
        "c = a[2:7:2];     print(\"a[2:7:2] = \", c)\n",
        "\n",
        "# access all elements index 3 and above\n",
        "c = a[3:];        print(\"a[3:]    = \", c)\n",
        "\n",
        "# access all elements below index 3\n",
        "c = a[:3];        print(\"a[:3]    = \", c)\n",
        "\n",
        "# access all elements\n",
        "c = a[:];         print(\"a[:]     = \", c)"
      ]
    },
    {
      "cell_type": "markdown",
      "metadata": {
        "id": "bAVPgxscRSog"
      },
      "source": [
        "<a name=\"toc_40015_3.4.3\"></a>\n",
        "### Single vector operations\n",
        "There are a number of useful operations that involve operations on a single vector."
      ]
    },
    {
      "cell_type": "code",
      "execution_count": 7,
      "metadata": {
        "colab": {
          "base_uri": "https://localhost:8080/"
        },
        "id": "FJbZHXeIRSog",
        "outputId": "cec31b83-e9b0-4c1e-879d-5e8f5460bcac"
      },
      "outputs": [
        {
          "output_type": "stream",
          "name": "stdout",
          "text": [
            "a             : [1 2 3 4]\n",
            "b = -a        : [-1 -2 -3 -4]\n",
            "b = np.sum(a) : 10\n",
            "b = np.mean(a): 2.5\n",
            "b = a**2      : [ 1  4  9 16]\n"
          ]
        }
      ],
      "source": [
        "a = np.array([1,2,3,4])\n",
        "print(f\"a             : {a}\")\n",
        "# negate elements of a\n",
        "b = -a \n",
        "print(f\"b = -a        : {b}\")\n",
        "\n",
        "# sum all elements of a, returns a scalar\n",
        "b = np.sum(a) \n",
        "print(f\"b = np.sum(a) : {b}\")\n",
        "\n",
        "b = np.mean(a)\n",
        "print(f\"b = np.mean(a): {b}\")\n",
        "\n",
        "b = a**2\n",
        "print(f\"b = a**2      : {b}\")"
      ]
    },
    {
      "cell_type": "markdown",
      "metadata": {
        "id": "eLDsxGvvRSog"
      },
      "source": [
        "<a name=\"toc_40015_3.4.4\"></a>\n",
        "### Vector-Vector element-wise operations\n",
        "Most of the NumPy arithmetic, logical and comparison operations apply to vectors as well. These operators work on an element-by-element basis. For example \n",
        "$$ c_i = a_i + b_i $$"
      ]
    },
    {
      "cell_type": "code",
      "execution_count": 8,
      "metadata": {
        "colab": {
          "base_uri": "https://localhost:8080/"
        },
        "id": "yJXvSVBbRSoh",
        "outputId": "cb23ba87-80e7-4639-b84d-235782284033"
      },
      "outputs": [
        {
          "output_type": "stream",
          "name": "stdout",
          "text": [
            "Binary operators work element wise: [0 0 6 8]\n"
          ]
        }
      ],
      "source": [
        "a = np.array([ 1, 2, 3, 4])\n",
        "b = np.array([-1,-2, 3, 4])\n",
        "print(f\"Binary operators work element wise: {a + b}\")"
      ]
    },
    {
      "cell_type": "markdown",
      "metadata": {
        "id": "kZtAZRhlRSoh"
      },
      "source": [
        "Of course, for this to work correctly, the vectors must be of the same size:"
      ]
    },
    {
      "cell_type": "code",
      "execution_count": 9,
      "metadata": {
        "colab": {
          "base_uri": "https://localhost:8080/"
        },
        "id": "3MNNExWbRSoh",
        "outputId": "7492b42a-11a0-4024-fd2d-1aeb20a43037"
      },
      "outputs": [
        {
          "output_type": "stream",
          "name": "stdout",
          "text": [
            "The error message you'll see is:\n",
            "operands could not be broadcast together with shapes (4,) (2,) \n"
          ]
        }
      ],
      "source": [
        "#Let's try a mismatched vector operation\n",
        "c = np.array([1, 2])\n",
        "try:\n",
        "    d = a + c\n",
        "except Exception as e:\n",
        "    print(\"The error message you'll see is:\")\n",
        "    print(e)"
      ]
    },
    {
      "cell_type": "markdown",
      "metadata": {
        "id": "yub-FMDkRSoh"
      },
      "source": [
        "<a name=\"toc_40015_3.4.5\"></a>\n",
        "### Scalar Vector operations\n",
        "Vectors can be 'scaled' by scalar values. A scalar value is just a number. The scalar multiplies all the elements of the vector."
      ]
    },
    {
      "cell_type": "code",
      "execution_count": 10,
      "metadata": {
        "colab": {
          "base_uri": "https://localhost:8080/"
        },
        "id": "ASNZQqDrRSoh",
        "outputId": "e84f4060-fb05-41c5-de91-8e3edcb51e88"
      },
      "outputs": [
        {
          "output_type": "stream",
          "name": "stdout",
          "text": [
            "b = 5 * a : [ 5 10 15 20]\n"
          ]
        }
      ],
      "source": [
        "a = np.array([1, 2, 3, 4])\n",
        "\n",
        "# multiply a by a scalar\n",
        "b = 5 * a \n",
        "print(f\"b = 5 * a : {b}\")"
      ]
    },
    {
      "cell_type": "markdown",
      "metadata": {
        "id": "kQfLIKJARSoh"
      },
      "source": [
        "<a name=\"toc_40015_3.4.6\"></a>\n",
        "### Vector by Vector dot product\n",
        "The dot product is a mainstay of Linear Algebra and NumPy. This is an operation used extensively used, The dot product is shown below. \n",
        "![Screenshot 2023-03-12 at 10.32.26 PM.png](data:image/png;base64,iVBORw0KGgoAAAANSUhEUgAABgYAAAN0CAYAAAB/e5NcAAAKqWlDQ1BJQ0MgUHJvZmlsZQAASImVlwdQk9kWgO//p4eElhA6hN4E6QSQEkILXTrYCEmAUEIMhGZHFldgRRERARu6KqLgqhRZCyKKbVFU7Logi4iyigVRUXk/MITdffPem3dmzpzvP/+55557596ZcwEgy3NEolRYHoA0YaY41MeDHh0TS8cNARgoIaoOtDncDBEzJCQAIDJr/y4f7wJoyt42n8r17///qyjw+BlcAKAQhON5Gdw0hE8i+pIrEmcCgNqD+PWyM0VT3IkwVYwUiPD9KU6c4ZEpjp9mNJiOCQ9lIUwFAE/icMSJAJDoiJ+exU1E8pDcEbYU8gRChEUIu6alpfMQPoawMRKD+EhT+Rnxf8mT+Lec8dKcHE6ilGfWMi14T0GGKJWT+39ux/+WtFTJ7ByGiJKSxL6hiFVE9ux+Srq/lIXxQcGzLOBNx09zksQ3Ypa5GazYWeZxPP2lY1ODAmY5QeDNlubJZIfPMj/DK2yWxemh0rkSxCzmLHPEc/NKUiKk/iQ+W5o/Lyk8apazBJFBs5yREuY/F8OS+sWSUGn9fKGPx9y83tK1p2X8Zb0CtnRsZlK4r3TtnLn6+ULmXM6MaGltPL6n11xMhDRelOkhnUuUGiKN56f6SP0ZWWHSsZnIgZwbGyLdw2SOX8gsAxZIB6mIigEdBCBfngBk8nMypxbCShfligWJSZl0JnLD+HS2kGsxj25taW0DwNR9nTkO72nT9xCiXZ3z5ccB4KI9OTl5es4XgJyfJnUAiG/mfMYUAMiXALicz5WIs2Z803cJA4hADlCBKtACesAYmANrYA+cgTvwAn4gGISDGLAUcEESSEMqzwYrwTpQCIrBZrANVIHdYB84BI6C46AFnAbnwSVwDdwEveAR6AOD4BUYBR/BBARBOIgMUSBVSBsygMwga4gBuUJeUAAUCsVAcVAiJIQk0EpoPVQMlUFV0F6oDvoFOgWdh65APdADqB8aht5BX2AUTIKpsCZsCM+HGTAT9ofD4SVwIrwczoML4E1wJVwLH4Gb4fPwNbgX7oNfwWMogJJB0VA6KHMUA8VCBaNiUQkoMWo1qghVgapFNaDaUF2o26g+1AjqMxqLpqDpaHO0M9oXHYHmopejV6NL0FXoQ+hmdCf6NrofPYr+jiFjNDBmGCcMGxONScRkYwoxFZgDmCbMRUwvZhDzEYvF0rBGWAesLzYGm4xdgS3B7sQ2YtuxPdgB7BgOh1PFmeFccME4Di4TV4jbgTuCO4e7hRvEfcLL4LXx1nhvfCxeiM/HV+AP48/ib+GH8BMEeYIBwYkQTOARcgmlhP2ENsINwiBhgqhANCK6EMOJycR1xEpiA/Ei8THxvYyMjK6Mo8xCGYHMWplKmWMyl2X6ZT6TFEmmJBZpMUlC2kQ6SGonPSC9J5PJhmR3ciw5k7yJXEe+QH5K/iRLkbWQZcvyZNfIVss2y96SfS1HkDOQY8otlcuTq5A7IXdDbkSeIG8oz5LnyK+Wr5Y/JX9PfkyBomClEKyQplCicFjhisILRZyioaKXIk+xQHGf4gXFAQqKokdhUbiU9ZT9lIuUQSqWakRlU5OpxdSj1G7qqJKikq1SpFKOUrXSGaU+GopmSGPTUmmltOO0u7QvyprKTGW+8kblBuVbyuMq6iruKnyVIpVGlV6VL6p0VS/VFNUtqi2qT9TQaqZqC9Wy1XapXVQbUaeqO6tz1YvUj6s/1IA1TDVCNVZo7NO4rjGmqaXpoynS3KF5QXNEi6blrpWsVa51VmtYm6Ltqi3QLtc+p/2SrkRn0lPplfRO+qiOho6vjkRnr063zoSukW6Ebr5uo+4TPaIeQy9Br1yvQ29UX1s/UH+lfr3+QwOCAcMgyWC7QZfBuKGRYZThBsMWwxdGKkZsozyjeqPHxmRjN+PlxrXGd0ywJgyTFJOdJjdNYVM70yTTatMbZrCZvZnAbKdZzzzMPMd5wnm18+6Zk8yZ5lnm9eb9FjSLAIt8ixaL1/P158fO3zK/a/53SzvLVMv9lo+sFK38rPKt2qzeWZtac62rre/YkG28bdbYtNq8tTWz5dvusr1vR7ELtNtg12H3zd7BXmzfYD/soO8Q51DjcI9BZYQwShiXHTGOHo5rHE87fnayd8p0Ou70xtncOcX5sPOLBUYL+Av2Lxhw0XXhuOx16XOlu8a57nHtc9Nx47jVuj1z13PnuR9wH2KaMJOZR5ivPSw9xB5NHuMsJ9YqVrsnytPHs8iz20vRK8Kryuupt653one996iPnc8Kn3ZfjK+/7xbfe2xNNpddxx71c/Bb5dfpT/IP86/yfxZgGiAOaAuEA/0CtwY+DjIIEga1BINgdvDW4CchRiHLQ35diF0YsrB64fNQq9CVoV1hlLBlYYfDPoZ7hJeGP4owjpBEdETKRS6OrIscj/KMKovqi54fvSr6WoxajCCmNRYXGxl7IHZskdeibYsGF9stLlx8d4nRkpwlV5aqLU1demaZ3DLOshNxmLiouMNxXznBnFrOWDw7viZ+lMvibue+4rnzynnDfBd+GX8owSWhLOFFokvi1sThJLekiqQRAUtQJXib7Ju8O3k8JTjlYMpkalRqYxo+LS7tlFBRmCLsTNdKz0nvEZmJCkV9y52Wb1s+KvYXH8iAMpZktGZSkcbousRY8oOkP8s1qzrrU3Zk9okchRxhzvVc09yNuUN53nk/r0Cv4K7oWKmzct3K/lXMVXtXQ6vjV3es0VtTsGZwrc/aQ+uI61LW/ZZvmV+W/2F91Pq2As2CtQUDP/j8UF8oWyguvLfBecPuH9E/Cn7s3mizccfG70W8oqvFlsUVxV9LuCVXf7L6qfKnyU0Jm7pL7Ut3bcZuFm6+u8Vty6EyhbK8soGtgVuby+nlReUfti3bdqXCtmL3duJ2yfa+yoDK1h36Ozbv+FqVVNVb7VHdWKNRs7FmfCdv561d7rsadmvuLt79ZY9gz/29Pnubaw1rK/Zh92Xte74/cn/Xz4yf6w6oHSg+8O2g8GDfodBDnXUOdXWHNQ6X1sP1kvrhI4uP3DzqebS1wbxhbyOtsfgYOCY59vKXuF/uHvc/3nGCcaLhpMHJmiZKU1Ez1JzbPNqS1NLXGtPac8rvVEebc1vTrxa/Hjytc7r6jNKZ0rPEswVnJ8/lnRtrF7WPnE88P9CxrOPRhegLdzoXdnZf9L94+ZL3pQtdzK5zl10un77idOXUVcbVlmv215qv211v+s3ut6Zu++7mGw43Wm863mzrWdBz9pbbrfO3PW9fusO+c603qLfnbsTd+/cW3+u7z7v/4kHqg7cPsx5OPFr7GPO46In8k4qnGk9rfzf5vbHPvu9Mv2f/9Wdhzx4NcAde/ZHxx9fBgufk5xVD2kN1L6xfnB72Hr75ctHLwVeiVxMjhX8q/Fnz2vj1yTfub66PRo8OvhW/nXxX8l71/cEPth86xkLGnn5M+zgxXvRJ9dOhz4zPXV+ivgxNZH/Ffa38ZvKt7bv/98eTaZOTIo6YM90KoBCFExIAeHcQ6RNiAKDcRPqHRTP99LRAM2+AaQL/iWd67mmxB6ABMVNtEasdgGOIGiJKRr6nWqJwdwDb2Eh1tved7tOnBIu8WPa4TFGvCm8t+IfM9PB/qfufFkxltQX/tP8CL1MFWETeIG0AAACKZVhJZk1NACoAAAAIAAQBGgAFAAAAAQAAAD4BGwAFAAAAAQAAAEYBKAADAAAAAQACAACHaQAEAAAAAQAAAE4AAAAAAAAAkAAAAAEAAACQAAAAAQADkoYABwAAABIAAAB4oAIABAAAAAEAAAYGoAMABAAAAAEAAAN0AAAAAEFTQ0lJAAAAU2NyZWVuc2hvdIZmzmIAAAAJcEhZcwAAFiUAABYlAUlSJPAAAAHXaVRYdFhNTDpjb20uYWRvYmUueG1wAAAAAAA8eDp4bXBtZXRhIHhtbG5zOng9ImFkb2JlOm5zOm1ldGEvIiB4OnhtcHRrPSJYTVAgQ29yZSA2LjAuMCI+CiAgIDxyZGY6UkRGIHhtbG5zOnJkZj0iaHR0cDovL3d3dy53My5vcmcvMTk5OS8wMi8yMi1yZGYtc3ludGF4LW5zIyI+CiAgICAgIDxyZGY6RGVzY3JpcHRpb24gcmRmOmFib3V0PSIiCiAgICAgICAgICAgIHhtbG5zOmV4aWY9Imh0dHA6Ly9ucy5hZG9iZS5jb20vZXhpZi8xLjAvIj4KICAgICAgICAgPGV4aWY6UGl4ZWxZRGltZW5zaW9uPjg4NDwvZXhpZjpQaXhlbFlEaW1lbnNpb24+CiAgICAgICAgIDxleGlmOlBpeGVsWERpbWVuc2lvbj4xNTQyPC9leGlmOlBpeGVsWERpbWVuc2lvbj4KICAgICAgICAgPGV4aWY6VXNlckNvbW1lbnQ+U2NyZWVuc2hvdDwvZXhpZjpVc2VyQ29tbWVudD4KICAgICAgPC9yZGY6RGVzY3JpcHRpb24+CiAgIDwvcmRmOlJERj4KPC94OnhtcG1ldGE+Cu+WM8gAAAAcaURPVAAAAAIAAAAAAAABugAAACgAAAG6AAABugAAZnir12nAAABAAElEQVR4AezdfdQlVX0galBBGpsgAgrtJ7R4MS2N3IAGkA/BnmhE+honKEuUe8lVkqyokLsCA3NFgnNhIGsFJbkzQZfc4OBCMeoCiR/DR7QRnAATQmsbRmwwKnSPgo3S0AoaLu7TP+3aOfVW1ak673vqrcc/er9VtfeuvZ+9zzmyf/Wx/RNP/m87/yNAgAABAgQIECBAgAABAgQIECBAgAABAgQGIbC9wMAgxlknCRAgQIAAAQIECBAgQIAAAQIECBAgQIBAEhAYMBEIECBAgAABAgQIECBAgAABAgQIECBAgMCABAQGBjTYukqAAAECBAgQIECAAAECBAgQIECAAAECBAQGzAECBAgQIECAAAECBAgQIECAAAECBAgQIDAgAYGBAQ22rhIgQIAAAQIECBAgQIAAAQIECBAgQIAAAYEBc4AAAQIECBAgQIAAAQIECBAgQIAAAQIECAxIQGBgQIOtqwQIECBAgAABAgQIECBAgAABAgQIECBAQGDAHCBAgAABAgQIECBAgAABAgQIECBAgAABAgMSEBgY0GDrKgECBAgQIECAAAECBAgQIECAAAECBAgQEBgwBwgQIECAAAECBAgQIECAAAECBAgQIECAwIAEBAYGNNi6SoAAAQIECBAgQIAAAQIECBAgQIAAAQIEBAbMAQIECBAgQIAAAQIECBAgQIAAAQIECBAgMCABgYEBDbauEiBAgAABAgQIECBAgAABAgQIECBAgAABgQFzgAABAgQIECBAgAABAgQIECBAgAABAgQIDEhAYGBAg62rBAgQIECAAAECBAgQIECAAAECBAgQIEBAYMAcIECAAAECBAgQIECAAAECBAgQIECAAAECAxIQGBjQYOsqAQIECBAgQIAAAQIECBAgQIAAAQIECBAQGDAHCBAgQIAAAQIECBAgQIAAAQIECBAgQIDAgAQEBgY02LpKgAABAgQIECBAgAABAgQIECBAgAABAgQEBswBAgQIECBAgAABAgQIECBAgAABAgQIECAwIAGBgQENtq4SIECAAAECBAgQIECAAAECBAgQIECAAAGBAXOAAAECBAgQIECAAAECBAgQIECAAAECBAgMSEBgYECDrasECBAgQIAAAQIECBAgQIAAAQIECBAgQEBgwBwgQIAAAQIECBAgQIAAAQIECBAgQIAAAQIDEhAYGNBg6yoBAgQIECBAgAABAgQIECBAgAABAgQIEBAYMAcIECBAgAABAgQIECBAgAABAgQIECBAgMCABAQGBjTYukqAAAECBAgQIECAAAECBAgQIECAAAECBAQGzAECBAgQIECAAAECBAgQIECAAAECBAgQIDAgAYGBAQ22rhIgQIAAAQIECBAgQIAAAQIECBAgQIAAAYEBc4AAAQIECBAgQIAAAQIECBAgQIAAAQIECAxIQGBgQIOtqwQIECBAgAABAgQIECBAgAABAgQIECBAQGDAHCBAgAABAgQIECBAgAABAgQIECBAgAABAgMSEBgY0GDrKgECBAgQIECAAAECBAgQIECAAAECBAgQEBgwBwgQIECAAAECBAgQIECAAAECBAgQIECAwIAEBAYGNNi6SoAAAQIECBAgQIAAAQIECBAgQIAAAQIEBAbMAQIECBAgQIAAAQIECBAgQIAAAQIECBAgMCABgYEBDbauEiBAgAABAgQIECBAgAABAgQIECBAgAABgQFzgAABAgQIECBAgAABAgQIECBAgAABAgQIDEhAYGBAg62rBAgQIECAAAECBAgQIECAAAECBAgQIEBAYMAcIECAAAECBAgQIECAAAECBAgQIECAAAECAxIQGBjQYOsqAQIECBAgQIAAAQIECBAgQIAAAQIECBAQGDAHCBAgQIAAAQIECBAgQIAAAQIECBAgQIDAgAQEBgY02LpKgAABAgQIECBAgAABAgQIECBAgAABAgQEBswBAgQIECBAgAABAgQIECBAgAABAgQIECAwIAGBgQENtq4SIECAAAECBAgQIECAAAECBAgQIECAAAGBAXOAAAECBAgQIECAAAECBAgQIECAAAECBAgMSEBgYECDrasECBAgQIAAAQIECBAgQIAAAQIECBAgQEBgwBwgQIAAAQIECBAgQIAAAQIECBAgQIAAAQIDEhAYGNBg6yoBAgQIECBAgAABAgQIECBAgAABAgQIEBAYMAcIECBAgAABAgQIECBAgAABAgQIECBAgMCABAQGBjTYukqAAAECBAgQIECAAAECBAgQIECAAAECBAQGzAECBAgQIECAAAECBAgQIECAAAECBAgQIDAgAYGBAQ22rhIgQIAAAQIECBAgQIAAAQIECBAgQIAAAYEBc4AAAQIECBAgQIAAAQIECBAgQIAAAQIECAxIQGBgQIOtqwQIECBAgAABAgQIECBAgAABAgQIECBAQGDAHCBAgAABAgQIECBAgAABAgQIECBAgAABAgMSEBgY0GDrKgECBAgQIECAAAECBAgQIECAAAECBAgQEBgwBwgQIECAAAECBAgQIECAAAECBAgQIECAwIAEBAYGNNi6SoAAAQIECBAgQIAAAQIECBAgQIAAAQIEBAbMAQIECBAgQIAAAQIECBAgQIAAAQIECBAgMCABgYEBDbauEiBAgAABAgQIECBAgAABAgQIECBAgAABgQFzgAABAgQIECBAgAABAgQIECBAgAABAgQIDEhAYGBAg62rBAgQIECAAAECBAgQIECAAAECBAgQIEBAYMAcIECAAAECBAgQIECAAAECBAgQIECAAAECAxIQGBjQYOsqAQIECBAgQIAAAQIECBAgQIAAAQIECBAQGDAHCBAgQIAAAQIECBAgQIAAAQIECBAgQIDAgAQEBgY02LpKgAABAgQIECBAgAABAgQIECBAgAABAgQEBswBAgQIECBAgAABAgQIECBAgAABAgQIECAwIAGBgQENtq4SIECAAAECBAgQIECAAAECBAgQIECAAAGBAXOAAAECBAgQIECAAAECBAgQIECAAAECBAgMSEBgYECDrasECBAgQIAAAQIECBAgQIAAAQIECBAgQEBgwBwgQIAAAQIECBAgQIAAAQIECBAgQIAAAQIDEhAYGNBg6yoBAgQIECBAgAABAgQIECBAgAABAgQIEBAYMAcIECBAgAABAgQIECBAgAABAgQIECBAgMCABAQGBjTYukqAAAECBAgQIECAAAECBAgQIECAAAECBAQGzAECBAgQIECAAAECBAgQIECAAAECBAgQIDAgAYGBAQ22rhIgQIAAAQIECBAgQIAAAQIECBAgQIAAAYEBc4AAAQIECBAgQIAAAQIECBAgQIAAAQIECAxIQGBgQIOtqwQIECBAgAABAgQIECBAgAABAgQIECBAQGDAHCBAgAABAgQIECBAgAABAgQIECBAgAABAgMSEBgY0GDrKgECBAgQIECAAAECBAgQIECAAAECBAgQEBgwBwgQIECAAAECBAgQIECAAAECBAgQIECAwIAEBAYGNNi6SoAAAQIECBAgQIAAAQIECBAgQIAAAQIEBAbMAQIECBAgQIAAAQIECBAgQIAAAQIECBAgMCABgYEBDbauEiBAgAABAgQIECBAgAABAgQIECBAgAABgQFzgAABAgQIECBAgAABAgQIECBAgAABAgQIDEhAYGBAg62rBAgQIECAAAECBAgQIECAAAECBAgQIEBAYMAcIECAAAECBAgQIECAAAECBAgQIECAAAECAxIQGBjQYOsqAQIECBAgQIAAAQIECBAgQIAAAQIECBAQGDAHCBAgQIAAAQIECBAgQIAAAQIECBAgQIDAgAQEBgY02LpKgAABAgQIECBAgAABAgQIECBAgAABAgQEBswBAgQIECBAgAABAgQIECBAgAABAgQIECAwIAGBgQENtq4SIECAAAECBAgQIECAAAECBAgQIECAAAGBAXOAAAECBAgQIECAAAECBAgQIECAAAECBAgMSEBgYECDrasECBAgQIAAAQIECBAgQIAAAQIECBAgQEBgwBwgQIAAAQIECBAgQIAAAQIECBAgQIAAAQIDEhAYGNBg6yoBAgQIECBAgAABAgQIECBAgAABAgQIEBAYMAcIECBAgAABAgQIECBAgAABAgQIECBAgMCABAQGBjTYukqAAAECBAgQIECAAAECBAgQIECAAAECBAQGzAECBAgQIECAAAECBAgQIECAAAECBAgQIDAgAYGBAQ22rhIgQIAAAQIECBAgQIAAAQIECBAgQIAAAYEBc4AAAQIECBAgQIAAAQIECBAgQIAAAQIECAxIQGBgQIOtqwQIECBAgAABAgQIECBAgAABAgQIECBAQGDAHCBAgAABAgQIECBAgAABAgQIECBAgAABAgMSEBgY0GDrKgECBAgQIECAAAECBAgQIECAAAECBAgQEBgwBwgQIECAAAECBAgQIECAAAECBAgQIECAwIAEBAYGNNi6SoAAAQIECBAgQIAAAQIECBAgQIAAAQIEBAbMAQIECBAgQIAAAQIECBAgQIAAAQIECBAgMCABgYEBDbauEiBAgAABAgQIECBAgAABAgQIECBAgAABgQFzgAABAgQIECBAgAABAgQIECBAgAABAgQIDEhAYGBAg62rBAgQIECAAAECBAgQIECAAAECBAgQIEBAYMAcIECAAAECBAgQIECAAAECBAgQIECAAAECAxIQGBjQYOsqAQIECBAgQIAAAQIECBAgQIAAAQIECBAQGDAHCBAgQIAAAQIECBAgQIAAAQIECBAgQIDAgAQEBgY02LpKgAABAgQIECBAgAABAgQIECBAgAABAgQEBswBAgQIECBAgAABAgQIECBAgAABAgQIECAwIAGBgQENtq4SIECAAAECBAgQIECAAAECBAgQIECAAAGBAXOAAAECBAgQIECAAAECBAgQIECAAAECBAgMSEBgYECDrasECBAgQIAAAQIECBAgQIAAAQIECBAgQEBgwBwgQIAAAQIECBAgQIAAAQIECBAgQIAAAQIDEhAYGNBg6yoBAgQIECBAgAABAgQIECBAgAABAgQIEBAYMAcIECBAgAABAgQIECBAgAABAgQIECBAgMCABAQGBjTYukqAAAECBAgQIECAAAECBAgQIECAAAECBAQGzAECBAgQIECAAAECBAgQIECAAAECBAgQIDAgAYGBAQ22rhIgQIAAAQIECBAgQIAAAQIECBAgQIAAAYEBc4AAAQIECBAgQIAAAQIDFVizbkPq+TmX35bS7bffPqX7Lts1pR95z5Ep9Q8BAgQIECBAgMDiEhAYWFzjqTcECBAgQIAAAQIECBCoLSAwUJtKRgIECBAgQIDAohIQGFhUw6kzBAgQmB2BV5/52UJjnnjiibT99lUvSekpq/YvHJ/WxvlX3ZGq/q+3f7dwiuXPfWbadiVkgcXGIhXYvOXx1LM3nPuFQg/jc1nYWWMjriTeZecdUu4D93lWSufrc12jibLUEIgF4fd99PaUe9L58OzdlqTye+/+jJT+1v/6vJT+9sEvSKl/Zlvgc7d/JzXwoqv+sdDQ+JxfdtpRhf02CBAgQIAAAQIEFoeAwMDiGEe9IECAwMwJCAzM3JBo0IAFBAYGPPhzdF1gYA6cAR0SGBjQYOsqAQIECBAgQGAbAYGBbTD8SYAAAQLdCZxwwXWpsu9v2lKo9MAX75G2P/jOwwr7p7VR1o43HblvOuW7jnvZtE6tXgIzI3D13/9zasvFn7qz0zbFs8jzSo8/7EVp1+mrD8gP2Z4hgbI7qrpqYlxxftIx+6Uqj1m5rKuq1dOhQNn3Q4yfOwY6xFYVAQIECBAgQGCGBAQGZmgwNIUAAQKLSaBsQV5gYDGNsr70RaBs4a9t+wUG2goubHmBgYX1n5Wzl30/CAzMyghpBwECBAgQIEBgOgICA9NxVSsBAgQGL3DOFbclgzVrN4y1+PhZr0n799pt57HH2+68ce39qYrzrhg9Ozuv7+JTR3csHLR8dAdDftz2eIHf++CadGD9fQ+lNBaG//TtB6ftI1fsPb6gvQsqULbwF42KBcDYLkvv3fDjwqF4Jn3MgzgY++PZ85eddnQ6tHTJ6J0EkW+xpvEotdzhqrNWzVSX43v6pq9tTO2K9sZ4xryI/XnjN295LO3K7wzL80V9vidymdnYLvt+iPF3x8B0xuniq7+WKr765nsLJ5jvdzEVTm6DAAECBAgQGJSAwMCghltnCRAgMH8CseAkMDB/5vNxJoGB+VDu/hxlC39xplgAjO2yVGCgTKa4X2Cg6CEwUPSYta2y74f4XhAYmM6ICQxMx1WtBAgQIECAQH0BgYH6VnISIECAQAOBO9Y/kHKffuktY0tN+xn/7/nQ6Lx3fmvUjmiEhY6QmCw95QNfTgXvuf9HhQpOf9OBaXv1K19Y2G9jNgTKFv6idV+66Pj4s1Yan++v/NPoSvNP3zS64rXsyvKlO++Y6v2rP3pVSp+3x9Ja5+lrpqPPuGZs05s6j62kw51lC5NNvydjPvzltd9IrYs7ivKmNq03L297OgJl3w/GazreUWvZo7yOXDm68+68kw6JrFICBAgQIECAwFQEBAamwqpSAgQIEIiFIoGBxTUXBAb6OZ5lC3/Rm6YL1vH5FhgIwWIqMDB61FhRZbvtLDTnIrOxXfb9YLymOz4CA9P1VTsBAgQIECBQLSAwUG0kBwECBAi0ECh7CfHy5z4z1fqR9xzZovbyomXnnfadCuUtWhxHBAb6OY5lC3/Rm6aBgSgX6eYtj6c/3/Ohr6a07IrxaX/uoz0LnfYlMFD2yLe2C8Jld2zFuJxz0uidJMesXBa7pAsoUPb90HYeLGCXenHq+Pzl7/j4Nwc/P7X/7BMO6kU/NJIAAQIECBDor4DAQH/HTssJECDQC4GyBfppLxCWnVdgoN20ERho57dQpcsW/qI9AgMh0U0qMDD+UW6hKzAQErORln0/CAxMd3wEBqbrq3YCBAgQIECgWkBgoNpIDgIECBBoIVD2DOuo8uNnvSb9udduO8euVumNa+9P5c+74vax9Vz7p69L+5cu2WHscTvnFhAYmNtnVo+WLfxFe9sGBqKeSMvmSRxf7O+kGHpgIO4gOe59n48hL6SeoV7gWPCNsu8HgYHpDk3+/4/iJd1HHLBXOrF3DEzXX+0ECBAgQIDAdtsJDJgFBAgQIDBVgfw/fPOTCQzkIrO9Xbbgu9gXemd7VKpbV7bwFyUFBkKim1RgYPRoKYGBbubTtGsp+34QGJiufP7/jwQGpuutdgIECBAgQOBfCwgM/GsTewgQIECgQ4F4Sel8vYQ4nm29dv2DqRdPPPFESi1wdDOoJ154Q6po4w8fLfgKDHTjO61ayhb+4nxdBwbic//HW985EJ/DON9i/zz2JTCQL0x2PT5lj3Sb9qPkoh/SegJl3w+L/XNaT2d6ueJRQmvWbiicZPXh+6Tt01cfUNhvgwABAgQIECDQtYDAQNei6iNAgACBgkAsEAoMFFh6uyEw0M+hK1v4i94IDIREN6nAwMhRYKCb+TTtWsq+HwQGpisvMDBdX7UTIECAAAEC1QICA9VGchAgQIBABwL5AlHcMh8LDx95z5EdnGW77fLzRKWTvnT4ew9sTlV88uZ7U3rrXd9PaX7FfJxn6c47pj+XL/u1lB5z4HNTuvqVL4wsnaRN2/Xs3Zak8+7//Gem9I2Hjq5IPGj5HmPb83sfXJP2r7/vobHHJ9056UtHI8D0ma+OxuGu747a9f1NW8Y2Jfq7y85PT8dfvvxZKX3XcS8bm7/pzlef+dlUJK6Ez6+Azsfnmlu+Xcgf83/l8t3T/g++87CUTuufsoW/OF/XgYGot2zhK45ffOqo32XzMPJVpX9x7ddTlm/d/+OU5ncM5eXje2evrZ+L333VvilL03bk8yA/T9PtmBd/d+EbmhadKH/Z+Oy9+zNSfVeeeexE9UahCCRuePCR2JXS8L/stKMK+/ONsjsa8u+RmN/X/Ld/TlXk31vxffD7r1+Rjh+zcll+qrHbGzeN7oy6cs36dPxr9/4wpfduGM2z+PxH4Ri/PZ+5U9p16K+PnhX/u1uvAH/eHksjaydpWfvuuf9HhfqjXeF+/G+Ofo/idyn8Lv7UnYVyTefBZdfdlcp/9LpvFuo58MWj35m233Nlv0v5fCicvMFGtP/OreNc9j2S/86v/s0XpbOUzauyedygaWOzurNgLIudBAgQIECAQAMBgYEGWLISIECAwOQC+YJ9vlAhMNDMNl94rgpYxMKYwIDAwLiZJjAgMLDtvGi6ILxt2W3/FhgQGPjFfBAY+Fr6WFy99QKDbT8jbf4WGGijpywBAgQIECDwCwGBAfOAAAECBOZFIK7Ey68kjJO3fQnxjWvvT1Wdd8XtUWVKIwDx2XNfm7aXLtmhcLxsI9r7X66/uyxL2p9fMVqW+bAVowWi809+RVmWWvvjys4PfHrtnPnL2hUeUfhtr9kv/XnKqv1jV0pjQa/szohC5gYbdd9FEIGPP9vaz7IrNxucOmWNAEnTK4fz8+SPiokrcc876TdS1j/+8FdTGnc05O55fdO+QjzmTX5FcLRjWoGBss9lnHfSO3miP1WfgzhP2echjkfa9HOaz4Oop206rfHI2xV3DNz0tY3pUDjFfK66oj+vL98+7twvpF2PbBm9jDjqP3Ll3mn/eScdkhcpbEf78mewx/fId37wcMr/qTX3FMqVbdQ9b1zhnd/pU1Zv7M8/59Hf2F/2fRvl66bxuXr/x/57KhLnqVs+8sV8f+X+z0m78u+HpvOgbLya1hPty9NTPvDltCu/IyLmQ9wBkZcr24470S646o6UJb6vI3+MW2xXOYdn/jtf5hL1TprWnc+T1q8cAQIECBAgsPgFBAYW/xjrIQECBGZCIBbaBQYEBn4xIasWcAQGuv3YxkJ6vvAXZ5nWQnQsYOYBuzivwEBIFNNpjUfxLNttFwuWAgNFGYGBkUfTBf2YT3kgp2k9xdH41ZbAwK8sfvGXwEDRwxYBAgQIECDQXEBgoLmZEgQIECAwgUAs9J500Y1jS0+6QBiVnX35renPW9aNrnyN/U0fYRABjKo7BeLZ8C96zi7pVJse/klKq55937Q90Y+qhd3IF1fEL10yetfBlp/+LB3Kn/Ed+SO94oxj0p/xDOxw+NGjoyt9o3//8K0HU77Njz4WRVMa/co9Cpme3Hjna1+adsV58uOxHY+e+sFDI9eyKzUn7W9cCfret46u8C97NnS0J0/zK8WjHZEvv/I0jsc7D/IrXhfrHQPhkXuF/xEHjO6kqbpyPOqJeVn1+Yz8++w9etdHbJc9Gz6ORxrzueqZ6LGAHJ+PKJ8vjMb+WMjbacenpV0/eWz0+Yzju+2yU/rz9NUHxK6pptH+uDI+TrbXs3ZOf076joGq76u3r3pJqj+/UynOH2nZQnOMz53feiCyFtJYiN68ZfQ9FZ/HqkevvOdDt6R6yuqNk8Qz5p/9zNG7W2J/3fk16e9dXOH+xx8a3ZEU582/H+PzFfM/d4hykcb3UzjF/qaPlCobrxiPtnegxJ1s+e9Z0zsG4t0MJ/7HG1JXy/zCIRxju2ycwz2/M2TNug2p6PV3fC+l8TmPRwDm/Qmv5+0x+hzGeaNcfN8cvXL0DqOmv19Rn5QAAQIECBAgIDBgDhAgQIDAvAgIDIyYY0GrasExH5SqhbbIHws8AgPFl52GT6SxgCMwMBKZ9hXqAgMjZ4GBkYPAwOidFk1fhi4wMFrIzxfSBQbqvUw7fv+kBAgQIECAAIEQEBgICSkBAgQIzIvA731wTTrP+vseKpxv0gXzqCSeZZ1fyV53ASpfcMmvIIz2/T9vGz0Tu+pdBXFlc9mjk+ouZERA5W1/9nepq3m7YoH7tN9ZmY6XPaJn89ZnfF/0qX9M+eLRIeFXVT7ydf0oh6g30rI7P+J43XHI+1t2BXcEUq46a1WcolaaL3SXFaq6QjmuJD1yxeiZ62X1tN1fFViadmAgrvTN31kR41kVKMs/n+ERn4f4HNQN9Hzu9u+kKv76uv+R0vxK6ai/7vdH5I+0bH5M2znOXzctu8K76ZXicb74vsrfsRHHY5zqvvPl/K3Pfr/uv4+utI7xjvoijc/xWScclHYdtHyPOJTSmD977jq6IyO/Yym+r+NOlPw8VfUXTvbkRl5fHI96w+HP33loOpS3N/Lnaf45iuNRb9X3TTj85bXfSEXjzqUoH/VFGleu173SP+ZT/L5EvU3rifPnaVe/P7ljtDPOV+UY+WKcP33zt9Ou+P8fdcuXeUUAse6dVNEeKQECBAgQIECgqYDAQFMx+QkQIECglYDAwIhPYGD8NBIYGO/Sdq/AQFFQYGDkEQuTeeBMYOCJwoQRGDiq4FG2EfNJYGCfRFT1SLAyL4GBshlmPwECBAgQINC1gMBA16LqI0CAAIE5BeIKu7Ir6fNn3c9Z2ZMH85ebxpWYUa7us9vzZ0tHPW2ftR3/4Z8vvC1/7jNTEz/yniOjqWPTeAb41Tffm45HuyJz3SukI3+kcaX6p7bWW3XFdpSLKy3bPsoh6os0rmQ9/dLRM75jf6RtF0pyx6g30qbP/C67InzS+qLctNJZCQzEvIl5XPfzFZ/PtetH77jInZpeeR3l486St1w4ekRJXPEb7XvGkh1S1mvPfW0UqZWWzY9Zu2Mg/1xEv+OZ6nWvFI/59bEbv5l88jswot6m75Qo+/6MQYgF+0t+//C0a6/dis9kj3xVabzTJG931N/0jqI4X/77FPvDI95VU/X9G9+P8W6BSa9wj/NHmo9/7I/21f18Rrmy+rq6Y6Dt70/ZeET7J71DKN5ZcMEnR3fk/e/Hjt6hUXUnSJlX3TsOot1SAgQIECBAgMCkAgIDk8opR4AAAQITCQgMjNgEBorTJxa+BAaKLl1txcLtxZ+6c2yV016wzhf0mi48CgyMHbbWO/OFyRgXgYERrcBAs5dQ5/MpJqjAQEgU0zIvgYGiky0CBAgQIEBgegICA9OzVTMBAgQIjBGIZ1CfdNGNY45ut13T/yAue/RM3WeXRyNefeZn05/5lZh1H/kT9eRpLHiXXelZtSBbdiVr2yvo83bW3Y5nPN+74cepSHi1dSpbIFm6847pPE2v2C7rT4xzHI/21w3URLmyK8Kb1hP1TTtd6MBA2byp+8iafNzC622v2S/9ecqq/WPXROlfXPv1VO5Ta+4plI+F8qZ35pTNj6rPe+Hk87BRdkV+9DuuGF/y9Kel1mz56c8KrcrfGVE4uM1G0+/jKBrtyx9N88vjJx2c/jxm5WQvX626gvziUw9L9Vdd+R3tKUvzwFZ874Rz1Z1tZd+PdcuXtSv2l9XfdEE/xiu/Q65pPdGuPI3vkXg3Qhyv+/tT9v8X2gaAoh1N0/DK5/dC/b43bb/8BAgQIECAQP8FBAb6P4Z6QIAAgV4JCAwUn11dtVAoMCAw0MUHXGBgbkWBgQ0FoFhwFhgQGPjFxKj7SKlY6BYYKHycSjfCS2CglMgBAgQIECBAYMoCAgNTBlY9AQIECIwXiCso7/zWA4UMTa/cO+7cL6Ty+bPB615JPF8LpmVXEFdd6ThpuQJqhxv5I2Gi6qp+RL6ytKzerq+cjCtjr7nl22ObUnXlbhQqG5ePn/WalGXSZ51H/V2n8zXPy9qdj28sPFc9siba/YFPr01Vx5XWcZ6m7ySJcmVp2bg2vZOprJ6qQGBZu6a1PxYmYyE3xqXp+WJc8vJN3ymQnzf/vMZ5DluxV8p6/smvyIs02s77H4Wb/g5FubI05nE8yiucoj/nVNz58HsfXJOqXn/fQymN8nXfUVDWrthf1r4IDF155rGRdc60zLOrOwby75FoTN3fn7x8OLadp9GOpmnM7/wdQgvVnqbtl58AAQIECBDov4DAQP/HUA8IECDQSwGBgdGwVS1olC0wVpWb1qTIF1biPG3bU1avwEAIt0vzhb+8tmkvWOfjGwtyAgP5SMzvdr6QG+PStBWxwJ2Xb7vAGQunEciL8wgMbJ+GSGBgNFPr/v6UfQ+1nadNPy+RP+a3wECISAkQIECAAIH5FhAYmG9x5yNAgACBJFD1EuKqZzuXPRu66ZWe+X+Yx/DEs+2PPei5ademh38Sh1K62y471dof+WJhKyqJBa6yBY2qhdyFujI9nvHc9TsGygIgb1/1kkTW9hny4V7mGguabe8YmPYCe/SjaVrW76hn2u2OR2L94KHR5yjmf1XgJxau80dtxOezq3dPhEMsHObPzq9qZ5SPtGw+T9s5zl83Lfv+i/LxuYjtPN3zmaPvwac+5Snp0GErnpPS3z1835S2vXMmxj/uaIjzNx2PKJenZeM96TsR8vrz7bJ5UfY7EOXzdsb+4w97Ufrz9NUHxK6J0rLvh7rvAImTls2npvVEfXkavz+TvmOgzL/r35m83WXb+fyOz1tX41p2XvsJECBAgAABAiEgMBASUgIECBCYVwGBgdG7BsoWhMoWamKQBAZColla5hoLMgIDzTzr5hYYGEkJDNSdMaN8+cJplBYYGEl0tYBc9r3YdEFfYCBmaL00n9/xO9TVuNZrhVwECBAgQIDAkAUEBoY8+vpOgACBGRB49ZmfTa2IK4ijSVXP9D778ltT1lvWbYwiKW36iIn8P8wLldXYiP+Qz9ufFy3LN2lgYKEWGOPK1Q0PPlLoYlk/Cpnm2Ci7krNtvfkpyxbAIl9d17L21i0f55uvtKt+T9re3Cs+D1WP8IiFxvyOm6bPPq/b7pjfccdAlKtqZ+SLNO9v7J+1+ZF//8W4TMs3HOqmefuiXNXvQ+SrSrsa76rzxPGyeVH1PVf2O1lVLs5blebfDzEPqh71lddbNl6z8o6BSf3zfna1nXuFe9Pvm67aox4CBAgQIEBgeAICA8Mbcz0mQIDATAmULXhULfwIDBy/IOMYC2kCA9eM9Z+1hd9oZL7wF/sjnXa78wW5ugtgAgMxQtNJyxYmBQZGLzc+76RDOoXPPwdRedUCf9nvZFW5qL8qzb8f4vMpMFAl1+542edPYKCdq9IECBAgQIBAfQGBgfpWchIgQIDAFAQmfQnxced+IbVm86OPFVp1zkkHp+1jVi4r7C/biP8wz59hXpa/q/2x8PLn7zw0VXnQ8j0KVecLNYWDT25MeyE3P19sxzOe5+sdA10tfEX7u3ItW+BbqHGJ/pWlXfW7rP6y/WXvAon8VeMbn894xnx8bqa1cB2Br/yOgaaP9ujL/Ajf/Puv6SNkYjy7TiMwFC9njfq7epRQ/n0W9Tcd7yhXlZbNi6rPwaTlqtoTx8u+H5rOg2nPpxivrt8xUOUfTl2nZfO76sKIrtuhPgIECBAgQGC4AgIDwx17PSdAgMBMCAgMCAz8YiJOe+ErJnvZAlgcr7uwX9beuuXjfPOVdtXvpu0VGCiKzdr8mPZCbrH3zbfKFk4FBkaWXS1ol30/CAw0n7NNSpTNb4GBJoryEiBAgAABAm0EBAba6ClLgAABAq0FyhYkouKLTz0s/RlX1JctNC7deceU79pzXxtFa6Vl/2HedEGk1skaZKpyWagFxriier4eJfSmI/dNau867mUN9MqzduUqMFBuvO2R/JFfccV/5Kl62XPZ5/PZuy1JVVx11qqoqpM05nd+x0DTR3v0ZX7kvjE+07ojo+kgReAiv2Ok6XiUnTfGO/8+O/DFozu4PvjO0e9PWfmm+8vmRdUCf9kdcl0FSPLvxZgHTR8lFPMpfydI03rKXMvGq8ov6pvUP8p3nebzO+pv+q6kKCclQIAAAQIECDQVEBhoKiY/AQIECHQqkC9I5JULDNyZk6RtgYGxLJU7q+ZbXdeyBaa65Ssb2nGGrvrdtFkCA0WxWZsfsZAbj+qJBWGBAYGBX8zcpgv6MZ8EBoqf+7ItgYEyGfsJECBAgACB+RIQGJgvaechQIAAgTkFyq6IzG+pzxcao9JJr7BbqAXTaHdZesf6B9Kh0y+9ZWyWuldIji3cYmc847nrdwyccMF1qVXf37Sl0LpJx7VQyTYbZQsxTa9AFxjYBnXMn997YHPa+7Y/+7vC0SeeeCJt170i+7Lr7kr5P3rdNwv1xMYVZxyT/nzeHktjV6s0XvIalUR7/+ANK9KuNx+xPA7NmfZlfpR9HvZdtmvq32WnHTVnP6d9MNoX70CI83X1DoC8/hjvpt8H0a6ytOp3pmoex5XycSdLtLOr78ey9jW9cy484w6P8GhaT5TL0/j9mfQdA2Wf767uvMjbW7UdXjG/Y1zz/99TVY/jBAgQIECAAIFJBQQGJpVTjgABAgQ6FRAYKHIKDIw8ulr4Ct1YiMkXrpouBPZl4Tf6XbbwF8e7vpJdYOCaoC2kXTsXKp9go+zzIDDQ7aOqqj5/AgP1Jq/AQD0nuQgQIECAAAECdQUEBupKyUeAAAECUxUouxMgX7AtCyDkjxyq29hYwDzpohvHFjnnpIPT/mNWLht7fNo74wrHuJIwzlf3iuvI31UaV67mz+RuewdD/hLqeKRJtLvqWfSRryotmz9NAxACA3NL5+MZuWNc//yd41+6HfkirQqQvX3VS1LWU1btH0UmSru+M6Ev8yMe/TKrjxLK2xeD29UV3lXjPunvSrQz0rLPQ/77FvnztCyAM+m7dfL68/bF57Tpo4Q+cdP6VPV//uy6wimivkm/xzduejTV939+cE1KNz/6WKH+ur8/eT+jkrrjEPm7Ssvmd9Pfo67aox4CBAgQIEBgeAICA8Mbcz0mQIDATAoIDIwfFoGBkcukC0q5qsDA/LyzomwBLhYIBQbymbkw2/nCZIzPrLxjIG9fKAkMjCQEBkYOAgPxyZASIECAAAECBJoJCAw085KbAAECBKYkcOPa+1PN511x+9gzxJXB+bPGu7rSr+xK+IV+pEbVAuuH3nNk8tpv6zPBx+KN2Rl3SvzJR/4+HT3j3x6Y0oOWj166OaZI2hWPcsjfMdB2oS6u3P0v19+dzhN3SMRCZdtnipctMEY/m14Z3JcrwqN/VY8y6eoRNzFf165/sDCO0Y5J50nZOyhiflz5745Np9hrt53jVLXS+By0fRdCfrKy+VF3ATOvb1rbZVeiL/T3XvS3rH1dPYM9xr/sjrG2z8av+7tWdcdLfD/mv3/hFL+PVfVE/kjj83rnt0bvtIn9kTbtf1f9jfPHHUMXXHVH2pW/gyby1f1cTcsx2hEXOLx42a+lXVXjEflvWbcxqkhpU/dCYRsECBAgQIAAgQYCAgMNsGQlQIAAgekJ1F1QyBdGBAYEBurMSoGBf05MF39quncMxEKjwMD4dwzUXcCsM6e7yFO28C4wMNJtu0Bb93etagF5Wgva8XkVGBiN96QBlvgsxkK/wECISAkQIECAAIFZFxAYmPUR0j4CBAgMTKDsUS9xZXBcSR4sXV05WnVFdTzT/09+Z2U69fP2WBpNqJXGM5I/efM9Kf+KFzwrpVXvLogrJk+/9Jax5wmX07a2a/UrXzg2X1wZ+8mb703Hr7nl24V8VeUjc76QFOd/xpIdUpa/+qNXpTT3iX7suetOY49H/WV3bsR5jjhgr5T1na996Zz1RH8/9IV/Svnylw3H+SZ9lnPZFeFdXXkf7esqrZrfTdsdvv/1ju+lJn765m+nNH/2d7Q/AniX/P7haVfTK/ur2h/1v/WY0TsHyj4H0Z6o72M3fjPt+sFDP4lDhbTuI48KhZ7cKHsEWNVCcywkV30v5OebdLssYFbVzknP17RcWfsm/dyWnT8PkMT3TeSPQMkfHffraVfVnVWxkJ/fARX1xXy96qxVsatWWnXnzNtes1+qpyzQEN/DF/3NKECYvysmGhH9b/qOgShf9Tte9XtT5RfnibRpwK2qfXXvUIt2xvffI1seT02K36nzTjokmjg2jfL5BQ/h/963/kYql38fxPfvD340+t6qmo9jT24nAQIECBAgQOBJAYEB04AAAQIEZkqg6j/YBQaKwxULCFULLbGQIDBQ9Jt0gVFgYHOCFBgozqfYEhgIiXapwEDRT2Cg6BFbAgNzPwIwnKQECBAgQIAAgVxAYCAXsU2AAAECCyqQX7lZ1Zimz4avqi8eBZA/8zfKxUL8AfuOrvh/5jN2jEMp3W2X0RXx3/6fD6ftuCIzfzZy02et13WJ9sXLQ6Nx0Y7YztNzTjo47cqvTMzzlV3hGPny8//8X/4lHYr+Vy3grFm3IeV/30eL75rIA0JxvriyObbz88X+PI0rdie9gn2xBQbC46lPeUpOVdiu6xuF4krr808eXTnb9E6BqCfS/I6V2J+n+TyM4xt/+Gj6s2w+Rb62jxSJdpY9UileGrvL1jttHt56pXHccdH0Do5od9O07Psuxu2y045qWmWn+cva19WdYtHYuKPr3X91c9oV31dxPE/LPi9V37MxL8uuBM/Pk2/HnS5ljwSL/Pn8qvrcxh1x+SOF4vv1yjNH7/CI+qvS+J0ou2MiyueOZZ/PcFu5fPdUNG9n1e9KnC/Suo5x3vz3NNoZ9UUa3yt152fcwVF2R2DUG+MQ2zHPmv7/iCgvJUCAAAECBAiEgMBASEgJECBAYCYE6i6AR2MFBkJilJYtZMRCQjH3r7YEBpq9tFZgYMuvJs8cf8UCs8DAEwWlfOFWYKDA88sNgYFfUqQ/6i5o5/NLYGAyx7LfU4GBoqctAgQIECBAoL8CAgP9HTstJ0CAwKIUuPv+H6V+veMDX56zf3GlYdNnNM9Z6TYH4xEW8Sz+uBJwmyyt/qx7RWF+kmjX1VvfFZAfj4WM2F/W7shX9UzqqCdPq94FEPnz89e9sjPuHPjLa76eqiq7gjf6UXa+2B9pPDroD18/elZ4/i6EyFeVLrbAQO6Y9z8fx/x4bEc9k86rqKcqLfscxPmryuf9iYXUd7xu9O6KqncUVNUfV6Cf+B9vSFnz81WVn687Bsoc4wrlpleKV/Wr6fGy9sXn+PyTX9G0yjnzx7idf9UdKV/c8VFWKOZb1fiG5xn/9sBUVdtnwte9Ir+q3fnnNL7Xol+TvmMgzht3zuRX+MfxSON8sR2e8Tv/R8e/LB26fus7TfJ3xtT9XYn6I/3ETevTn3917TdSGueN43m7Yn+kef5J52XVBRFl7aj7LoNor5QAAQIECBAgkAsIDOQitgkQIEBgQQUEBubmL1soi1L5AkK+cJHnyxeG4nhVKjBwzVii+VrQHXvyOXZWXWmcz5u8qrJ5lOeLeiadV3l9Zdtln4M4f1m52J/3R2Bg9FLy8ImFbIGBB4NkbBrzLZ9PeebwFBjIZUbb4RhHw1NgYLxPOAkMhISUAAECBAgQmFRAYGBSOeUIECBAYKoCZQvPcdI/eMOK9Oebj1geu6aSxhWkV64ZXVl4613fT+eJRwnEAkZ+8ljQiGe2v2L/Z6csB+4zekZy1bP88/ry7Xg28We+OlrQu+u7D6Us+ZX1seASV34esM/o3QgnHjlym/SZ7+Hyn/52XTrv3ff9OKX5I4vCIRbG/uR3VqZ8Ta/Ujytkv7Luf6bym7c8ltK8v2nnk//E+fZ77q+lXW88dJ+Utr1SN+qPK2tjO9JZDQzEy6ff9md/l5paNm+jH2VpLKDHs/HDd8ULR/Nq2p/HvF3xOfjkV+5Jh+7dOHq3R3w+I3/0N+bj0iWjd4O8asVzUpZTVu0fWTtNo31/fcM3U73x+cjnbbRr/+c/M+U776TROxk6bcyYysoCLJNe+TzmFK12lbVv0juumjYmAmo33nlfKlo2flFvjGN8/6z+zRelQ22/76P+PG06v168bNdUxf+x6n9J6X5bt6Pe4879Qvoz3nUR7x744DsPiywTpeF4zX/751T+nq13BkZl8flc/tzR/D/810e/l/nnsmw+1H0UXpwvT+P3LP+dj/HO88f4xvff2455ScqSe+blqrbjd+66fxjNt/geC5/4PY93LUx7flW113ECBAgQIECg/wICA/0fQz0gQIDAohQQGJh7WGNBSGBg/LPu84UbgYHNaUIJDCxJDgIDo++XsoVWgYGRTyxoCwwIDIxmxOjf/PdFYGBbHX8TIECAAAECfRIQGOjTaGkrAQIECBAgQIAAAQIECBAgQIAAAQIECBBoKSAw0BJQcQIECBAgQIAAAQIECBAgQIAAAQIECBAg0CcBgYE+jZa2EiBAgAABAgQIECBAgAABAgQIECBAgACBlgICAy0BFSdAgAABAgQIECBAgAABAgQIECBAgAABAn0SEBjo02hpKwECBAgQIECAAAECBAgQIECAAAECBAgQaCkgMNASUHECBAgQIECAAAECBAgQIECAAAECBAgQINAnAYGBPo2WthIgQIAAAQIECBAgQIAAAQIECBAgQIAAgZYCAgMtARUnQIAAAQIECBAgQIAAAQIECBAgQIAAAQJ9EhAY6NNoaSsBAgQIECBAgAABAgQIECBAgAABAgQIEGgpIDDQElBxAgQIECBAgAABAgQIECBAgAABAgQIECDQJwGBgT6NlrYSIECAAAECBAgQIECAAAECBAgQIECAAIGWAgIDLQEVJ0CAAAECBAgQIECAAAECBAgQIECAAAECfRIQGOjTaGkrAQIECBAgQIAAAQIECBAgQIAAAQIECBBoKSAw0BJQcQIECBAgQIAAAQIECBAgQIAAAQIECBAg0CcBgYE+jZa2EiBAgAABAgQIECBAgAABAgQIECBAgACBlgICAy0BFSdAgAABAgQIECBAgAABAgQIECBAgAABAn0SEBjo02hpKwECBAgQIECAAAECBAgQIECAAAECBAgQaCkgMNASUHECBAgQIECAAAECBAgQIECAAAECBAgQINAnAYGBPo2WthIgQIAAAQIECBAgQIAAAQIECBAgQIAAgZYCAgMtARUnQIAAAQIECBAgQIAAAQIECBAgQIAAAQJ9EhAY6NNoaSsBAgQIECBAgAABAgQIECBAgAABAgQIEGgpIDDQElBxAgQIECBAgAABAgQIECBAgAABAgQIECDQJwGBgT6NlrYSIECAAAECBAgQIECAAAECBAgQIECAAIGWAgIDLQEVJ0CAAAECBAgQIECAAAECBAgQIECAAAECfRIQGOjTaGkrAQIECBAgQIAAAQIECBAgQIAAAQIECBBoKSAw0BJQcQIECBAgQIAAAQIECBAgQIAAAQIECBAg0CcBgYE+jZa2EiBAgAABAgQIECBAgAABAgQIECBAgACBlgICAy0BFSdAgAABAgQIECBAgAABAgQIECBAgAABAn0SEBjo02hpKwECBAgQIECAAAECBAgQIECAAAECBAgQaCkgMNASUHECBAgQIECAAAECBAgQIECAAAECBAgQINAnAYGBPo2WthIgQIAAAQIECBAgQIAAAQIECBAgQIAAgZYCAgMtARUnQIAAAQIECBAgQIAAAQIECBAgQIAAAQJ9EhAY6NNoaSsBAgQIECBAgAABAgQIECBAgAABAgQIEGgpIDDQElBxAgQIECBAgAABAgQIECBAgAABAgQIECDQJwGBgT6NlrYSIECAAAECBAgQIECAAAECBAgQIECAAIGWAgIDLQEVJ0CAAAECBAgQIECAAAECBAgQIECAAAECfRIQGOjTaGkrAQIECBAgQIAAAQIECBAgQIAAAQIECBBoKSAw0BJQcQIECBAgQIAAAQIECBAgQIAAAQIECBAg0CcBgYE+jZa2EiBAgAABAgQIECBAgAABAgQIECBAgACBlgICAy0BFSdAgAABAgQIECBAgAABAgQIECBAgAABAn0SEBjo02hpKwECBAgQIECAAAECBAgQIECAAAECBAgQaCkgMNASUHECBAgQIECAAAECBAgQIECAAAECBAgQINAnAYGBPo2WthIgQIAAAQIECBAgQIAAAQIECBAgQIAAgZYCAgMtARUnQIAAAQIECBAgQIAAAQIECBAgQIAAAQJ9EhAY6NNoaSsBAgQIECBAgAABAgQIECBAgAABAgQIEGgpIDDQElBxAgQIECBAgAABAgQIECBAgAABAgQIECDQJwGBgT6NlrYSIECAAAECBAgQIECAAAECBAgQIECAAIGWAgIDLQEVJ0CAAAECBAgQIECAAAECBAgQIECAAAECfRIQGOjTaGkrAQIECBAgQIAAAQIECBAgQIAAAQIECBBoKSAw0BJQcQIECBAgQIAAAQIECBAgQIAAAQIECBAg0CcBgYE+jZa2EiBAgAABAgQIECBAgAABAgQIECBAgACBlgICAy0BFSdAgAABAgQIECBAgAABAgQIECBAgAABAn0SEBjo02hpKwECBAgQIECAAAECBAgQIECAAAECBAgQaCkgMNASUHECBAgQIECAAAECBAgQIECAAAECBAgQINAnAYGBPo2WthIgQIAAAQIECBAgQIAAAQIECBAgQIAAgZYCAgMtARUnQIAAAQIECBAgQIAAAQIECBAgQIAAAQJ9EhAY6NNoaSsBAgQIECBAgAABAgQIECBAgAABAgQIEGgpIDDQElBxAgQIECBAgAABAgQIECBAgAABAgQIECDQJwGBgT6NlrYSIECAAAECBAgQIECAAAECBAgQIECAAIGWAgIDLQEVJ0CAAAECBAgQIECAAAECBAgQIECAAAECfRIQGOjTaGkrAQIECBAgQIAAAQIECBAgQIAAAQIECBBoKSAw0BJQcQIECBAgQIAAAQIECBAgQIAAAQIECBAg0CcBgYE+jZa2EiBAgAABAgQIECBAgAABAgQIECBAgACBlgICAy0BFSdAgAABAgQIECBAgAABAgQIECBAgAABAn0SEBjo02hpKwECBAgQIECAAAECBAgQIECAAAECBAgQaCkgMNASUHECBAgQIECAAAECBAgQIECAAAECBAgQINAnAYGBPo2WthIgQIAAAQIECBAgQIAAAQIECBAgQIAAgZYCAgMtARUnQIAAAQIECBAgQIAAAQIECBAgQIAAAQJ9EhAY6NNoaSsBAgQIECBAgAABAgQIECBAgAABAgQIEGgpIDDQElBxAgQIECBAgAABAgQIECBAgAABAgQIECDQJwGBgT6NlrYSIECAAAECBAgQIECAAAECBAgQIECAAIGWAgIDLQEVJ0CAAAECBAgQIECAAAECBAgQIECAAAECfRIQGOjTaGkrAQIECBAgQIAAAQIECBAgQIAAAQIECBBoKSAw0BJQcQIECBAgQIAAAQIECBAgQIAAAQIECBAg0CcBgYE+jZa2EiBAgAABAgQIECBAgAABAgQIECBAgACBlgICAy0BFSdAgAABAgQIECBAgAABAgQIECBAgAABAn0SEBjo02hpKwECBAgQIECAAAECBAgQIECAAAECBAgQaCkgMNASUHECBAgQIECAAAECBAgQIECAAAECBAgQINAnAYGBPo2WthIgQIAAAQIECBAgQIAAAQIECBAgQIAAgZYCAgMtARUnQIAAAQIECBAgQIAAAQIECBAgQIAAAQJ9EhAY6NNoaSsBAgQIECBAgAABAgQIECBAgAABAgQIEGgpIDDQElBxAgQIECBAgAABAgQIECBAgAABAgQIECDQJwGBgT6NlrYSIECAAAECBAgQIECAAAECBAgQIECAAIGWAgIDLQEVJ0CAAAECBAgQIECAAAECBAgQIECAAAECfRIQGOjTaGkrAQIECBAgQIAAAQIECBAgQIAAAQIECBBoKSAw0BJQcQIECBAgQIAAAQIECBAgQIAAAQIECBAg0CcBgYE+jZa2EiBAgAABAgQIECBAgAABAgQIECBAgACBlgICAy0BFSdAgAABAgQIECBAgAABAgQIECBAgAABAn0SEBjo02hpKwECBAgQIECAAAECBAgQIECAAAECBAgQaCkgMNASUHECBAgQIECAAAECBAgQIECAAAECBAgQINAnAYGBPo2WthIgQIAAAQIECBAgQIAAAQIECBAgQIAAgZYCAgMtARUnQIAAdtlvTAAAJjhJREFUAQIECBAgQIAAAQIECBAgQIAAAQJ9EhAY6NNoaSsBAgQIECBAgAABAgQIECBAgAABAgQIEGgpIDDQElBxAgQIECBAgAABAgQIECBAgAABAgQIECDQJwGBgT6NlrYSIECAAAECBAgQIECAAAECBAgQIECAAIGWAgIDLQEVJ0CAAAECBAgQIECAAAECBAgQIECAAAECfRIQGOjTaGkrAQIECBAgQIAAAQIECBAgQIAAAQIECBBoKSAw0BJQcQIECBAgQIAAAQIECBAgQIAAAQIECBAg0CcBgYE+jZa2EiBAgAABAgQIECBAgAABAgQIECBAgACBlgICAy0BFSdAgAABAgQIECBAgAABAgQIECBAgAABAn0SEBjo02hpKwECBAgQIECAAAECBAgQIECAAAECBAgQaCkgMNASUHECBAgQIECAAAECBAgQIECAAAECBAgQINAnAYGBPo2WthIgQIAAAQIECBAgQIAAAQIECBAgQIAAgZYCAgMtARUnQIAAAQIECBAgQIAAAQIECBAgQIAAAQJ9EhAY6NNoaSsBAgQIECBAgAABAgQIECBAgAABAgQIEGgpIDDQElBxAgQIECBAgAABAgQIECBAgAABAgQIECDQJwGBgT6NlrYSIECAAAECBAgQIECAAAECBAgQIECAAIGWAgIDLQEVJ0CAAAECBAgQIECAAAECBAgQIECAAAECfRIQGOjTaGkrAQIECBAgQIAAAQIECBAgQIAAAQIECBBoKSAw0BJQcQIECBAgQIAAAQIECBAgQIAAAQIECBAg0CcBgYE+jZa2EiBAgAABAgQIECBAgAABAgQIECBAgACBlgICAy0BFSdAgAABAgQIECBAgAABAgQIECBAgAABAn0SEBjo02hpKwECBAgQIECAAAECBAgQIECAAAECBAgQaCkgMNASUHECBAgQIECAAAECBAgQIECAAAECBAgQINAnAYGBPo2WthIgQIAAAQIECBAgQIAAAQIECBAgQIAAgZYCAgMtARUnQIAAAQIECBAgQIAAAQIECBAgQIAAAQJ9EhAY6NNoaSsBAgQIECBAgAABAgQIECBAgAABAgQIEGgpIDDQElBxAgQIECBAgAABAgQIECBAgAABAgQIECDQJwGBgT6NlrYSIECAAAECBAgQIECAAAECBAgQIECAAIGWAgIDLQEVJ0CAAAECBAgQIECAAAECBAgQIECAAAECfRIQGOjTaGkrAQIECBAgQIAAAQIECBAgQIAAAQIECBBoKSAw0BJQcQIECBAgQIAAAQIECBAgQIAAAQIECBAg0CcBgYE+jZa2EiBAgAABAgQIECBAgAABAgQIECBAgACBlgICAy0BFSdAgAABAgQIECBAgAABAgQIECBAgAABAn0SEBjo02hpKwECBAgQIECAAAECBAgQIECAAAECBAgQaCkgMNASUHECBAgQIECAAAECBAgQIECAAAECBAgQINAnAYGBPo2WthIgQIAAAQIECBAgQIAAAQIECBAgQIAAgZYCAgMtARUnQIAAAQIECBAgQIAAAQIECBAgQIAAAQJ9EhAY6NNoaSsBAgQIECBAgAABAgQIECBAgAABAgQIEGgpIDDQElBxAgQIECBAgAABAgQIECBAgAABAgQIECDQJwGBgT6NlrYSIECAAAECBAgQIECAAAECBAgQIECAAIGWAgIDLQEVJ0CAAAECBAgQIECAAAECBAgQIECAAAECfRIQGOjTaGkrAQIECBAgQIAAAQIECBAgQIAAAQIECBBoKSAw0BJQcQIECBAgQIAAAQIECBAgQIAAAQIECBAg0CcBgYE+jZa2EiBAgAABAgQIECBAgAABAgQIECBAgACBlgICAy0BFSdAgAABAgQIECBAgAABAgQIECBAgAABAn0SEBjo02hpKwECBAgQIECAAAECBAgQIECAAAECBAgQaCkgMNASUHECBAgQIECAAAECBAgQIECAAAECBAgQINAnAYGBPo2WthIgQIAAAQIECBAgQIAAAQIECBAgQIAAgZYCAgMtARUnQIAAAQIECBAgQIAAAQIECBAgQIAAAQJ9EhAY6NNoaSsBAgQIECBAgAABAgQIECBAgAABAgQIEGgpIDDQElBxAgQIECBAgAABAgQIECBAgAABAgQIECDQJwGBgT6NlrYSIECAAAECBAgQIECAAAECBAgQIECAAIGWAgIDLQEVJ0CAAAECBAgQIECAAAECBAgQIECAAAECfRIQGOjTaGkrAQIECBAgQIAAAQIECBAgQIAAAQIECBBoKSAw0BJQcQIECBAgQIAAAQIECBAgQIAAAQIECBAg0CcBgYE+jZa2EiBAgAABAgQIECBAgAABAgQIECBAgACBlgICAy0BFSdAgAABAgQIECBAgAABAgQIECBAgAABAn0SEBjo02hpKwECBAgQIECAAAECBAgQIECAAAECBAgQaCkgMNASUHECBAgQIECAAAECBAgQIECAAAECBAgQINAnAYGBPo2WthIgQIAAAQIECBAgQIAAAQIECBAgQIAAgZYCAgMtARUnQIAAAQIECBAgQIAAAQIECBAgQIAAAQJ9EhAY6NNoaSsBAgQIECBAgAABAgQIECBAgAABAgQIEGgpIDDQElBxAgQIECBAgAABAgQIECBAgAABAgQIECDQJwGBgT6NlrYSIECAAAECBAgQIECAAAECBAgQIECAAIGWAgIDLQEVJ0CAAAECBAgQIECAAAECBAgQIECAAAECfRIQGOjTaGkrAQKLWuCO9Q+k/m165LGUHrNy2aLur84RIECAAAECBAgQIECAAAECBAgsjIDAwMK4OysBAgT+lYDAwL8isYMAAQIECBAgQIAAAQIECBAgQGAKAgIDU0BVJQECBOoI3H3/j1K2v7x2XUrv/NbojoG9d39G2r7yzGPrVCMPAQIECBAgQIAAAQIECBAgQIAAgUYCAgONuGQmQIBAdwICA91ZqokAAQIECBAgQIAAAQIECBAgQKC+gMBAfSs5CRAg0Epg46ZHU/kr16xP6TW3fDulTzzxRErjH3cMhISUAAECBAgQIECAAAECBAgQIEBgGgICA9NQVScBAgTGCAgMjEGxiwABAgQIECBAgAABAgQIECBAYN4FBAbmndwJCRAYmkA8MujfX35r6vpez9q5QLB2/YOFbXcMFDhsECBAgAABAgQIECBAgAABAgQIdCwgMNAxqOoIECCQCwgM5CK2CRAgQIAAAQIECBAgQIAAAQIEFlJAYGAh9Z2bwMAF4tE6n7v9O0niH+8ZXTm//fbbp+0/+Z2VKX3eHktTesf6B1L6ma/em9IfPfp4Sl/0nF1SevrqA1I6a/9s3jJq599u7efrD35BauJDj/w0pSdddGOhye4YKHDYIECAAAECBAgQIECAAAECBAgQ6FhAYKBjUNURIFBfQGBAYKD+bJGTAAECBAgQIECAAAECBAgQIECgKwGBga4k1UOAQG2BCAhccs3XU5nNPxldUZ8/a//AF++Rjh/20uek9OZvbEzpxh8+mtLvb9qS0vjn9DcdmP5c/coXxq6ZTuMRQ+/4wJcL7XTHQIHDBgECBAgQIECAAAECBAgQIECAQMcCAgMdg6qOAIFqAYGBkZHAQPVckYMAAQIECBAgQIAAAQIECBAgQKB7AYGB7k3VSIBATYFP3LQ+5XzzEctT+u5Lb05p3DkQ7xo49NdHdwycfcJB6fiGTaM7BvIr7Vcfvk86PqvvGkiN2+af7z2wOW15x8A2KP4kQIAAAQIECBAgQIAAAQIECBCYuoDAwNSJnYAAgTIBgQGBgbK5YT8BAgQIECBAgAABAgQIECBAgMD0BAQGpmerZgIEGgocd+4XUonNjz6W0qU775jSa899baGmG9fen7bPu+L2wv4/eMOKtB13IBQOPrkRj+75xncfyg+12n7BHjun8gct37NRPdGe/M6HfZftmuq57LSjGtUnMwECBAgQIECAAAECBAgQIECAAIE6AgIDdZTkIUBgXgQEBkbMAgPzMt2chAABAgQIECBAgAABAgQIECAwWAGBgcEOvY4TmB2Bsmftl70z4LLr7kqN/+h13yx04pyTDk7bx6xcVtgfGxdf/bX059U33xu7OklXLt891XPJqYc3qq/sjoG9d39GqufKM49tVJ/MBAgQIECAAAECBAgQIECAAAECBOoICAzUUZKHAIGpCggMfLngKzBQ4LBBgAABAgQIECBAgAABAgQIECDQsYDAQMegqiNAoLlA2R0A7z/5kFTZESv2LlT67ktvTttr1z9Y2P+li44vbOcbGzc9mu/qdHuv3UbvGqhbqTsG6krJR4AAAQIECBAgQIAAAQIECBAg0KWAwECXmuoiQGAiAYEBdwxMNHEUIkCAAAECBAgQIECAAAECBAgQmEhAYGAiNoUIEOhS4JwrbkvVrVm7oVDtx896TdrOr8Q/+oxrCvkmfcZ/oZIF2HDHwAKgOyUBAgQIECBAgAABAgQIECBAgMB2AgMmAQECCy4gMOCOgQWfhBpAgAABAgQIECBAgAABAgQIEBiQgMDAgAZbVwnMqsAJF1yXmvb9TVtS+uzdlqT0qrNWFZp8x/ofpO3TL/1qYf+bjtw3bb/ruJelNN4lkN9pUCg0Axtldwzsu2zX1LrLTjtqBlqpCQQIECBAgAABAgQIECBAgAABAotNQGBgsY2o/hDooYDAQPGOAYGBHk5iTSZAgAABAgQIECBAgAABAgQI9EhAYKBHg6WpBBabwOYtj6cuHfe+zxe6VvbOgBvX3p/ynXfF7YX8qw/fJ23vuvMOKf3Hex5M6SWnHl7IN2sbn7hpfWrSf/7sukLTtt9++7R95b87NqWzfudDofE2CBAgQIAAAQIECBAgQIAAAQIEZl5AYGDmh0gDCSxeAYEBgYHFO7v1jAABAgQIECBAgAABAgQIECAwuwICA7M7NlpGYNELlN0B8PZVL0l9P2XV/gWDCCS85cIb0v7Njz5WOB53Gpx9wkFp/6xdaX/i1nZvevgnqX0/eeznhfaXbcQ7F956zMhl9StfWJbVfgIECBAgQIAAAQIECBAgQIAAAQKVAgIDlUQyECAwLQGBAYGBac0t9RIgQIAAAQIECBAgQIAAAQIECJQLCAyU2zhCgMA8C2zc9Gg6Y90r/e9Y/4OUf+mSHVO637Jd57nF7U6X9zffjjskli4ZvTshP97u7EoTIECAAAECBAgQIECAAAECBAgMVUBgYKgjr98EZlCg6cK3wMAMDqImESBAgAABAgQIECBAgAABAgQIzLyAwMDMD5EGEiBAgAABAgQIECBAgAABAgQIECBAgACB7gQEBrqzVBMBAgQIECBAgAABAgQIECBAgAABAgQIEJh5AYGBmR8iDSRAgAABAgQIECBAgAABAgQIECBAgAABAt0JCAx0Z6kmAgQIECBAgAABAgQIECBAgAABAgQIECAw8wICAzM/RBpIgAABAgQIECBAgAABAgQIECBAgAABAgS6ExAY6M5STQQIECBAgAABAgQIECBAgAABAgQIECBAYOYFBAZmfog0kAABAgQIECBAgAABAgQIECBAgAABAgQIdCcgMNCdpZoIECBAgAABAgQIECBAgAABAgQIECBAgMDMCwgMzPwQaSABAgQIECBAgAABAgQIECBAgAABAgQIEOhOQGCgO0s1ESBAgAABAgQIECBAgAABAgQIECBAgACBmRcQGJj5IdJAAgQIECBAgAABAgQIECBAgAABAgQIECDQnYDAQHeWaiJAgAABAgQIECBAgAABAgQIECBAgAABAjMvIDAw80OkgQSGI/CJm9anzu6049OG0+kxPV39yheO2WsXAQIECBAgQIAAAQIECBAgQIAAgW4EBAa6cVQLAQIdCAgMjBAFBjqYTKogQIAAAQIECBAgQIAAAQIECBAoFRAYKKVxgACB+RLYvOXxdKrj3vf5+TrlTJ/nSxcdP9Pt0zgCBAgQIECAAAECBAgQIECAAIF+CwgM9Hv8tJ7AohAQGCgOo8BA0cMWAQIECBAgQIAAAQIECBAgQIBAtwICA916qo0AgRYC77705lR67foH56xl5fLd0/H/7dB9Uvrw1jsOdlmyQ9p+4MdbUrrHry0ZezzPP+3tDT98JLXj7//H91Na1r+ddnxqOv6F//D6lPqHAAECBAgQIECAAAECBAgQIECAwDQEBAamoapOAgQmEhAYEBiYaOIoRIAAAQIECBAgQIAAAQIECBAg0EhAYKARl8wECMyHwIkX3pBOs+HB0ZX2Zee8+NRD06GDlu9ZlmUm959zxW2pXWvWbhjbPo8SGstiJwECBAgQIECAAAECBAgQIECAQEcCAgMdQaqGAIHuBAQGvHy4u9mkJgIECBAgQIAAAQIECBAgQIAAgVxAYCAXsU2AwIILbNz0aGrDWy64vlZbrv3T16V8S7e+Y6BWoRnI9Mb3fzG1YtPDP02pdwzMwKBoAgECBAgQIECAAAECBAgQIEBgAAICAwMYZF0k0DcBgQEvH+7bnNVeAgQIECBAgAABAgQIECBAgECfBAQG+jRa2kpgYAI3rr0/9fi8K26fs+crXvSsdPz//cNXzZlv1g5edt1dqUkfve6bhaZ5x0CBwwYBAgQIECBAgAABAgQIECBAgEDHAgIDHYOqjgCB7gQEBrqzVBMBAgQIECBAgAABAgQIECBAgACBEBAYCAkpAQIzK3D25bemtt2ybuOcbTzzzS9Px1/3Gy+YM9+sHMwDH94xMCsjox0ECBAgQIAAAQIECBAgQIAAgcUtIDCwuMdX7wgsCgGBgUUxjDpBgAABAgQIECBAgAABAgQIECAwIwICAzMyEJpBgEC1wIkX3pAybXjwkTkzf/i0o9Lx/ZbtOme+WTl49BnXFJriHQMFDhsECBAgQIAAAQIECBAgQIAAAQIdCwgMdAyqOgIEpicgMDA9WzUTIECAAAECBAgQIECAAAECBAgMR0BgYDhjracEei+wcdOjqQ9vueD6OfvSt2f1n3PFbak/u+2yU0pPX33AnP1zkAABAgQIECBAgAABAgQIECBAgEAbAYGBNnrKEiAwrwICA/PK7WQECBAgQIAAAQIECBAgQIAAAQKLVEBgYJEOrG4RWMwCN669P3XvvCtun7ObK5fvno5fcurhc+ZzkAABAgQIECBAgAABAgQIECBAgMCQBAQGhjTa+kpgkQgIDCySgdQNAgQIECBAgAABAgQIECBAgACBBREQGFgQdiclQKALgbMvvzVVc8u6jXNW9/6TD0nHj1ix95z5HCRAgAABAgQIECBAgAABAgQIECAwBAGBgSGMsj4SWKQCAgOLdGB1iwABAgQIECBAgAABAgQIECBAYKoCAgNT5VU5AQLzIXDihTek02x48JE5T/fh045Kx/dbtuuc+RwkQIAAAQIECBAgQIAAAQIECBAgsJgFBAYW8+jqG4GBCAgMDGSgdZMAAQIECBAgQIAAAQIECBAgQKATAYGBThhVQoDAQgps3PRoOv1bLrh+zmbstsvT0/HPvPe35sznIAECBAgQIECAAAECBAgQIECAAIHFLCAwsJhHV98IDERAYGAgA62bBAgQIECAAAECBAgQIECAAAECnQgIDHTCqBICBGZB4KZ1G1Iz3nv5bXM2Z+Xy3dPxS049fM58DhIgQIAAAQIECBAgQIAAAQIECBBYjAICA4txVPWJwEAFBAYGOvC6TYAAAQIECBAgQIAAAQIECBAg0EhAYKARl8wECPRB4OzLb03NvGXdxjmb+/6TD0nHj1ix95z5HCRAgAABAgQIECBAgAABAgQIECCwmAQEBhbTaOoLAQJJQGDARCBAgAABAgQIECBAgAABAgQIECBQLiAwUG7jyCISiJfT/uzn/5J6teWxnxd6t3nLY2l76ZIdU7rfsl0Lx230U+DEC29IDd/w4CNzduDjZ70mHd9rt53nzOfgbArU/XwftHzP2eyAVhEgQIAAAQIECBAgQIAAAQIE5llAYGCewZ1uYQTqLhwKDCzM+EzrrAID05KdrXrrfr4FBmZr3LSGAAECBAgQIECAAAECBAgQWDgBgYGFs3fmeRCIBcO3XHB9rbO9fdVLUr5TVu1fK79Msy1Qd/xXLt89deSSUw+f7Q5p3ViBGOfzr7ojHV+7/sGx+b500fFj99tJgAABAgQIECBAgAABAgQIEBiagMDA0EZ8YP2NBUOBgYEN/Nbu1h1/gYF+z48YZ4GBfo+j1hMgQIAAAQIECBAgQIAAAQLzJyAwMH/WzjQDAkefcc2crfjwaUel494xMCdT7w7etG5DavN7L79tzra/6ch90/F3HfeyOfM5ONsC77705tTAuHNA4Ge2x0vrCBAgQIAAAQIECBAgQIAAgfkXEBiYf3NnXEABgYEFxF/AUwsMLCD+ApxaYGAB0J2SAAECBAgQIECAAAECBAgQ6JWAwECvhktj2wq88f1fTFVsevinY6vyDPKxLItm59mX35r6csu6jXP26eJTD03Hvax2TqaZPZgHBrw7ZGaHSsMIECBAgAABAgQIECBAgACBBRIQGFggeKddGAGBgYVxn5WzCgzMykhMtx0CA9P1VTsBAgQIECBAgAABAgQIECDQfwGBgf6PoR7UENi85fGU67j3fX5s7sNW7JX2n3/yK8Yet3NxCZx44Q2pQxsefGTOjn38rNek43vttvOc+RycLYE8AOgOkNkaH60hQIAAAQIECBAgQIAAAQIEFl5AYGDhx0AL5kFAYGAekHt0CoGBHg3WBE0VGJgATRECBAgQIECAAAECBAgQIEBgUAICA4Ma7uF29sa196fOn3fF7WMRPIN8LMui3blx06Opb2+54Po5+7hy+e7p+CWnHj5nPgdnQ+Du+3+UGvKOD3y50CDvDilw2CBAgAABAgQIECBAgAABAgQIbCcwYBIMQkBgYBDDXLuTAgO1qXqVUWCgV8OlsQQIECBAgAABAgQIECBAgMACCggMLCB+l6eOhc4NPxw9M/0b332oUP0OT3tK2j5yxd4pjWemR7k16zak/Yft/5yUPm+PpSldLP987Et3p658+HP/NLZL+bPkc5d4FNFB+46uID9o+Z5j67GzXwJVAaPozTt++6Xpz7cevV/sks6gQP459+6QGRwkTSJAgAABAgQIECBAgAABAgRmQkBgYCaGoX0jYiFbYGC8Zb5gmOcSGMhFhrEtMLC4xjn/nAsMLK7x1RsCBAgQIECAAAECBAgQIECgOwGBge4s57WmCARcuWZ9Ou/VN9/b6PyrD98n5f/ibd9J6U8e+3lKF+uz9t996c2pf2vXP5jS/J94BvkFn7wjHfribd/NsxS29979GWn7yjOPLey30U+Bsy+/NTX8lnUb5+zAh087Kh3fb9muc+br68HvPbA5Nf2TW79P1mx9N8emh39a6FIsuL986zsY7ntw9M6GW+/6fsq3UJ+LfBzz77M71v8gte+iv1mb0g0Pju6wis/zO143ujPkmJXLCv21QYAAAQIECBAgQIAAAQIECBBYbAICAz0dUYGBZgMnMNDMa2i58wXlsv4LDIxkBAbKZoj9BAgQIECAAAECBAgQIECAAIF+CAgM9GOcftnKeNb9+VeNrmzPr3COK1/Pe9vBqUxc2XzZdXel7Y9e981f1jXuj4tPPTTtXmzP0H/j+7+Y+pVf+bxy6xXPez9r53Q87hSIK42v+4f70v64sjhtbPPPHx6/Im2d8Krl2+zt7s+rvjK6I+Txn/1LqvSnj4/u7Hj6Dk8tnGRa+6PeU1btXzjfYt048cIbUtfKxjv6HXeYxHbf07iS/vRLv1roSszvePfI0546eldJfP/kd+DE5+mSUw8v1DNfG/nnPL7P4p0rf3PTPakpB+zzrJR+7d4fpjT/XljsAaD5Gg/nIUCAAAECBAgQIECAAAECBGZXQGBgdsdmbMsEBsayVO7MFwyjQCxkCgyMRCIQEIGH2BYYiBkzSgUGRoFJgYHivLBFgAABAgQIECBAgAABAgQIEOiLgMBAX0ZqazvLHomz046jK8j/5t//m5Rz6ZIdxvbs6DOuGbs/di62Bc+77/9R6to7PvDl6OLYNO60+PC7j0zHc78yt7izYFoL53UfcTO2Ux3uzF/O3GHVM1VVPKLrLRdcP2e7jly5dzp+3kmHzJlv1g/mdwrE98hf/1+vTk3fa7fRnTR5P8o+V9P+POTtiO2ycYs7Hj5z87dT1rLPdx44XCzjGz5SAgQIECBAgAABAgQIECBAgEAuIDCQi8z4tsBAswEqW8DMaxEYyEWK2wIDRY/FsnAsMDAaV4GB4vy2RYAAAQIECBAgQIAAAQIECCx+AYGBnozxjWvvTy0974rbx7a46krdsitqo7J4mej5J78idnWaxgL9tbd9p1Dv6asPKGx3vfGxL92dqvzw5/5pbNV1r5Auu2MgHkU0rWeqx8Ltxoe2jG3/fO08aN890qnKriCfr3bM13mqPm/T/rzMVz/zdyq847dfmk791qP3m7MJ8XnO78Q556TRu02OWblszvJdH4zPSbwjIT7Xu+2yUzrVlWceO+cp83ewRKCwqtyclTpIgAABAgQIECBAgAABAgQIEJhhAYGBGR6cbZtWtVApMLCt1q/+Fhj4lUWbvwQGinoCA+Mf0SUwUJwntggQIECAAAECBAgQIECAAAECsyogMDCrI5O1q+wRQpGt6t0A+RW1US7SqsBC5Js0fe3//bep6E8e+3mhirpXKBcKNdg454rbUu41azeMLVXV74W+02Jso+2cN4GydzxUzZt5a+CEJ7r46q+lklfffG9Kd9vl6Sn9zHt/q1aNZd8nVd9DtSqfINNfXPv1VOpTa+4plL741EPT9kHL9yzszzfaeuT12SZAgAABAgQIECBAgAABAgQIzLqAwMCsj9DW9gkMTDZQAgOTuSk1EhAYGD8TBAbGu9hLgAABAgQIECBAgAABAgQIEOiLgMDAjI9U2bO8o9l1H2mSP0M7ykc6rUeAbN7yeDrFce/7fJyqkE77Ja75S0ULJ39yo+qlulX+v3XI81OVZ/3uQXnVtnssUHanSLxT4uwTRuPd13cu5J+LpndA5I/oCpdJ37URAbyHHnkszZqm9eQBnLrfizFF4/xxZ1HddwxEgOT/u/6bqaqX77t7Sk9ZtX9ULSVAgAABAgQIECBAgAABAgQIzKSAwMBMDsuvGlW1MF13AUxg4Ke/Qt3mL4GBbTD8+UsBgYFfUoz9Q2BgxCIwMHZ62EmAAAECBAgQIECAAAECBAj0QEBgYMYHqWpB/8w3vzz14HW/8YI5e5JfUZtnvvZPX5d2LV2yQ36ok+2yRyF9+LSjUv37Ldu1k/NEJWULu3G8bkDlqq+sT0X+0zXromghretfKGRjZgXiDpfzr7ojtfGWdRtTutOOT03pF/7D62e27XUaVhZobHrHUP59svrwfdLpT199QJ1m/DJP3p66V+r/soKtfxx9xjWFXe8/+ZC0fcSKvQv7yzYm7U8eIGl650VZe+wnQIAAAQIECBAgQIAAAQIECExbQGBg2sIt6xcYmAxQYGAyt6GXEhhYVmsKTLqQnlcuMJCL2CZAgAABAgQIECBAgAABAgQIzI+AwMD8OE98lvzZ13lFF596aNp10PI980OF7fyK2jg46RW6Ub5petO6DalIPJu96zsFoj3xiI/TL/1q7Cqkda/szRdAC5U8uVHXPy9Xd/uCT46uXL/7vh+nIku2Xrlet3zTfE996vapyOYtP0vp0iVPS2nfn6lf16EsENf0ivq655vvfGV3wFQ9UitvZ/59MqlPBPBuuPO+dIrn77k0pUfWvNI/DyxEO9v25w+PX5GqOuFVy6PKsWl8z3zjuw+l4694ybNTOq3vtbGNsJMAAQIECBAgQIAAAQIECBAgMIGAwMAEaPNZRGBgMu1YsBMYaOYnMHBXAvvodaOXyYbepAvfUX5WUoGB8SORBzoEBsY72UuAAAECBAgQIECAAAECBP5/9s4eNIogiuMipogIFlZGbAwBbYIGYqP4UQTFwiraKCkCwU4EK0GbgII2whWC2CjY2BkhCBYSEoKFChITrIKQQm1CBBE0IKjv8i/msXOTObx19/g1eZnd+Xjzm5kr3n9mFgLdQwBhoOJjmdqxntoZG9sBrW63eze4ylfV3p16b65NzX8sdDEV6NWVMqM3X1j5H+u/gnrKOmmRGv/AqQ4mUvOsg02XUnVMSDo1vNfav3buUCl+dLoRfye+2pu5c1b/trSx35P/NT98f3LX5cuFT9bfycdvzOpbEg+vnrS0Tja1hMJLCEAAAhCAAAQgAAEIQAACEIAABCBQQwIIAxUftFRgOBWQiwXy1G2EgeI71REGNEOaNjXPwtz1SyEMIAz8nbUIA/Vbu3gMAQhAAAIQgAAEIAABCEAAAhCAQHsEEAba41ZaqZQwkNrp66/I8I6nds77/HVJp7ilAt3P365YV28/eVfY5YkzB+z5hRMDhe//9UMJFTt6e6xq3c2uHc16r3Y3my83v+pVuW6xp69PW1d0MiR353ldOPgd9vI79TsSu8s/l5Pm7b3pJWv66/d1uWD21thhs5udZ36d5wqdueV1wuDpq/Ak0sF9u8zv8ZH9QX9IQAACEIAABCAAAQhAAAIQgAAEIACBqhJAGKjqyGz45QNX3t1UQA9h4ItHZmmEgRCLArEK3KYEh7B0/VMIA61PDCAMNOc4wkD91zo9gAAEIAABCEAAAhCAAAQgAAEIQKBJAGGg4jMhdVe+D3ArsNt4tmg9+7CyZnbt28/Cnj64ctyeD/TtNKsdxT3btlr6/NH+wnJVf+gDvd5fz03vtfM+9m2Bwf7mzuDGpSMqgq0xgcv35837heVVs91+lYwC27pTX0OXWg8TjVnLOjK0x6w+zhxbD/rIcez3Y27ps9Vz49Frs7knD6zQnz9+nR8b3G2vJi8OK0uhjV0dFePgK/HzJvekgq+PNAQgAAEIQAACEIAABCAAAQhAAAIQKJsAwkDZxDPbQxjIBLaR3QcMfS2xACDCgCfV3Wkf4EUY2B4MuNYDwkCAZYufNwgDIR9SEIAABCAAAQhAAAIQgAAEIAABCFSfwG8AAAD//5OE4/0AAEAASURBVOzdf/QV1X3vf1ojgj9C0GCBRptAMBiMBQ3EHwg0avEHV29W4q+vSbzSkqza6pXVe2Vho1lVKwu9d8mKDV2GFquJMf7INw01KlVzBVGrJGJJPtFIIFZa4EaFEFBAtL3mPZ9X/Mzbs8/MnDNzzsycJ3+wPzNnfuz92PucM2e/9575rf98+98g/pVW4O5V6y1vi5f1NczjqEMOsPVHjznY0qef/4WlQwa/x9JrPvdxS+csWmGp/++ECSNt1Yj3DbX0u4//3NI5Zxxp6YUzxllalf/Wbdoe5T9QXpXjkrMm2J/nTh2rVZZeedvTlj7RtyW2Xs43feF4Wz9y+P6x11molsAdj66zDC+5/7lYxq/+bPR++eTRo2Pr67Yw44plsSJNO3qULV9yZvS+2Lz1NVu+5pvPWPqF/s+DrTv22LLc9L64c97Jtv6m7/7I0pVrN1n6N392kqX+/eLfpzMnH2bbzT9nkqVJ//n9tb3Pj9YrDe130xej9/WksSO0adP05vt+bK9/e+UGS3ul3TRF4UUEEEAAAQQQQAABBBBAAAEEEKiUwG8RGCh3fREYyFY/oY4/fxQCA16kt5YJDBAYGNjiCQwM1OBvBBBAAAEEEEAAAQQQQAABBBDoBQECAxWp5QsWPmI53fxqNJI3lG3NALj+oimxTdLun7WDLHaSEiz4Dt8hg/exXA0/aIil3m/4QfvZ+m39I6FVBO137vRoRsHsU8frJdIKC4QCR5+eNsZKdemsoypcuvRZX/rQ87bx7Q+90HQnPxI+5KeDHD32EPvzynOjkf9+poC28+9Tfx5tF0q/3z8j4Zpv/MA20UwBvb+1fOoxv2uvv/h/d1i6cu1mS5XPi085wpbTzhSwjd/+z88s+tb8U+ylUHm1HykCCCCAAAIIIIAAAggggAACCCBQFgECA2WpiYR8pO3YJzAQv0WMOvgJDCQ0sB55OdSxTWCgcQPwHfYhP+2tDncCAxIhRQABBBBAAAEEEEAAAQQQQAABBMopQGCgnPUSzNUDP3zJXtu89fXYNidNiO4RPm70sNh6v6CRult3RvcK/53+Zwv4e+37/aqyrI7Lx/qikcFnfPxwy7pG8vrXVa7X9rxpf078UDTiedKY99vygUP31SakFRbYuWuv5X7OV1Za6keWL7lsmq3vtfpes/5lK/eaDa9aut++0Qybk38/Gmmv9429OOA/v5/c0n6OXP2N1XY0jeDPOlNJ7+ONr0QzqPwzIfQ5t2fvW3ae7a9H9T9rcvR5cFD/+zpUvgFFbfjnaV/6nq1XwFHPWGi4MSsRQAABBBBAAAEEEEAAAQQQQACBEgoQGChhpTTLEoGBZjqDBqnDkMBAc6dee5XAQOMa9x38BAYaO/m1BAa8CMsIIIAAAggggAACCCCAAAIIIFA1AQIDVasx8osAApkFLrvlcdtn7fpoZLxuMfX3f/4Htr7VkeOZM8IOJvCpa5dbqmd7PHrDWZWQUeBxzqIVlt+Zkw+zdP450TMVKlEIMokAAggggAACCCCAAAIIIIAAAgi8LUBggGaAAAK1FyAwUK4qJjBQrvogNwgggAACCCCAAAIIIIAAAggg0HsCBAZ6r84pMQI9I6B7zS+5/7lYmeeccaQtXzhjXGw9C50RmHHFMjuRHlb8lS+e2JkTt3kW357mnTfRjnj6sdGzC9o8PLsjgAACCCCAAAIIIIAAAggggAACHRMgMNAxak6EAAKdFvAduTo/gQFJdCclMNAdd86KAAIIIIAAAggggAACCCCAAAIISIDAgCRIEUCgNgL+XvAq2KenjbE/L511lFaRdlBADzuee8uTdtazT/yQpXPP/pilW7a9bmlZn/ngb0n1rfmnxPJb9vxbZvkPAQQQQAABBBBAAAEEEEAAAQQQeFuAwADNAAEEaidAYKCcVUpgoJz1Qq4QQAABBBBAAAEEEEAAAQQQQKD3BAgM9F6dU2IEaiuwc9deK9ucr6y0dPOrr1k6ZPA+lj543ZmW8l93BO5etd5OvHhZn6WfP/UIS0+aMMrSm//xx5Zeee4kS8s2c8DPGFhy+XTL58ZXonb2D0/+3Jar8swEyyz/IYAAAggggAACCCCAAAIIIIBATwoQGOjJaqfQCNRTgMBAueuVwEC564fcIYAAAggggAACCCCAAAIIIIBA7wgQGOiduqakCNReYME9a6yMy1dvtFQzBW6+ZKotjxs9rPYGVSigHj7s8zrvvIm26vRjD/cvlWJ56UPPWz5uf+iFWH5GHXKALd/0heMtLdtMh1hmWUAAAQQQQAABBBBAAAEEEEAAAQTeFiAwQDNAAIHaCBAYqEZVEhioRj2RSwQQQAABBBBAAAEEEEAAAQQQqK8AgYH61i0lQ6BnBO54dJ2Vdcn9z8XKPOeMI235whnjYutZ6K6AHg69c9cblpFJY0d0N0MZz/79tZtsj8PeH80UYCZKRkA2RwABBBBAAAEEEEAAAQQQQACBrgsQGOh6FZABBBBoV4DAQLuCnd2fwEBnvTkbAggggAACCCCAAAIIIIAAAggg4AUIDHgRlhFAoDICW7a9bnk9f8HDsTyfMGGkLV9/0ZTYehYQQAABBBBAAAEEEEAAAQQQQAABBBBAgGcM0AYQQKDCAgQGKlx5ZB0BBBBAAAEEEEAAAQQQQAABBBBAoGsCzBjoGj0nRgCBVgV27tpru8679SlL+17caumQwftY+uB1Z1rKfwgggAACCCCAAAIIIIAAAggggAACCCDwbgECA+82YQ0CCJRcgMBAySuI7CGAAAIIIIAAAggggAACCCCAAAIIlFqAwECpq4fMIYBAI4EF96yx1ctXb7RUMwUWXBw9U2DS2BGNdivtuqUPPW95u/2hFyydOfkwS+efM6m0eSZjCCCAAAIIIIAAAggggAACCCCAAALVFSAwUN26I+cI9KwAgYGerXoKjgACCCCAAAIIIIAAAggggAACCCCQgwCBgRwQOQQCCHRG4IEfvmQnWnjXs7ETfv7UI2x59qnjY+ursuADHcwYqErNkU8EEEAAAQQQQAABBBBAAAEEEECgmgIEBqpZb+QagZ4UIDDQk9VOoRFAAAEEEEAAAQQQQAABBBBAAAEEchYgMJAzKIdDAIH8BdZt2m4HnbNoRezgEz54sC1/9ZKpsfVVW7hg4SOW5c2vvmZp1WdAVM2f/CKAAAIIIIAAAggggAACCCCAAAK9JkBgoNdqnPIiUEEBAgMVrDSyjAACCCCAAAIIIIAAAggggAACCCBQWgECA6WtGjKGAAI7d+01hCtvf9rStetfjaF8a/4ptjxy+P6x9VVbmHHFsliWmTEQ42ABAQQQQAABBBBAAAEEEEAAAQQQQCBnAQIDOYNyOAQQyE+AwEA1H6acXwvgSAgggAACCCCAAAIIIIAAAggggAACRQgQGChClWMigEAuAjff92M7zrdXbogd76YvHm/Lk8aOiK2v2sKCe9ZYlpev3hjL+rzzJtry6cceHlvPAgIIIIAAAggggAACCCCAAAIIIIAAAnkIEBjIQ5FjIIBAIQIEBggMFNKwOCgCCCCAAAIIIIAAAggggAACCCDQ4wIEBnq8AVB8BMoo8FjfZsvWX935jKW733jL0pmTD7N0/jmTLK3af1u2vW5Z3rz1tagct0bPTlD5VB5mDEiCFAEEEEAAAQQQQAABBBBAAAEEEECgCAECA0WockwEEGhLgMAAtxJqqwGxMwIIIIAAAggggAACCCCAAAIIIIBAUwECA015eBEBBDopoBH15y94uOFphwzex9YP3e89sdd37Xkztl7L2kjbd2u98rFtxx792TRdcvl0e33c6GFNt+NFBBBAAAEEEEAAAQQQQAABBBBAAAEEWhEgMNCKGvsggEAhAgQGIlYCA4U0Lw6KAAIIIIAAAggggAACCCCAAAIIINAvQGCApoAAAqURuPK26J77T/RtKU2eupERAgPdUOecCCCAAAIIIIAAAggggAACCCCAQO8IEBjonbqmpAiUXoDAQFRFBAZK31TJIAIIIIAAAggggAACCCCAAAIIIFBpAQIDla4+Mo9APQSWPvS8FeT2h16oR4HaLMW35p9iRxg5fP82j8TuCCCAAAIIIIAAAggggAACCCCAAAIIvFuAwMC7TViDAAIdFiAwEAcnMBD3YAkBBBBAAAEEEEAAAQQQQAABBBBAIF8BAgP5enI0BBBoQWDBPWtsr+WrN7awd/12ITBQvzqlRAgggAACCCCAAAIIIIAAAggggECZBAgMlKk2yAsCPSpAYCBe8QQG4h4sIYAAAggggAACCCCAAAIIIIAAAgjkK0BgIF9PjoYAAjkI7Ny1N3aUA4fua8t1Wx8r5IAFlXfAKv5EAAEEEEAAAQQQQAABBBBAAAEEEEAgNwECA7lRciAEEMhLoG4BAHX0+3KFvLR96HXWI4AAAggggAACCCCAAAIIIIAAAggg0I4AgYF29NgXAQQQQAABBBBAAAEEEEAAAQQQQAABBBBAAIGKCRAYqFiFkV0EEEAAAQQQQAABBBBAAAEEEEAAAQQQQAABBNoRIDDQjh77IoAAAggggAACCCCAAAIIIIAAAggggAACCCBQMQECAxWrMLKLAAIIIIAAAggggAACCCCAAAIIIIAAAggggEA7AgQG2tFjXwQQQAABBBBAAAEEEEAAAQQQQAABBBBAAAEEKiZAYKBiFUZ2EUAAAQQQQAABBBBAAAEEEEAAAQQQQAABBBBoR4DAQDt67IsAAh0VOO1L37Pz7X7jLUunHT3K0ms+O7mj+Uh7snWbttum9z6+wdK1G7ZauvuNNy098vDhlp501EhLTz/2cEv5DwEEEEAAAQQQQAABBBBAAAEEEEAAgSIFCAwUqcuxEUAgVwECA7lycjAEEEAAAQQQQAABBBBAAAEEEEAAgR4VIDDQoxVPsRGoksCWba9bds9f8HAs2/POm2jLZRtpr5kCcxatsPwNGbyPpf/9Ux+L5X/hXc/Gli85a4Itnzt1bGw9CwgggAACCCCAAAIIIIAAAggggAACCOQpQGAgT02OhQAChQgQGCiElYMigAACCCCAAAIIIIAAAggggAACCPSoAIGBHq14io1AlQR27tpr2X3sJ5tj2Z405v22PHL4/rH13VpQPud8ZaVlYfOrr1l64cnjLJ0z88hY1hbcs8aWl6/eGFv/rfmn2HJZyhXLHAsIIIAAAggggAACCCCAAAIIIIAAApUXIDBQ+SqkAAjUX0Ad7gQG6l/XlBABBBBAAAEEEEAAAQQQQAABBBBAoHgBAgPFG3MGBBBoUUC3ENLuO/pnDmh53Ohh+rMU6Zr1L1s+5t7yZCw/oWchPNYXzYC46rbVse0/f+oRtjz71PGx9SwggAACCCCAAAIIIIAAAggggAACCCCQhwCBgTwUOQYCCBQiQGCAwEAhDYuDIoAAAggggAACCCCAAAIIIIAAAj0uQGCgxxsAxUegzAIXLHzEsqd79SuvQwbvY38+eN2ZWtXVVLc6uuHbz1o+Vq6NPwthyeXTbb2f4RCaYXDChJG2/fUXTelquTg5AggggAACCCCAAAIIIIAAAggggEA9BQgM1LNeKRUCtRAgMEBgoBYNmUIggAACCCCAAAIIIIAAAggggAACJRMgMFCyCiE7CCDwjoBuJXT+goffWfn2X0kj6pc+9Lxtf/tDL8T2a3dh1CEH2CHunHdyw0NdedvTtv6Jvi2x10MzBtZt2m7bzVm0Irb9mP5nJyztn2kQe5EFBBBAAAEEEEAAAQQQQAABBBBAAAEE2hQgMNAmILsjgEBxAgQGolsQFSfMkRFAAAEEEEAAAQQQQAABBBBAAAEEelGAwEAv1jplRqAiAg/88CXL6cK7onv3K9sXnjzO/pwz80itiqUaif/ojzbZ+t1737J0yL7RswmyLuvg++/3HvvzwhnR+bVeaejWR6EZA6HAR9LMBJ2PFAEEEEAAAQQQQAABBBBAAAEEEEAAgVYECAy0osY+CCDQEQECA41vWdQRfE6CAAIIIIAAAggggAACCCCAAAIIIFBbAQIDta1aCoZA9QWWLH/OCnHHI+tihbnpi8fb8qSxI2Lru73AjIFu1wDnRwABBBBAAAEEEEAAAQQQQAABBBBII0BgII0S2yCAQFcECAwwY6ArDY+TIoAAAggggAACCCCAAAIIIIAAAjUXIDBQ8wqmeAhUWeDK25627D/RtyVWjEdvOCu2XJaFP128yrLS9+LWWJZCzxjQsxDmLFoR237CBw+25a9eMjW2ngUEEEAAAQQQQAABBBBAAAEEEEAAAQTyECAwkIcix0AAgUIECAwQGCikYXFQBBBAAAEEEEAAAQQQQAABBBBAoMcFCAz0eAOg+AiUUWDnrr2WrVlffiCWvbQj6fXQ4vueeim2f7sLHxhxgB1i/jmTGh5qwT1rbP3y1Rtjr4eeiRCaMTBz8mFNzxM7OAsIIIAAAggggAACCCCAAAIIIIAAAghkFCAwkBGMzRFAoHgBAgMEBopvZZwBAQQQQAABBBBAAAEEEEAAAQQQ6F0BAgO9W/eUHIHSCqxZ/7Llbe4tT8byeOHJ42x5zswjY+v9QrdmDOi8C+96NpalOWdE+b1wRpR/vRjaPjTDQPuRIoAAAggggAACCCCAAAIIIIAAAggg0I4AgYF29NgXAQQKESAwcLy5Tho7ohBfDooAAggggAACCCCAAAIIIIAAAggg0NsCBAZ6u/4pPQKlFAiNpJ933kTL70kfHWXpd5960VI/Et9WduG/0C2QJo8/1HJz4+zjYrnyD1ceftB+9vrf/NlJlo4cvn9sexYQQAABBBBAAAEEEEAAAQQQQAABBBDIQ4DAQB6KHAMBBHIVIDBAYCDXBsXBEEAAAQQQQAABBBBAAAEEEEAAAQRiAgQGYhwsIIBAGQRCgYFRhxwQy96nTvygLZ87dWxsfbcXQrdCmjk5eqjwgUP3tSx+e+UGS4cM3sfSmy+Zaum40cMs5T8EEEAAAQQQQAABBBBAAAEEEEAAAQSKECAwUIQqx0QAgbYECAwQGGirAbEzAggggAACCCCAAAIIIIAAAggggEBTAQIDTXl4EQEEuilwx6Pr7PRP/OT/WjrsgMGWXnzqRywt+8j6dZu2Wz4f/dEmS59d/6qlKseHR7/Xls/4+OGW8kwBY+A/BBBAAAEEEEAAAQQQQAABBBBAAIGCBQgMFAzM4RFAoHUBAgOt27EnAggggAACCCCAAAIIIIAAAggggAACIQECAyEZ1iOAAAIIIIAAAggggAACCCCAAAIIIIAAAgggUEMBAgM1rFSKhAACCCCAAAIIIIAAAggggAACCCCAAAIIIIBASIDAQEiG9QgggAACCCCAAAIIIIAAAggggAACCCCAAAII1FCAwEANK5UiIYAAAggggAACCCCAAAIIIIAAAggggAACCCAQEiAwEJJhPQIIIIAAAggggAACCCCAAAIIIIAAAggggAACNRQgMFDDSqVICCCAAAIIIIAAAggggAACCCCAAAIIIIAAAgiEBAgMhGRYjwACCCCAAAIIIIAAAggggAACCCCAAAIIIIBADQUIDNSwUikSAggggAACCCCAAAIIIIAAAggggAACCCCAAAIhAQIDIRnWI4AAAggggAACCCCAAAIIIIAAAggggAACCCBQQwECAzWsVIqEAAIIIIAAAggggAACCCCAAAIIIIAAAggggEBIgMBASIb1CCCAAAIIIIAAAggggAACCCCAAAIIIIAAAgjUUIDAQA0rlSIhgAACCCCAAAIIIIAAAggggAACCCCAAAIIIBASIDAQkmE9AggggAACCCCAAAIIIIAAAggggAACCCCAAAI1FCAwUMNKpUgIIIAAAggggAACCCCAAAIIIIAAAggggAACCIQECAyEZFiPAAIIIIAAAggggAACCCCAAAIIIIAAAggggEANBQgM1LBSKRICCCCAAAIIIIAAAggggAACCCCAAAIIIIAAAiEBAgMhGdYjgAACCCCAAAIIIIAAAggggAACCCCAAAIIIFBDAQIDNaxUioQAAggggAACCCCAAAIIIIAAAggggAACCCCAQEiAwEBIhvUIIIAAAggggAACCCCAAAIIIIAAAggggAACCNRQgMBADSuVIiGAAAIIIIAAAggggAACCCCAAAIIIIAAAgggEBIgMBCSYT0CCCCAAAIIIIAAAggggAACCCCAAAIIIIAAAjUUIDBQw0qlSAgggAACCCCAAAIIIIAAAggggAACCCCAAAIIhAQIDIRkWI8AAggggAACCCCAAAIIIIAAAggggAACCCCAQA0FCAzUsFIpEgIIIIAAAggggAACCCCAAAIIIIAAAggggAACIQECAyEZ1iOAAAIIIIAAAggggAACCCCAAAIIIIAAAgggUEMBAgM1rFSKhAACCCCAAAIIIIAAAggggAACCCCAAAIIIIBASIDAQEiG9QgggAACCCCAAAIIIIAAAggggAACCCCAAAII1FCAwEANK5UiIYAAAggggAACCCCAAAIIIIAAAggggAACCCAQEiAwEJJhPQIIIIAAAggggAACCCCAAAIIIIAAAggggAACNRQgMFDDSqVICCCAAAIIIIAAAggggAACCCCAAAIIIIAAAgiEBAgMhGRYjwACCCCAAAIIIIAAAggggAACCCCAAAIIIIBADQUIDNSwUikSAggggAACCCCAAAIIIIAAAggggAACCCCAAAIhAQIDIRnWI4AAAggggAACCCCAAAIIIIAAAggggAACCCBQQwECAzWsVIqEAAIIIIAAAggggAACCCCAAAIIIIAAAggggEBIgMBASIb1CCCAAAIIIIAAAggggAACCCCAAAIIIIAAAgjUUIDAQA0rlSIhgAACCCCAAAIIIIAAAggggAACCCCAAAIIIBASIDAQkmE9AggggAACCCCAAAIIIIAAAggggAACCCCAAAI1FCAwUMNKpUgIIIAAAggggAACCCCAAAIIIIAAAggggAACCIQECAyEZFiPAAIIIIAAAggggAACCCCAAAIIIIAAAggggEANBQgM1LBSKRICCCCAAAIIIIAAAggggAACCCCAAAIIIIAAAiEBAgMhGdYjgAACCCCAAAIIIIAAAggggAACCCCAAAIIIFBDAQIDNaxUioQAAggggAACCCCAAAIIIIAAAggggAACCCCAQEiAwEBIhvUIIIAAAggggAACCCCAAAIIIIAAAggggAACCNRQgMBADSuVIiGAAAIIIIAAAggggAACCCCAAAIIIIAAAgggEBIgMBCSYT0CCCCAAAIIIIAAAggggAACCCCAAAIIIIAAAjUUIDBQw0qlSAgggAACCCCAAAIIIIAAAggggAACCCCAAAIIhAQIDIRkWI8AAggggAACCCCAAAIIIIAAAggggAACCCCAQA0FCAzUsFIpEgIIIIAAAggggAACCCCAAAIIIIAAAggggAACIQECAyEZ1iOAAAIIIIAAAggggAACCCCAAAIIIIAAAgggUEMBAgM1rFSKhAACCCCAAAIIIIAAAggggAACCCCAAAIIIIBASIDAQEiG9QgggAACCCCAAAIIIIAAAggggAACCCCAAAII1FCAwEANK5UiIYAAAggggAACCCCAAAIIIIAAAggggAACCCAQEiAwEJJhPQIIIIAAAggggAACCCCAAAIIIIAAAggggAACNRQgMFDDSqVICCCAAAIIIIAAAggggAACCCCAAAIIIIAAAgiEBAgMhGRYjwACCCCAAAIIIIAAAggggAACCCCAAAIIIIBADQUIDNSwUikSAggggAACCCCAAAIIIIAAAggggAACCCCAAAIhAQIDIRnWI4AAAgggUAOBpQ89HyvFW//xn7b8yq92W/qZE8dYOm70sNh2LCCAAAIIIIAAAggggAACCCCAQH0FCAzUt24pGQIIIIAAAoMIDNAIEEAAAQQQQAABBBBAAAEEEEDACxAY8CIsI4AAAgggUCOBNetfttL87fKfWtr34tZY6ZZcPt2WmTEQY2EBAQQQQAABBBBAAAEEEEAAgVoLEBiodfVSOAQQQACBXhcgMNDrLYDyI4AAAggggAACCCCAAAIIIPBuAQID7zZhDQIIIIAAArUTuHvVeivT4mV9sbI9esNZsWUWEEAAAQQQQAABBBBAAAEEEECg/gIEBupfx5QQAQQQQACBQQQGaAQIIIAAAggggAACCCCAAAIIICABAgOSIEUAAQQQQKDGAnc8us5Kt+T+5yw9YcJIS6+/aEqNS03REEAAAQQQQAABBBBAAAEEEECgkQCBgUYqrEMAAQQQQKBmAgQGalahFAcBBBBAAAEEEEAAAQQQQACBNgQIDLSBx64IIIAAAghUReDK2562rD7Rt8XSeedNtPT0Yw+vShHIJwIIIIAAAggggAACCCCAAAII5CRAYCAnSA6DAAIIIIBAmQUIDJS5dsgbAggggAACCCCAAAIIIIAAAp0VIDDQWW/OhgACPSiwZdvrVuoDh+xr6c7de2MKofXaaOTw/fVnT6V1d1u3abvV52N9my3db999LN2z961Uy6MOjtpF2hH/n7p2uR132449ln5r/imWlr19qR3c/4OXUrl4x6xOdhL+QwABBBBAAAEEEEAAAQQQQKDmAgQGal7BFA8BBLovoI7NUAAgtF45L3vHrfKZd1p3NwID6VqM2gGBgXRebIUAAggggAACCCCAAAIIIIBAGgECA2mU2AYBBBBoQ8A/9DXroaYdPcp2ueazk1Ptqo7UNRtese1vf3idpbvfeNPSXXui9JhxI2x54thDLB036r2WXvPNZyy94Y+Oi9aPHmZpp/877Uvfs1PufiMaQZ/1/Esun267jOtS/pPye/eq9bbJ4mV9SZs2fP2ECSNt/fUXTWn4ulYqADFn0QqtsvTRG86KLavdbN76Wmz9pLFRO4mt7ODCmvUv29nm3vJkS2cddcgBtt+d805uaX92QgABBBBAAAEEEEAAAQQQQKCOAgQG6lirlAkBBEolQGCgteogMNDcjcBAcx+9SmBAEqQIIIAAAggggAACCCCAAAIIvCNAYOAdC/5CAAEEChEIBQYmfPBgO59G7PuT7/Pbv2Wr0t4jfeeu6NkF19+9xvZ7om+LpTrPVRccY8s7+rd79EebbPmOR6IZBbYw4L9u34NeI+q3v/bGgFy9+8/7n47uPa9752uLss8YeOCHUb4X3vWssmypOvwvO+uo2PrQQtKtpnz70/E100D5+Nr9z9kpvKPO221PzWhQfnyqmRFX3bY69hKBgRgHCwgggAACCCCAAAIIIIAAAgiYAIEBGgICCCBQsIDvmNXp1GFPYEAi8ZTAAIGBgS2CwMBADf5GAAEEEEAAAQQQQAABBBBAoD0BAgPt+bE3AgggkCgQCgzMnHyY7Tv/nEmJx2i2gTpM534tugf75leje8RfePI4223OzCOb7T5oxhXLYq9XbYT1BQsfsfyr3CpMt0e4Kx+hVIEP/4wBP6I/tH/a9Vd/IxpBv3LtZttl3nkTLd26Y4+l9z0VzVw49ZjftWXNUPEzGfJqr3aSAv7TjAH/LIWqtecCaDgkAggggAACCCCAAAIIIIAAAu8SIDDwLhJWIIAAAvkKEBjI19MfjcCAF4kvExjg4cPxFsESAggggAACCCCAAAIIIIAAAoMGERigFSCAAAIFC4QCA2ef+CE789yzP9ZWDpYsj+4Nr2cFZB1x7jvW88pXW4XKsLPPv3Yt+4wB3dvfj8zPWn8qbyj91LXL7SU9O0AzSb7/bPSMiTvnndxw16UPPW/rb3/ohdjr3X72RCwzAxaYMTAAgz8RQAABBBBAAAEEEEAAAQQQSBAgMJAAxMsIIIBAuwIEBtoVbL4/gYHmPgQGmDHQvIXwKgIIIIAAAggggAACCCCAQC8KEBjoxVqnzAgg0FGBUGBAI7eTngEQyqyeLXD+godjm2QdKe87jm/64vF2vEljR8SOW9aFqgYGin7GwM5de63KZn35gVjVDT9oP1v+mz87ydKRw/ePva6FlX3RMwmuvi16RoHWZ21f2q/olBkDRQtzfAQQQAABBBBAAAEEEEAAgToJEBioU21SFgQQKKUAgYFiq4XAQGNfAgORCw8fbtw+WIsAAggggAACCCCAAAIIINDbAgQGerv+KT0CCHRAIBQYmDn5MDv7/HMmtZQL/2wBdYAuuWyaHe/Aofs2PW5ohHVZ7yEfKkxVAwOhZwxMHn+oFfXG2ceFipxqfej4c8440va/cMa4psdZs/5le33uLU/Gtitr+wi1Z70vQs9SiBWOBQQQQAABBBBAAAEEEEAAAQR6RIDAQI9UNMVEAIHuCRAYKNaewEBjXwIDkQuBgcbtg7UIIIAAAggggAACCCCAAAK9LUBgoLfrn9IjgEAHBEKBgU9PG2Nnv3TWUS3l4k8Xr7L9+l7camnWZxb4juN2O1A1YnvNhlcsP3vf/A9LP3rY+ywt6pkFsxetsONv2LTdUv1X1nvhK39FP2PAzyjRswW+c9VMZaFpGspf1WYMjBk9zMq59PLpTcvLiwgggAACCCCAAAIIIIAAAgj0kgCBgV6qbcqKAAJdESAwQGCgUcMLdbyfMGGkbX79RVMa7ZZ6HYGBiIrAQOomw4YIIIAAAggggAACCCCAAAI9JEBgoIcqm6IigEB3BEKBgXafMTDjimWxAs07b6Itn37s4bH1oYUrb3vaXnqib4ulreZH5bvvqZfsOEePOdjS9793iKV3PLLO0qwj1m2nFP9xK6HGSO3Wrw9cDBm8j53owevObHzC/rWaOXLv4xtszdoN0YyWgw/az5Y/MOIAS1t9tkb/ad6V6Lxz+meQaIN2Z8LoOKQIIIAAAggggAACCCCAAAII1EmAwECdapOyIIBAKQXUcb7k/udi+Wu1I14HITAQSRAYUIuIpwQGIg8CA/F2wRICCCCAAAIIIIAAAggggAACvxYgMEA7QAABBAoWCAUGsj4TQNncsu11+/P8BQ9rlaVpZwysWf+ybT/3lidb2l87+WcUhMrjt5t29Cg7xDWfnaxDtZUSGGjM5wNHN33xeNsw7bMefGAhVL86ux+xr+3/y5Tfs002b33NUrW7vDvs/fmVr7zPo+OSIoAAAggggAACCCCAAAIIIFBlAQIDVa498o4AApUQIDAQ3WJo4V3PWn0RGIiarQ+YqDFPHn+o/Xnj7OO0qqWUwEDERmCgpebDTggggAACCCCAAAIIIIAAAjUXIDBQ8wqmeAgg0H2BUGCg1VsJhWYMJI0I37lrr2HMu/UpS/tejO79LqFvzT/F/hw5fH+tapr6EeVJ+/uO6qTtm558wIvMGBiA8fafoZHzab1bbV+qB+VmyWXT7M8Dh+6rVZYuuGeNpctXb7T086ceYensU8db2up/oXITGGhVlP0QQAABBBBAAAEEEEAAAQTqLEBgoM61S9kQQKAUAgQGomogMBBvjkXNGAh1kBMYODleASwhgAACCCCAAAIIIIAAAggg0MMCBAZ6uPIpOgIIdEYgFBjQPdjnzDwyU0ZCI7qTjqeR2kMGv8fO993Hfx4776M3nBVbVgfzQf0jvjWTQDMPZn35Ads+7YjsP128yrbXTIWkGQ6xzDRZmL1ohb26YdP22FZLLp9uy+NGD4utL8vC3avWW1YWL+uLZandWwmF2puv39hJBywsWR49JPuOR9bZ2gkfPNjSr14ydcBW7/zpn1mR1A5D7Tdt/t45c/wvtdc5/e1Br47pr/+l/e1B60kRQAABBBBAAAEEEEAAAQQQ6GUBAgO9XPuUHQEEOiIQ6qhN6kANZS7UsZp0PAIDIdHurCcwEH94NoGB7rRDzooAAggggAACCCCAAAIIINCbAgQGerPeKTUCCHRQIBQYaPUZA8r6p65dbn9u27HH0uEH7Wfp1//HJ7WJpXeu/Jml3392k6U3feF4S89fEO+Y1a1mNm99zV6fe8uTls47b6Klpx97uKV+ZHbSiHLb6e3//Ej0OWdEMyUunDFOm7SU6t72m1+N8q2DlH3GQFG3EvLPfhgyeB8jefC6M0XTMFW9Xto/s2P3G2/ZdkmOvn2nrVd/a6miAgNpZ7Q0RGElAggggAACCCCAAAIIIIAAAjUVIDBQ04qlWAggUB4B33GqnBEYIDDw67aw8K5n1SQsbfdWQgQGoltLCZXAgCRIEUAAAQQQQAABBBBAAAEEEHhHgMDAOxb8hQACCBQiEAoMfHraGDvfpbOOaum8/t7uoYNoRP/Ciz8R2+Rz/+v7tqwZB7EX317wMwX0uj+vjh+6B732062Mlq/eaKuSbn2k/ZLSqs4YKOpWQn4mifxCz3Tw9akZBgsunmK7Tho7QodomF79jdW2fuXazZaG2o3fmRkDXoRlBBBAAAEEEEAAAQQQQAABBDonQGCgc9acCQEEelSAwEBU8QQG4m8AAgPLYiDcSijGwQICCCCAAAIIIIAAAggggAAChQoQGCiUl4MjgAACgwaFAgPt3kpItro3/KM/ip4h8MqvdttLpx3zAUtDI779fjrejI+Ntj/HjR6mVbHUjzBPO2Ng6UPP23Fuf+gFS3t9xkDezxhQfc5ZFN1KR+1LlaeZGnoWhWaKaIbA2P76vuqCY2yXkcP3165NUx/wSTtjwM/0SHqWQdNMvP2iL7+251ZCkiBFAAEEEEAAAQQQQAABBBBA4B0BAgPvWPAXAgggUIgAgYGIlcBAvHkRGHjEQPTQaAID8fbBEgIIIIAAAggggAACCCCAAAJFChAYKFKXYyOAAAJvC4QCA3mNmG8VeeeuvbbrgUP3zXQIP2Mg7YjsVkeWJ2Vudv8I+Q2btsc2bbejOXawAhbyDgwoi1u2vW5/hkb8a2T9Qf31fuCQqP6ztgOdzz9jYM4Z6R4q7Z+F8K35pzTNt84XSlUuzZjQdmP6Z0IsvXy6VpEigAACCCCAAAIIIIAAAggg0PMCBAZ6vgkAgAACRQsQGIiECQzEWxqBgeUGolsaERiItw+WEEAAAQQQQAABBBBAAAEEEChSgMBAkbocGwEEEHhbIBQY0D3gL511lDm1OmK708iaaTDryw/ETp308Fg/sjztvehjJ2mw4O9Vr016dcaAyt+p9Ob7fmyn+vbKDZamnTFw2pe+Z9vvfuMtS5Paj23U5L/QjIG0M1qaHJqXEEAAAQQQQAABBBBAAAEEEKidAIGB2lUpBUIAgbIJEBiIaoTAQLxlFjVjIH6W4pcIDBRvzBkQQAABBBBAAAEEEEAAAQQQyFuAwEDeohwPAQQQcAKhwEC3nzHgspl50d8j/r6/PN2OEZr5oO137XnTtnvwujMzn7PRDlWdMXD3qvVWnMXL+mLFmjz+UFu+cfZxsfVlXfABjhMmjLSsXn/RlIZZ1jMQzl/wsL0+4YMHW/rVS6Y23D7tSmYMpJViOwQQQAABBBBAAAEEEEAAAQQGDSIwQCtAAAEEChYgMBABExiINzQCAwQG4i2CJQQQQAABBBBAAAEEEEAAAQQ6J0BgoHPWnAkBBHpUIBQY0DMG5p8zqZIyfqR4aAbEmvUvW/nm3vKkpaHtWkWo6owB76fyV23GgPI944pl+tPS0DMDVvZtttevvm21pXm1B2YMxPhZQAABBBBAAAEEEEAAAQQQQKCpAIGBpjy8iAACCLQvQGCAwECjVkRggMBAo3bBOgQQQAABBBBAAAEEEEAAAQQ6IUBgoBPKnAMBBHpaIBQYyGukdLdxb/rujywL333855bqnvEfGHGALS9fvdFSzZC4dNZRthx6FoG9mOG/2YtW2NYbNm2P7bXk8um2PG70sNj6sizULTCw4J41Rqv69u1bI/qv+Lt/tu2GDH6PpXfOOzmXKtHx5/S3Bx10TH/9L+1vD1pPigACCCCAAAIIIIAAAggggEAvCxAY6OXap+wIINARAQIDBAYaNTQCAwQGGrUL1iGAAAIIIIAAAggggAACCCDQCQECA51Q5hwIINDTAqHAQFEj6LuFrRHbP9scjdzfsWuvZWXSmPdbWtTIfZ4x0K0ab3xePVT5zv/zM9tg2449sQ3PPvFDtjznD8dbmtfMEbU/P2Ng1CHRzJW8ZibECsMCAggggAACCCCAAAIIIIAAAhUVIDBQ0Yoj2wggUB0BAgMEBhq11rrNGFAZCQxIghQBBBBAAAEEEEAAAQQQQACB8goQGChv3ZAzBBCoiUAoMODvwV6T4na8GFWdMaAO9MXL+mJmk8cfass3zj4utp6F5gLMGGjuw6sIIIAAAggggAACCCCAAAIIDBQgMDBQg78RQACBAgQIDBSAOuCQBAYGYPTwnwQGerjyKToCCCCAAAIIIIAAAggggEBmAQIDmcnYAQEEEMgmEAoM6BkD88+ZlO2AbB0TqGpgoK63EopVTgcXCAx0EJtTIYAAAggggAACCCCAAAIIVF6AwEDlq5ACIIBA2QUIDBRbQwQGivWtytEJDFSlpsgnAggggAACCCCAAAIIIIBAGQQIDJShFsgDAgjUWiAUGOAZA/lU++xFK+xAGzZtjx1wyeXTbXnc6GGx9WVZYMZAvjURCgyM6a//pf3tId+zcjQEEEAAAQQQQAABBBBAAAEEqilAYKCa9UauEUCgQgIEBoqtLAIDxfpW5egEBqpSU+QTAQQQQAABBBBAAAEEEECgDAIEBspQC+QBAQRqLRAKDOgZA5fOOsrKf+DQfWvtUFThuJVQUbLVOm4oMDDqkAOsIHfOO7laBSK3CCCAAAIIIIAAAggggAACCBQoQGCgQFwOjQACCPxagMBAse2AwECxvlU5OoGBqtQU+UQAAQQQQAABBBBAAAEEECiDAIGBMtQCeUAAgVoLhAIDPGMgn2qvamDg7lXrDWDxsr4YxOTxh9ryjbOPi61nobkAgYHmPryKAAIIIIAAAggggAACCCCAwEABAgMDNfgbAQQQKECAwEABqAMOSWBgAEYP/0lgoIcrn6IjgAACCCCAAAIIIIAAAghkFiAwkJmMHRBAAIFsAqHAgJ4xMP+cSdkOyNYxgaoGBh744UtWjoV3PRsrDzMGYhypFwgMpKZiQwQQQAABBBBAAAEEEEAAAQQGERigESCAAAIFCxAYKBaYwECxvlU5OoGBqtQU+UQAAQQQQAABBBBAAAEEECiDAIGBMtQCeUAAgVoLhAIDPGMgn2qfvWiFHWjDpu2xAy65fLotjxs9LLa+LAvMGMi3JkKBgTH99b+0vz3ke1aOhgACCCCAAAIIIIAAAggggEA1BQgMVLPeyDUCCFRIgMBAsZVFYKBY36ocncBAVWqKfCKAAAIIIIAAAggggAACCJRBgMBAGWqBPCCAQK0FQoEBPWPg0llHWfkPHLpvrR2KKhy3EipKtlrHDQUGRh1ygBXkznknV6tA5BYBBBBAAAEEEEAAAQQQQACBAgUIDBSIy6ERQACBXwsQGCi2HRAYKNa3KkcnMFCVmiKfCCCAAAIIIIAAAggggAACZRAgMFCGWiAPCCBQa4FQYIBnDORT7VUNDNy9ar0BLF7WF4OYPP5QW75x9nGx9Sw0FyAw0NyHVxFAAAEEEEAAAQQQQAABBBAYKEBgYKAGfyOAAAIFCBAYKAB1wCEJDAzA6OE/CQz0cOVTdAQQQAABBBBAAAEEEEAAgcwCBAYyk7EDAgggkE0gFBjQMwbmnzMp2wHZOiZQ1cDAAz98ycqx8K5nY+XJe8bAmvUv2/F/8LNXLH3lV7tj5/ud9w215dmnjo+tr9oCgYGq1Rj5RQABBBBAAAEEEEAAAQQQ6KYAgYFu6nNuBBDoCQECA8VWM4GB5r4EBnj4cPMWwqsIIIAAAggggAACCCCAAAK9KEBgoBdrnTIjgEBHBUKBAZ4xkE81zF60wg60YdP22AGXXD7dlseNHhZbX5aFTs0Y0Ej6R3+0yYp+xyPrYgR1aYcq55z+9qBCjumv/6X97UHrSRFAAAEEEEAAAQQQQAABBBDoZQECA71c+5QdAQQ6IkBgoFhmAgPNfdVhTmAgChQ11+JVBBBAAAEEEEAAAQQQQAABBHpDgMBAb9QzpewXUAfZmg3Rvbb3vvkfMZsLZ4yLLbOAQB4CocCAnjFw6ayj7DQHDt03j9P13DG4lVC6Kt+y7XXb8PwFD8d2mHfeRFs+/djDY+urtqDPdz9jYNQh3EqoanVJfhFAAAEEEEAAAQQQQAABBIoXIDBQvDFnKJGAOo4IDJSoUnogKwQGiq1kAgPpfAkMnJwOiq0QQAABBBBAAAEEEEAAAQQQ6AEBAgM9UMm9XMRPXbvcir9tx56mDMMP2s9e/85VM5tux4sItCIQCgzU5d7urZjkuU9VAwN3r1pvDIuX9cU4Jo8/1JZvnH1cbH27CwqMakT9kMH72CEfvO7Mdg9div19+ZQpZgxIghQBBBBAAAEEEEAAAQQQQACBdwQIDLxjwV81FCAwUMNKrWCRCAwUW2kEBtL5+o5zAgPp3NgKAQQQQAABBBBAAAEEEEAAgToKEBioY61Spt8I6NYZV9622tZt2LT9N68N/OOECSNt8fqLpgxczd8I5CIQCgzoGQPzz5mUy3n8QdT+N299zV76ycZfWvr6njct3b33LUvPOXGMpSOH72+pRrKPG/VeW540doSlZf2vqoGBB374kpEuvOvZGG1RMwZ8O5zwwYPtvF+9ZGrs/FVd8IEPlYMZA5IgRQABBBBAAAEEEEAAAQQQQOAdAQID71jwVw0F1DFKYKCGlVuhIvkOWWWdwIAk2ksJDKTz8+2QwEA6N7ZCAAEEEEAAAQQQQAABBBBAoI4CBAbqWKuU6V0CC+5ZY+uWr974rtd+vWLOGUfa+gtnjGv4OisRaEfAd8jqWEU9Y0Ajp6/++g/sVJtfjWYMqCP4AyMOsPU7Xt9r6RN9WyzVyGptX1T+7GQ5/jd70Qo7mp8RtOTy6bZ+3OhhOZ4tv0N1esbA1d+IZk6tXLvZClGV+k0rrnavZyhovzH99b+0vz1oPSkCCCCAAAIIIIAAAggggAACvSxAYKCXa7+Hyk5goIcqu4RFJTBQbKUQGEjnS2AgChSl02IrBBBAAAEEEEAAAQQQQAABBOotQGCg3vVL6foFQh2HAvrW/FPsT91jXetJEchDIBQY0K2ELp11lJ3mwKH7tnU6jZi+dPEqO87uN6JnCNz0xeNtOfSsgCtve9pe18wBZSJpP23X7ZRbCaWrAe8077yJtuPpxx4eO8Ca9S/b8pZf7rL0w6OiGRdlnXmhzKv9+xkDmglz57yTtSkpAggggAACCCCAAAIIIIAAAj0vQGCg55tAbwAQGOiNei5rKQkMFFszvsNbZ+NWQpKIUu9EYCDuwxICCCCAAAIIIIAAAggggAACvSRAYKCXaruHy3ral75npdcIalEMGbyP/fngdWdqFSkCuQuEAgN53eNdD9k+f8HDsbynHfG/ZPlztt8dj6yL7f/oDWfFlsu64Du8lc+yBwbuXrXesrp4WZ+ybOnk8YdaeuPs42LrW13w7UOfe/f+xR/aITdve91S/0wKf75QIMFv161lZgx0S57zIoAAAggggAACCCCAAAIIVFGAwEAVa408ZxYgMJCZjB1yFCAwkCNmg0MRGGiAMmAVgYHoYdvcSmhAo+BPBBBAAAEEEEAAAQQQQACBnhcgMNDzTaDeAL5DzJd2wgcPtlVfvWSqf4llBHITCAUG9IyB+edMautcfsT/CRNG2vGuv2hKquP6h3NX7X1R1cDAAz98yepn4V3PxuoprxkDO3ftteOu2/RLS+fe8qSlqt+rLjjGlv/krx+z9Iwp0bMGPv7h99vy3y7/qaV9L261VP+VdSYGMwZUQ6QIIIAAAggggAACCCCAAAIIJAsQGEg2YosKCxAYqHDl1SjrBAaKrUwCA419CQxELjx8uHH7YC0CCCCAAAIIIIAAAggggEBvCxAYqHj9a6Tv2g3RiM7Nr77WtEQaKaqNNBK0rh0nfiS1yq3U3+P96m+stpeefv4XlvpnEmQdia3zkPa2QCgw4NtfVqVQ4CvtswV0PrX7lWs326p286XjdioNPVy8rCPb5VL0jAGdx38OaqbKin/ZZJssuDiaWTJp7AjtYqkCC7O+/EBs/SVnTbDlc6eOja3v9kJoxsCY0cMsa0svn97tLHJ+BBBAAAEEEEAAAQQQQAABBEojQGCgNFXRWkYIDDR38x1ifmvfAaoOUgIDXorldgQIDLSjl7wvgYHmRv5zkMBAcy9eRQABBBBAAAEEEEAAAQQQQKAXBAgMVKyWNUJY94TetmNPrATq8NE9y9esf9len3/r05b6EfDaua4zBhQ4Wb56o4oaSzWy+ppvPmPrvWds4wELzBwYgMGfiQKhwIDer5fOOsqOceDQfROPNXCD0Ijz+/7y9IGbDUo67qeuXW7bq/3PO2+iLZ9+bHTP+djBSrjArYSaV8r/XPrPtsHq/plQ2lqff36mgF5X6h/e7gOq2q7baWjGQF2/37rtzfkRQAABBBBAAAEEEEAAAQSqLUBgoGL1R2AgW4URGMjmxdbFCBAYKMZVRyUwIInGKYGBAwzmznknNwZiLQIIIIAAAggggAACCCCAAAI9KEBgoCKVHhoJqexr5LFmCmi90lDHmV5P2l/bVS1NKvfwg/azIo0+JOo4uvy/fsyWD+ofuX3+gocbFnnI4H1s/YPXndnw9XZXhjqS2z1u1v3l852rZmbdle0HCITqs92R1z7wlfVe6iv7omcKXH3b6gG5HTToW/NPseWRw/ePrU9aUODyH5/+V9v0jkfWWdrq8ZLOp9dD7/OyP2Pg7lXrrQiLl/WpKJZOHn+opTfOPi62vtWFGVcsi+2a9fh+/3bbbSwzOS6EvieZMZAjModCAAEEEEAAAQQQQAABBBCojQCBgYpUZajDQ9lP6tgPdZyl3V/bVS1NKrc6vgkMNK5Z+RAYaOyTdi2BgdYCDWl9Q+9zAgORoO/YJzCQtmWxHQIIIIAAAggggAACCCCAAAL1FSAwUJG6DXV8pe24De2v4l9y1gT789ypY7WqFqnvEPOFShpJmuT26A1n+UPmshzqSM7l4BkOkuST4VA9vWmoPpMCeklo/hYxWY+nh22vXBvNHGi1vvUskxvuXWtZ3vzqa7GsM2MgxvGbhdAzIrJ23P/mgO6PUEA57bMFdDj/OVrWZ1CEyttqu1b5SRFAAAEEEEAAAQQQQAABBBCoowCBgYrUaqiDmsBA8wr0HVp+66QOo5C7jkNgQBKkzQQIDDBjoFH7IDDQSKX1dQQGWrdjTwQQQAABBBBAAAEEEEAAgd4TIDBQ8joPdSgq22lHCHerg/ux/nuYX+XuYZ423ypn1jTU4eaPk3SrkW65+XyyXG2B0Pu43Xu1+/aZ9n2lEf5zb3kyBps2P3qWwNyvRfsf3P+sjj+e+RE73jXffMbSbTv2WFr0jIHZi1bYeTZs2m6p/kt6f2u7bqWhz6m8Zgz4dpcUCPUOoY72tDMO1E70zImfb9lhp7j+oin+VLksh/Kb9dkbuWSGgyCAAAIIIIAAAggggAACCCBQcgECAyWvIN+x47ObtiPQdyD64xQ18p3AgJdmuRcFQu/jtB3xITP/vk77eUBgICTa2fUEBvL1JjCQrydHQwABBBBAAAEEEEAAAQQQqLcAgYGS1++Vtz1tOXyib0vDnKYdERu6pU7WEaQNM9Fk5WW3PG6vrl3/asOtigpILLhnjZ1v+eqNDc874YMH2/qvXjK14eta6TtetV5pUfnX8UnrIRAKDKgj/9JZR1lBDxy6b6YC/+niVbZ934tbLU0aab5z117bbt6tT1m6tX9Ev54JkPVZI+rYPv3Yw+14+s/nq+gZA6H3adrPR+W706n8Ft71bOzUSfUY27jJgn8Gxdknfsi2nnv2x5rs9c5LoXab9LmnwJN/5kTaz913cpDtr1BgoOjvuWy5ZGsEEEAAAQQQQAABBBBAAAEEyiFAYKAc9RAmSr3vAABAAElEQVTMBYGBIE3TFwgMNOXhxQ4LhDpYCQzkUxEEBho7EhiIXAgMNG4frEUAAQQQQAABBBBAAAEEEOhtAQIDJa//0Ej/IYP3sZw/eN2ZTUtw96r19vriZX0Nt1PH5PxzJjV8vd2V3Zox4Ecs+3LMOeNIW3XhjHH+pdjyp65dbsu6V7peTOuv7Ul7WyAUGGj3VkI+ABZql5op8Jd3/tAqYvIRIyxdsXazpZpx4O8dr3zf99RLtt2d8062NOk///5jxkBjsdDnc14zBvzn17zzJlpG/AyPxrkbNMjXY6i9aqT+1V//gR1Kz5wYdsBgW9aMN2YMhKRZjwACCCCAAAIIIIAAAggggEDnBQgMdN480xkJDGTi+s3GvkPrNy/0/0FgwIuwXKSAOtiX3P9c7DShjtbYRk0WCAxEOFWdMUBgoEnjbuElBSjm9D+MWodgxoAkSBFAAAEEEEAAAQQQQAABBBB4R4DAwDsWpfpL92iee8uTDfN19NhDbP1Xvnhiw9e18upvrLY/V/aPDNZ6pVnvKa790qbqqLm0/17ou994y3Ztt0M06fx+pKzfPu09skP+RY989flludoCocBAuzN2NBNg1pcfiAGNGT3Mlof2zyzSjAD/vvMBNHWg6mB69kDWe/X74zJjQKLxtKhnDOhz13eQX3PRZMvAtAmj4hlxS/77RzNR/v7P/8C2HDl8/9geOt/PNm+39ZqRsGXb67Z8/oKHLS36c1P58OVWu0474yVWOBYQQAABBBBAAAEEEEAAAQQQqKkAgYGSVqzvmPHZJDDgReLLBAbiHix1V4DAwClWAb5DOa9aqeqMAQIDebWA6DgEBvL15GgIIIAAAggggAACCCCAAAL1FiAwUNL6DXUkKrtpRxondZAXPZJX+e1UGuoY0vnTjhxdsjy65csdj6zTrrHUj7yOvZjDQlL953CKVIcYftB+tt13rpqZans2aiwQqs9W25FmChw4dF87oQKJN9y71pZ3v/GmpaMPOcDSP575EUsnjY2eLWALb/+n/a755jNaZan2W3jxJ2xZ54lt1GSh0zMGZvffOmbDpmjEurKWdaaD9utUWlRgIHRc/wwJX061qzlfWWkvacZI2luv+eOVZcaAZtAsvXy6zyLLOQgsfeh5O8rPNv3K0vfs81tNj/q5Tx5hr4/rn9nUdOMav6j3x+atr1kpt/xyV6y0O3btteVzp46NrWcBgTIK6Pp75643LHu+PSvPmlGmZVIEyiiQ1J5Hvm+oZdtfV5exLOQJAQk81rfZ/ty5O7q+0HqlJ300mlGc9Xef9i861e+bx368xU6VdL151AcPtu24jiq6Zjh+HQQIDJS0FkMdicougQFJxFNdyPlbSWgrAgOSSJcSGEjnlLRV6P1MYCBJLt3rBAbiTrpwXnjXs7EXCAwQGIg1iJwWCAy0BklgoDU39iqngK6/CQyUs37IVTaBpPZMYCCbJ1uXQ4DAQDnqgVwgUEYBAgNlrJW38xTq2FF2kwIDSSPe69rhG+qAldu0o6NI+DWfje61rfU+DXU0aruiZ1oklUP5KDpNG0gpOh9VP36oPvU+vnTWUVbEso7QyOrf6RkD3EooXkM33/djW/HtlRtiL0wef6gt3zj7uNh6zRy5Z9XPbf0TfdFInLNP/JAtzz37Y7Ht0y6o45NnDKQVq+Z2/v1+woSRVpAJvze8YYGmHBG1w16fMaCOp69//wVz8s+C4vu3YfNhZUkF1J5vfeinlkN9jyi7+ly4/qIpWkWKQGkF9Dv8vqdesjzqWV3KsK7f558zSatIESitgK7H7/9B1J5vfyi67vAZLvtMa5XjkX/5d8v6vu/57VgRvvP4i7asGc9p+31iB2EBgR4VIDBQ0orXBYkf8ansJl2QEBiIbgUkL6VpvyAIDERidEyo5bSXEhjgGQONWlDocz7Ugd/oGI3WERhYEWPhcyzGkfsCgYHWSNWRSmCgNT/2KpeA2jOBgXLVC7lpTUDXZwQGWvNjr3IJqEOdwEC56oXcIFAmAQIDZaqNAXkJdSRqk1BgQBfmV/zdP2tTS7ft2BNb9iN3tN/VX/+BbXfTF463tKiHhcYyk+PC1d9YbUfzI+90ipCbXtfI2bm3PKlVsdTvr3ty12Wkd6ywLOQmEHo/t3orodwyVtCBfEdh0TNsqjpj4O5V660GFi/ri9VEu4EB+eugJ3z0d+zPex+LZhD47wNtN6H/XpyhZ1Jou7SpfogwYyCtWDW3U3vTiMrPnxo9Q2D2qeOrWaAu5do71vX7oUu8nLbDAjOuWBY7I+05xsFCxQR8e5533kQrAc/MqFhFkl0TWHDPGkuXr95oaV0G0Phy+X4bqh8BBMICBAbCNl19JdSRqEyFPujUwU9gIHq4jryUhtz0OoEBSZDmKRB6P9f1h7Lv4CIw0Lg1ERho7NLqWn3/+WfM1OUHT6suRe/n3+8EBloT9451/X5oTYe9qibgO1Jpz1WrQfI7UMC3ZwIDA3X4u2oCvgO9LtfJvlxJ/T5Vqzfyi0CRAgQGitRt49ihDg4d0n+Aa8rj1+6PbqFzwR982Db191rT/hoZetUFx9iquV+LRsjvfuNNW77hj6J7UFftHsChkcMqd9KthPwPc+03ZvQw+3Pp5Ty8Uiak6QVCgYG6XrD49xGBgcZtRZ/b/pZx7c4Y0NlCM5o0kn/Hrr226ajh+1ua98wnnYcZA6qReqb+/U5goLV6/tS1y21Hzeih46m5oz4/n93wqm049aPRsy1OmjCq+Y682hEB35F60xejmciTxo7oyPmrchL93rv38WhG3+EjDrSsXzhjXFWKUOt8qn78gIOir2urjqrfPS+9vNOK8pkTx1hatX6FqtdDKP/+DgvtPlMsdJ5Or/eBgaR+n07nj/MhUGYBAgMlrZ3QhYiyS2BAEvGUwEDcg6VyCOgCeUl/4E65IjAgifbS0Pu+7A/RUscWgYH26l97h743/feltifNR4DAQD6OBAayOerzk8BANrdObU1gIJ20vrcIDKTz6vRWqh8CA9nk9buHwEA2t05tTWCgU9KcB4HqCBAYKFld+RGeoQ6vULb9VN3LbnncNl27PhpRFdpPHSdVfbaAyuV/iGi9Ul9Orb/2zmfsT90jWes1s+Krl0zVKlIEMgvoAtkHBvz7NfOBS7qD/9wquoM+9LDwos/bLr86tooKDLSbv3b3L8uMAWZ8tVuTzff3gYG6fq41V2j9VV33zfryA7GDMCI1xvGuBf+9Srt7F1FXVoQ6Uh+94ayu5KfsJ/W3MPXPgCt7/uueP3/LR/2OvHPeyXUvelvl6/TvgLYy24M7+4EIdZnR5QMedR2A14NNliJ3QIDAQAeQs5xCPxB1Swf/xZp0LP/DiMBAXEwXdAqA6FUCA5IgLULAd2DoHP79qvVVT/3nVtEd9AQGytliCAyUs17yzhWBgfZEdd1HYCCbo/9erev3aTaV7m9NYCBbHRAYyObV6a0JDLQm3unfAa3lsnf3IjDQu3VPyREICRAYCMmUZL06Vv73d9ZajlY//4tYzjSiffrR0T1Vz506Nva69r/yttW2fsOm7bHXFUm9+JSP2PqR/feajm1U4gX9oN687XXLpR66vGtP9KyE6b8/2tb/28uvWepnBKhoww/az/788O9GzxKYfER0D1Tvqe1JEcgi4DswtK/ef5fOOspWKSCo18ua6n23btMvY1l88Jl/s+XlqzfG1utzatYnDo+tP/3Y+HLsxQwL/geIdi06IKHztJoyY6BVucb7hTqkFBBmhF9jt3bXEhhoT3Bl32Y7wNX912m013Se/nuVwEA6t6K38vXCCPjm4j4woOslZio3d+vUq/6e5bpun3/OpE5loZLn8dcFZb8eryRyC5nW7zc/EKEu9ePfrzxjoIVGwi49K0BgoORVr459AgONK0pfcAQGGvuwthwC/oeycqUfGAQGJNJaSmCgNbei99L3Fw8fLlq6u8f3HQB00GarDwID2by0tf9epd1JpruprxcCA83rg8BAc59uv+o7GnXdTmCgec3464K6dDw3L3X5X1W/CYGB8tcVOUSg0wIEBjotzvkQQKDnBPwPZQFUvSNDHVqP/2SLFen97x1i6Su/2t1wWeXWdhdM+7CtanemRFUDA36Kunwmjz/U/rxx9nFaVcnUj+AveiSkP5/QGIEtiWJS3wFQ9OeaAk4qTdVmOirfSpcsf87+vOORdZYm+an8VS+3yt9q6r9Xk9xaPU+n9lO96nxVrV9/C9OkelG5q1pe1VerqQ8MVD2QovqUR6hetV3ode3f7dRfX4buxa7yKL9lL5fyWVTqrwuqHhhQ/Va9Xv1M5aTr46qVm2cMFPWO5ri9IEBgoBdqmTIigEBXBXwHhjKT9INZ25U1JTDQXs0QGGjPz+9NYMCLdGbZdwAU/bmmH6oqXdV/qBMYUE1mS/33atHtLlvusm9dl3ZNYCBb3RMY2D8bWIe3JjDQGri/LiAw0Jpj3nsRGMhblOMhUB8BAgP1qUtKggACJRXwHRjKJlOSJdFe6n+46Whl/yHiL9CV76rOGFDH1o5de60o9z6+wVL/zIlrLpps60f1P9Nm3Ojo2S4qf6spgYFW5drbz3cA5N1Bq46zG+6NnrW0+dXomUE+1xr59vlTxtlLD/wgetbJxl/stOXvXDXT71KK5Stve9ry8URfNPNq3nkTbVnPYNHnxO0PRzMKfPnnnHGkbX/hjKjcpShUBzLhv1fzbndFFUGfk//49L/aKb7/7CZLfb3q/LpOmDjmEFu18K5nLb22/3P0pAnRM8a0fbdT/1DLb80/xbKkAJ6/NYvPb1nL5fOZ17I+3+be8qQdsuiZdXnlW8dJ+nzSdpoJcdJRI23V1+6PZkpN6Z8hWbZb84RuuaL2fOCQfa0cN9/3Y0tX/Ev0Pt79xlu2rO+jKz5ztC1PGhs9u84WeuA/f11Q9utxVYmuI0PXr9pOqT6ftazrXbUTfe7p9W6nSx963rJw+0MvWHr2iR+ydO7ZH7NUn0eh6y2Vt2zvV8v82//57xeeMSAZUgSSBQgMJBuxBQIIINCWgO/A0MHKfoGlfJY9JTBQjhpShxeBgXLUR6dy4TsA8u6gTfqhqnKqI4bAgETqnfrv1bzbXVF6+pwkMBAF7rwzgYGDjaQqDx8mMEBgwL+Hf73srwsIDDRS6vw6AgOdN+eMCFRFgMBAVWqKfCKAQGUFfAeGClKVjgzlt6zp7EUrLGsbNm2PZbHsP0T0g1ojQJX5qs0YUEfXtXc+oyJkSieOjUbCzpkZjXzOtPOAjTXSa05/e9BLY/pnJCy9fLpWkeYo4DsA8vpc8z9g1fF/zec+brnXjBM9o8SPvFcRyx6APe1L37OsaqSpRhre+vBPbf3aDVst/eTE0ZZ++7FoJo62t5Vv/1f2zzvlM6/Uf6/m1e7yyp8/jj6fFv3Dj+ylvhejelX7vPiUj9h6jTBVQEwjyf3x1E60vX+908v6HtDD5nX++/7ydPvz+rvXWLr9tTcs1ef+/U+/ZMvbduyxdMjgfSz9+z//A0vLUj7LTAH/+XrWyPrrL5pSwNnaP6Tq+SvLog5xzXTSTIfL/2s08lgzAdXuL128yk7uP7dC9+xvP6ftHcHXi75/llw2zQ4879anYidQe/afz2rPD153Zmz7ui/464Kyfz891rfZquSq21Zbqnqbfdp4Wz7j2MMt1fWGH5luL779n9rJnfNO1qpSpf46Se+/n2z8peXz3v7ri2lHR9cbL/9yl63X+1yFueSsCfbnuVPHalUpUp4x0N1q0PeDH/iw+403LWO79kTp2P7fZfvs81u2/spzJ1la9+/77tZO8tkJDCQbsQUCCCDQloDvwNDByt6RoXyWPSUw0N0a0oUggYHu1kO3zu47APL6XCMwQGCgWZv236t5tbtm52znNXWQEhggMDCwHfkOaAIDA3W697evF3X4EhhIVyf+uoDAQDq3orciMFC0cG8fX78HCQxUsx0QGKhmvZFrBBCokIDvwFDWNVLw0llH2SqNRNHrpOkEuJVQOqe6b6WONz9jQD/oOzWCSzNBuuWtex936t7jvgOg3Q5a/3k5/KD9jDLpGQG+I0f+/p79Wt/t1LdXjbj9wIgDYlkLfT/4e7mXvUMxVqgcFnw7abfd5ZClhofQvco1wtjPFEi6V7N/f6V9PzTMTIEr9bmnGXBqjzrlQftH92T37Vk+s778gDa19POnHmHp7FOjEbuxF2u04D+39DlQ1lsJ+Y7FtNex/iHrqsKyzXxRvvzni8r5by9Hz7iZ9YloBLmeBaP9/Oe61mtkdq88a8B/bpU1MKD68jNa0tbXjCuWqYot9ffsj71YgoVQfp9+/heWu5u+cLylfuS2f9+rKI/ecJb+LEXqZ3J06hkD6hBfs+GVrjqMfN9QO3+nP2f0PTb/1uiZWULQjJtp/c9CWtk/M2fxsj5tYmlZvwdimeyBBQIDPVDJFBEBBLor4H9gKDf6oeF/KOt10nQCBAbSOdV9K/3AIzAQdcARGIhaPIGBer7z/fcqgYHu1jOBgdb81aGiW0YRGGjNMe+9/OeLrtcJDKSTJjAQ3VIrnVbntiIwUIw1gYGXDZbAQDHtq1NHJTDQKWnOgwACPSvgf2AIoqwdGcpfVdKqBgbuXrXeiP3Iiao9Y6As7aQsgQH/w6vTPp0eUew7AFr9XNMPK3+P8rQjDUP1X9aRSKHvBXUMLrz4E9Z0QjPJvLv2K+tI47zfB96v1XaXd7788fxI6az15EdqaiR+2e5B78upe3RP//3oXtVJMyP8DBh1xCbt572rtuwDA2WtXx/4kXPaEcO+fXR6Jp/ymzb1n69qz58+aYwdIumZSP46YM4Z0TOULpwxLm0WKr2d90v7Pd7pQvvfD1nryddzVQYiyFnXi1//H5+0VaHrDf/+1fuhbM/O6NYzBkLXn3LuVNrp7w//O1af66GZJ3LQ9/2Qwe+xVZ2a0a3zkzYWIDDQ2IW1CCCAQG4CvgNDBy5rR4byV5XUX9gr32X9IaL8+QsqrScwIIlsaejCXBeqnbrw9D8Us5Wi/a31Qy/p1jvtnyk6gu8AaPVzjcBA5KmOYwIDzVuo/15ttd01P0v7r/oOFdVv2gAOgYHooYTt10Q5j0BgoJwPafXfa+oIJTCQ7n3k/cp6Pe5/PxAYiGac+lr232N6PxAYiKRCvz+8Y9HLBAaKFq738QkM1Lt+KR0CCJRAwHdgKEu9MiJO5S0q9Rf2Ok9Zf4gof6EReAQGJJQtDV2YdzowoIfmZst9flvvt+8+drBOjUz0HQCtdtD6z8ms9RZ6P6Ud0ZpfDaQ7ku/w1Q/tmy+ZagcYN3pY0wP5e+lm9Wp68A6+KAedcufuvfbnW2/9p6XDDhhs6fbXoofWavnnW3bY+s2vRvf8Vvn1jIZ99/nthvvp+Pbi2//pPGk76rVfUhq6d37ae1fr+BpZt23HHlvV6vtLxysq9Z8DClAmjURVfvz3eKfuDa3zt5uq4+zZ9a/aodRO1d7UzrRe7Vnn1bMn5Hbk4cPtJW3n99OyP/5VFxxj+/l7hOs8raa+frK2Q/95Vfb69eVVQC8pYCtfP0Agq5eO061Ugfpr73zGshBqb1rv2+kTfVtiWZdfaHu149hOby9MHHOIrcr7WSM+IKfv33v/4g/tfKGR88qffPwMx6rNUEw7w8Ffn8mhbNdX3fqc0fe9BnzJp9PpqIP3t1P6Z5/knQ+V9zN/9U926N1vvGVp2t/d+p301n9E13lJM7Dyzj/HayxAYKCxC2sRQACB3ARCF1QEBvIh9j/gdNS0FyjavtNpqCOTwEBrNUFgIHIjMPBsrAGV7YerMqcOcXWgqGOCwACBAbWRX6cEBiYP5Cjt3wQGmldNtzrsmucq/Kq/rlTHNoGBdJ/P+l6TsPwIDEiks2nodyiBgXzqQR3lBAamG2jSwBYCA/m0u7yPQmAgb1GOhwACCDiB0AVZ1UYQuWKVZnH2ohWWlw2btsfyRGAgxlH7hVBgYEz/yOull0cXrLWH6HAB/UjhVj/XTvvS9yznGnmUdUq/fmjc/tALdpxOT6nOyu7LmzVQ7AML6njJe+R71nJl3d6PrM26f7vbKyCT9y0RfHtUPu/7y9Ptz6QRqepomPXlB7SrpVlnHMR2LmBBI2f/2//+P3b0Vt+/VQmAhAj952Bou6LX5z1iOfS9mvU8vn7TdkgW7eWPHypv1ved/1wra3l9+bUcctDrnUqzfi+mzZd/v2a9XggN7CnrQITLbnncaNb2z2jSDLu0t9j0v2M1s6lTt6xMW6/desZA2vzVZTsFwu94ZJ0VKev7py4OdSsHgYG61SjlQQCB0gn4CyplsNUONO1PGgkQGKAl/Fog9EOWwECx7cP/wG71c813lBMYaF5vBAaa+6R9lcBAWqnG2xEYiFz852BjreLXZu2wT8pR6Hs163kIDEw06qJv8ZFUn2lfD9V72v3z2o7AQD6SBAbq/ayafFpJ+qMQGEhvVaUtCQxUqbbIKwIIVFIgFBjQBe+ls46yciWNIKxk4TuQaT/lW6dkxoAkeiMN/ZDNOjKqN7TyK6XvEMsaGAjVW9aOp3bzIRF1dD7yL/9uq156eaelu/a8aelHPvA+S1t9hoOO7+9NnHVEqu9o0/fJ/HOa/wDWvZV/8LNXrBy6V/+oQ6J70552zGG2PmkquG2Uw3/yyHqoex7fYLt8e2WUfnraGFs+58QozXq8vO/J7gM3WUfUqZ7m3vJkrCjtjkiV960P/9SOm9ReYidvsNDu+zc0M+KSsybY2c6dOrbBWd+9Svm4t79dtFuud58h3Rr5ptt60KA1G6L34cK7olugqZ1cdlZ0XZj2ONruwCHRw0Pzup70169ZA2mh+s36+a7jPPaTzVbUZzdEz3LQ5/LQ/d5j63VP+lY74JNGgisfIV+1wzn9M1lVL0kzBvR+/8nGX9ou+t7Z8Xp0656qfT7P/Vr0uaVnwOj7bdTBB4gkU5r353O7Mzra7RjV58TmrdEzcny9+3bd7ueZv174/KlHmH/aZzf477Ok62qVT59v//ZKVM6N/ddTeb1ffSOq2i3LfP7LvqzPP/9sgaTPt7KXi/xFAgQGaAkIIIBAwQL+h5VOp44cAgMSaS0lMNCaW932Cv0gT/oBUzeHTpen3Q75UL1l7ThqNx9y0w9aAgPNH34sr3ZTeWc9DoGBrGLR9vImMNCaX9Je8k3aTq+r44zAgEQap+qQIjBQjcAtgYHG7Vhr9TlBYCB6uHSrgTx5KiUwIIliUn0OExgoxrfbRyUw0O0a4PwIIFB7gVBgIOvI2tpDtVjAqgYG9JCqxcv6YiXn4cMxjtQLoQ5mAgOpCVvasN0O+dD7IO3I6FC9Zx3BpONc8Xf/bA6jD4lGNv7xzI/YskbY656qrd7T349IzWsErkZkTho7omE9+nve6/vn4x9+v23/t8ujEeR9L2615aTjNTxJB1f671WVZ87MIzuYi/Cp/K2xsubP3yu51famDigFApav3miZztrufEnVQfDdp160l5bc/5ylWT9v9b7zI6yTAoOhcmU9vy9Xp5c1UlwzQzRj4PqLpnQ6Kw3P50cKZ22HfmS1TpL2892fX/U76xOH26EOPmg/S29/OLrXtUaoHz026nD8yhdP1ClTpf58GsCTdsS2/3zXSX151X59B7rq/6SjRtquW3fssVTvLx2v7J/P/rqgLDN4Q583aT31ufe5//V9q4pt/fWT9vNd9f4nf/1YbH+N4J80Jmq3/npD9Z7VUefzMxSTPl91PqV+xkGovLqeW/rg87br8IOGWHrqMb9r6aiDo5mJj/14iy3rIdV53fLTf29mff9apvgvKBD6fEv77KTggXmhFAIEBkpRDWQCAQTqLOA7MFTW0IWVXidNJ0BgIJ1T3bcK/eBTR0Lah6zV3Snv8vkOgKyfa/oh6QNkviMllO9QvRMYiIsRGIh7FL1EYODkVMSh929Sx5U6vHzAo2qf9wQGmjcT31Gv+iUwcLzBhQLBzVWLf9VfF2Tt0C4qh6HPGwIDzcUJDDT36ZVXCQzUu6YJDNS7fikdAgiUQCAUGGAkQz6VU9XAQOgCixkDrbWL0A8+dSR0KjCgEUtvvvWfVpCdu6N7BOvezypd0es7NeLUdwB0OjDgp47LN+sIJpVj/abtdoh7/+IPLfX3kvbny/qQZD+CViNE09aXD6Ro5Pff//kfWH79vZjVgaoRg0nfO/7ey2kDNHLvVOq/V7O2u6Lz6R3TthNfX8pnUr1pO+2vW2Hd+1j0DAbNgNGMEG3fbv36jtuzT/yQHXru2R/TKZqm/v0Q+rzWSN07V/7Mjnf/0y9ZOmRwdG95jRQf3j+C/DtXzWx63rK8WPbAgD4X1W7StkPVlx9ZnfXzTu3ruZe2WZUl1at/3yUFmHw78B2gWQPMyq9GQofKq/dp2s9lf72YdeaGL2fRy77dlCUw4N9vckibP/+9o/2vuWiy/Tltwiitapj6etdMgdC9/v3n47Sjo+Nf89nofA1PMmDlyr7NtnT1basHrB00KO3nfui6OuSl/H67/3vn5kum2nlDzyzy77es79dYod5e8NdnWb388dIuq16vv3uN7aLr/aKv8/3x9SwS3aI4bf7TbuevP0Pf12mPx3blEiAwUK76IDcIIFBDgdCFZNofWDUkybVIBAZy5azswUI/YDp94UpgYJy1obS3dPE/NNQA0/5w9T8EtT+BgUhCP1jTdkD5jrW09SD3TqX+e5XAQLy+CQwQGMjjveg7eNNetxIYiG6VQmAgujVdqCM5jzaa5RgEBiKttN/roevqUH0SGCAwkOX9yLblEiAwUK76IDcIIFBDAd+BoSKWrSND+apaOnvRCsvyhv6Rvsp/6MJVr3c79SPAlB9mDEgiWxr6AZPXvUvT5sZ3rKbdL6/tOj1i1nccZf1c0w9J3btfI+AfvO7MpiQKKOhetrvfeMu2z1rfvt0kdXz5922o4yeU+f+5NHqGwernf2GbJJ3PHyert/dNumWCAlsr10YjDbOOmPX5LWrZf69mbXdF5UvH9Z8DSTMG1JE679an7BCauaJ2nVRvOq8CQdfe+YytuuqCYyzVTBLd4mjoftFI+6QR2DpuKNXxlM+07UXlnfXlB2KHDu2v9+mif/iRbe/LJe9Of/7FMt/Cgu+oLNv3v/+8Sft5p4Dtin/ZZCpqH1lnlKg979gVzbwLjTwWvR8okvV9owCqjtfqSHDtn3R+1f+40e+zXfwMNR1H7V/P4uj0gAflI23q201ZrsflrWd6qDxJ+VM79M8G0P5ZByIoH0n1rusc3Wox6/WC//7P2m70PtazaZLe/3LSQ5WTbnXl20nS+0XeodRfv2T1Ch03ab1/fyZtX9TrSfXT7nl9e2j1WS7t5oP9ixEgMFCMK0dFAAEEfiPgOzD0Qtk6MpSvqqUEBqpWY8XkN3RhnrWjuN3cqYOq3eO0un+nO8b8D7usn2v+hyuBgeY1n9Xb+yb98PY/rEMdtc1zWfyr/ns1a7srOof+c4DAQFycwEDkoQ5CdVQSGIi3E3U0EhiIbnFHYCDePrIu+feb9icwIIl46juCkzqe9X4lMBB37NRSUv20mw/fHggMtCtarv0JDJSrPsgNAgjUUMB3YKiIGsmgewGGRgppe9LGAn6EmLZKutDXdt1K/chj5aNsHQPKV9nTUGAg6wipdsupfLR7nHb3TxpZ2e7xtX/Wjmrtp47BdZt+aavUMabXQ/eale8VfxeNvJ8y/lDbRSPa9Lk6/5xJtl7n0b3J/S2O/Oez31/58anv+E2amq98fOav/skOpRG0aTu0/chBtesll02z44W+P7Lew9c/pPjT08bY8fU95R26tezrLa1jp/Lr3ZPudayAzGEjDrQs6h7623bssWX/ftD7YM2GV+z1c6eOTVU0P8I/qd2GDqrzq6NS2yUFQLSdD1gl+Wi/UKr3Y6cDo6H8pF3vOyrL9v3vO4JUrlC70efUiv4ZR9pezyjwgUZ1JP7j0/9qm/rPZ+2fNvXXg/59EzqOrwdtlxRI1Xb+2QJpv0e0f1L6WP+94q/qv1d80R2ASflJet1fF5Tlelztzc8MueSsCVYk/zmq7+05X1lpr39y4mhLNcMx9Hmj98GkMe+37Vu9HvPvv7Tt0U769n++XaZ9NoU+33Wdpe+hvOtR30eawfY3f3aSZV0z3FSOtKn3avd7Je15tZ3ctNyttNX2lpRf71v2z6Gk8vB6XIDAQNyDJQQQQCB3Ad+BoRPoh4M6XEIdO9qetLGA/yGorfK+gNVx80oJDOQlGR1HF+S+o0odqJ16+LDykW/psh+tqB8GPie+AyBtB61+cBMYSPdMBnU06JYCatcEBp6zJpm23fn2W9QygYGoXYd8CQxEMr5DmsDAkaEmk2q9vx4kMJCKLfeN/HVBWa7HCQwcbHX91f6HAocqXtexBAZCQo3Xy63xq51bW9T1P4GBztVhN85EYKAb6pwTAQR6SiAUGChbR0ZVK8X/EFQ5yvJDRPnxqe/o0+t5dwzoB5qOv7V/BKqWr/jM0fZn0r1AtX1ZU12QdzswUFafovKl9qURoVk/1xQg8Pca18i2P575Ecv6TzZGMwvufWyDLV/9/0X3Tv/Bz6IR0xrBpw7zaz73cdvu699/wdJ1//4rS31HukZqZ72nvkYo20Hf/i/pHsOttk8fQNQIxRv+6Dg7ddIPQJ/P0EhflcOfr6wjwvz3atZ2p/IWlfof0LpF1n//1MfslCPfN9TS7zz5oqVvvvWfll55bjTTxb8fVL6PfzgagXrNN6NnCHzhjKgj9fRjD7f9k/5Te1A7avUZA6Hvr1B70fv8u0+9aFlccn8U0NH71b8vk8rhX8+rXP64RS+XPTAQqmfNDJlyRDRj697Ho8/ltRu2GpkC8f76TANiPnNi/0ykxats++m/H43E1kyvrO7+8yDtTCe1S80o0/eIzq/3nZ/JoP1uvu/HtqlmrOl7K6njVcdPSnUePXtE37NpAx5Jxy/qdX9dULbrcR+41eehrit27H7TaG76/9daesaU6PN1xseiduqvM1Uftz78U9tez9a4ub8DPul7WvWg+la70nE+d8oRtsmFM5oHXHWcUABE30OhZzjp80jfL7v2RA4LLp5ih273d4I//uhDDrDjLrz4E5a2O0DOX8/p86bVzxV5kkYCoeuaUHvybhoQMOyAwfaSn6Hjt2e5swIEBjrrzdkQQKAHBfwPFhGEfnDoddJ0Av6Hp/Yq2w8R5Utp6Ac3gQEJZUtb7XjNdha29gK+AyDr55p+CPuOUHWwEBh4ycgX3vWsperAIDCwzjzUwZy13fl2nPdy6Ac0gYEXY/VGYOBl89Ct1PL+/m+3XYeuUwgMRA9DVgcugYF4S/PXBWW7HicwcGa8wvqXfMc9gYGGTD27MnRdQ2CgHk2CwEA96pFSIIBAiQVCgQFGMuRTaVUNDPiRudIoqmPA32tU59NIp1bv6anjdDslMNCdGvAdAK120IY+J32prrlosq2aNmGUpaF6134KMIRGpPkfOv4e2DqOT/3nTtL7yJdP+dIIUHWQHj0mmuqvkbebX33NTq3tr7ogmimR9v2qkdTKf9KMAXUMqKNS581rBKzy0W7qPVttd+3mI2l/30789roO8LcU9O3S75f1XtPa33eIJbUH7edT5U8jWo8ZN8I2eaJvi6VqNx8YEY0IVXvetmO3va4R4r7c/jxpl9XOFThrdSZE2vPltZ1/vxX1/d9ufv3nvD+e6tt/Pvn3qd8vdG93v11oWZ//l/bPPNAzZ6749ETbJe0IZH99pHpY/fwv7Dhafr1/JPmm/s9ldZzOPm28bXdG/8ydtOcNlUvrNcL22/0z5RRYTDtDSMfpdOrbS9kCA/59F/Lx7VMDGfyzgrS/vsdv+sLxtirpe1r5uOHeaGaCPh91PLWrrCOr9b7QzAa9P9Vu9cwAzfDasm2XnXLDpugh19r+vOnRs2t0vaV8pU31PaHAmfbL6/g6nlJ/vk4/Y0D5qGsamomiQLFmtOh9oluF3rPq50byzLooEF6Vz7G61mOoXAQGQjKsRwABBHISCP0wUocAUxzbgw51vJTth4gvJYEBL9Lesv8hpKPph5pubaD1pPkI+A6AVjtoQ5+TPpcEBggM/LpN+PbSarvz7Svv5dD3k86j6wDfQe47OLS9UgIDkohSAgNxj7yX/Oe8P746+ggMRLecITAQ3SJKge+yXY+rQ14BcN+etUxggMCA2gLpoEEEBurdCggM1Lt+KR0CCJRAwHdgKEud6sjQF/mOXdHU54OG7mtZCI1kUQdr2ntiqjzdSmcvWmGn1kgX5aNsP0SUL6WdDgz4dli3DnO1W42QkvOY0cPsz6WXT9cq0hwFfIdRu59rqsefbY5Grule7ONGv89yHepw0X5rNkTPHJg0JroXe9LnmL8nrR/5FKLyI6+TZgwofzt3vWGH9PfqVUfFus2/ip0ybTliOw1YUIepViWNEPefS+rwY8aABFtL5apnvOje7EntU/vprCd9NJopE3ofaLtQqvbQ7sh6tdcDh0b3ClY5/EhBPRvko4fp/RvfPpTPrOvzKlfW87a7vRzVQamR6TfOjp4h0u7x895f+VW9pm3Hfr+Tf/93LWuh69CkfOvzVN/3CrC1OtBG+Rt1cDTDRflSe37sJ5stS7qOHjfqvbac9L2UVI7Q6/56Le1MttDxOr3eXxeU9Xpcv4903ZD1eiPrdUqoHtSedX2Q9Owkfd6GjufL5WeYqL376w3NDFD7Dx0/7XrlQ+8blU8jyDXDLK+R/f56rt3PhbTl7LXtkgYueA9dR/rAsd+O5e4KEBjorj9nRwCBHhDwF/gqcrsdaDpOUuovzAgMJIl15nV1+Oje4TprUR0Dvh0SGJA4aTsCvgOg3c81/UDO+oNb++kHftoOdf9DksBA/JkG+kFHYKCdd8mgQfq8JzBAYGBgS1IHHYGBgSrJf+vznsBAslU3tvDXBQQGmteC2rM6zgkMNPcKveqv5wgMhKTaW09goD2/su5NYKCsNUO+EECgNgK+Q1YF0wWLv4WAXm811QXmvY9vsEPoHsC733ir4SGVD72oe0GW9UJe+VQaulVD2fOvjqJOBQZ0r9o7Hoke2ql6b3WEnfzLkqrdq6NA+apbAETlKkvqOwDaDQx0ulz+fdFqYCBpJH6ny6XzaSS1lpNmNvjPpbxG8un8pN0V8DNdytpusyqpnbc7EyLredm+swL+e17XMXlfR3e2VO+cTb8Xvv7wC7aSe3G/Y9OJvzRDpNUZWXnn0X8fFzVwKO98pz2e/z7yt25Kexxt5zusuX6RTDGpAtuaQfbSyztjJ/rMiWNsedTw/S0ty/sqlkkWfiNAYOA3FPyBAAIIFCOgC/0l9z8XO0FRP2j0w4nAQHTrmKQpt7FK6eCCv+DXqYu68PcdoGp/BAYkT9qKAIGBPcZW1g5WdZiqbgkMSKI3U98RU9Z2m7V21M4JDGSVq9b2ur7VAABdxxAYqFY9ljW3BAY6WzP++4jAQGf92z0bgYF2Bcu1P4GBctUHuUEAgRoKhAIDeY+s9T+YhgzexzRnnzbe0nOnRg+RErG+0DWFXeu134PXnalVpU6rOmPg7lXrzXXxsr6Yb1GBAd+B2+rDK2OZLdGCb//KGjMGJFFM6ttV3p9rxeT6naP692FS/tVxMOvLD9hByt6+/Odj0kwq/32VdgbFO6L8VWaBunag17VcZW5Lncybbon5J3/9mJ129CHRswDKdouzVk38527VninQarnZr7mA2v35Cx6ObViXgK4fsJR0/RVDaLDArYQaoLAKgZQCBAZSQrEZAggg0KqAv+DXcdq9ANJxlPqOUXXwExiIHj4rp7KkvkNS+SIwIIlsqW//2rvsHbfKZ1VTAgNRB9Wd804uZRUSGChltXQtU3XtQK9rubrWUEp2YnWQEhgoWcWQnUIF1O4JDKRjJjCQzomtEGgkQGCgkQrrEEAAgRwFQoEBTYFu91YuoQvHtCPC/VTOEyaMtNJff9GUHBWKO5Tv+NKZkkbGartupZ26lZBGOH/mr/7JiqpnTSTdUqRbLq2el8BAq3Lt7Vf1wIDeH5oBII3QiDz/vs07wKvz55X6EXlJMwCuvO1pO/UTfVssrdvnRF6uVT2O/74PtfOqlU+BAeW7LuVSeXo11efzvFufMgI9vHvJZdNsOXTP6qUPPW+vTxpzSJSOHWFp2f7TzN35t0afu5875QjL4oUzxjXMqjzmfGWlvV7WgHTDzLNykK5TdavXpN9/2l63zir7QBcNeFJV+5nqWq/0pu/+yP787uM/tzTp+kT7hVKeMRCSYT0CyQIEBpKN2AIBBBBoS4DAQFt8iTsTGGhOpB+SBAbKOaK7ee2V/1UCA1EHzpyZR5aysggMlLJaupYpAgNdo+fELQjo+oXAQIQnDwIDLTSmEuyijn4CA1FlEBgoQaMkCwj0CxAYoCkggAACBQuEAgN5jTT1HXNZZyL4joKs+xfMl3j42YtW2DYbNm2PbcuMgYhDI9L0LInQiCNt9+iPo5HCBw55jx3gv0z5PUtHDt8/5lu2Bf3g0sgq5W/M6OhWUksvjx5GrfWk+Qj4z5+8PtfyyV36o/gp6H7GlTpk/l979x+0V1UfCNxdDRBIjAFhkqwiJMbCJjIEGn4oJSisGCbFZbaIDColOykjbjphOpqJO+AIszKB7ZCqzY6bbSytDhJ0qCljJrtoSQxgSVmy2LdYMYGCk6QgBBogCQG78L3Pkdzrc9/neZ9f73Of5/PPc55zn3vPPedzTkK433vOSQ+ottf+vvnOf/1I3KTszdXma9CdM1O904yIss1Zi39+qtqP3VGsfqmbR3ZFI66/bWuuMf3+38lcZetkiu1KSyh+9Zpz4uzZtb//61zqUAUEioHNNKP1xGmTo/a//Jf9dVuxcetTcbxf1+pPfy+nB/x79mbt+E+/MzPXriMOy/4dlhr54E+fjq+7nn0pUjNjkkw10uLfV2X/nU3j4+bvbouGbX4k+/u7X8dz0v/Dr98XX596+sVIb/7PZ0Va/Hu4+O+N9P8ljWYCpfuUpcV/x1Xt/2fL2uU4gV4ICAz0Qtk9CBAYagGBge52v8DA6L7pgb/AgMDA6COltV8FBgQGWhs5ruqlQPGBVLq3wECSkPajgMCAwEA/jstW61T8e1hgIHuxS2Cg1RHlOgKdExAY6JylkggQIFBXoCwwkN5kWLpoblw31jdOiw98083HuiZ0cW3e4puyqdx+TS0lNHrPFMffxz54Ylyw5CMnRVp8I6mstH5/U6n4BlJqR/ofDmvxJpHOpsXAQPI+ZebRcaN9B17N3fBTH87WUC6+QZY7aRwyZW/ozTkha8fO2huaM47JNhu+7vLTopb9PpMmtWvXnpejvp//sx9HumfvgUhTf0Xm9Y/Ub63+dymVIx1fgeKfy0a1STNJ0hvK/fr3ZavtOvn4qUFQlb2TGvXXsPxe/PfpWNvdr/9uKe5VM9Z2pT+vd1134Vgvdf44CqR/p676q2xt/ZEnnovapJlOUycfEfk0gyTlP31BtmThwtOPH8faN7512bhO/45Ke4TsfyX7d+FY/z2Vyn/g0X/OVWbi4VkA7ZEdmWeaUXPuKdPjvBs+OT93vgwBAr8pIDDwmyaOECBAoKMCxQezqXCBgSTRXiowMLpfcfwJDIzu5dexCRQf1KUHzekBs8DA2Dw7fbbAQKdFq1Fe8c9lo1qnB40CA42k/N5LAYGB+trpz6vAQH2ffj0qMJC9kCAw0K8jVL2GWUBgYJh7X9sJEOiJQPHBbLpp2RTS9Huj9KY7H45T0lqq6YFcs2/6pX+gFtdkH+uMg0b17PbvVQ0MrNuyPWhWrx/JEc0/6bjI37I4W5sz92MLmc+tzd4Q3lpbmza9Qfej2l4Ck4+cEKVedcFvRTrpiCyf1r5Nb96kW/frmrZl43msfy5SO6XNCaQ3uPbuO5i74OCrv4r8hLf920hT/oz3ZeO732YM5Cr/eiY9UH9s5/Px06SJh0Xa7/UutqMsv7s2gyD12/TaHiJjnblWVr7jBAgQIECAQGOB9N/j4pn9PiOxWN+yfPr3efq91X9HJae0JFMqL/37MuXTvztnT397HJo369j0k5QAgRIBgYESGIcJECDQKQGBgU5J1i9HYKC+SzoqMJAt/dJswCy5SZsTEBhozqnfzkr/gy0w0G89oz4ECBAgMEwC6b/HxTYLDORFkpPAQN5FjkAnBAQGOqGoDAIECIwiUBYYSEsJrbh03ihXl/90yY0b48e0VnRaIubaj72//KJDfinWa6xvVqd/oO167qUo9e9+/stIt21/NtIpR2Vv2KY30n/vgzPjeKtvisTFdT6qGhhID1RX3rEt16pOzxgojpO01ue7js0emJeNv7L69euMkvRGUnEGzFjHda4zZAgQIECAAAECBAgQIECAwIAKCAwMaMdqFgEC/SNQfACfaiYwkCTaSwUGRvcTGDBjYPQR4lcCBAgQIECAAAECBAgQGEYBgYFh7HVtJkCgpwJlgYF29xgobsqW1o5fePrxTbWvuDlhszMO0kyB3//jv4n77H/ltUhTe857/4zIP/izpyP9y3t+ljtvrPWMi0f5WLxqU/y6Y+cLubPWLFsQ+U7PUMjdpI1M2Rv5nZox0O4b9Gmq7vW3bc21sl9dy9o7c8aUqP/a2njINUaGAAECBAgQIECAAAECBAgMqYDAwJB2vGYTINA7AYEBgYF6o01goJ5K68cEBlq3cyUBAgQIECBAgAABAgQIDJ+AwMDw9bkWEyDQY4GywEBaSmjporlRo0kTJzRVs/TG/iduuid3/g1Xzo/8uXOm544XM2Vvgjd7/Yv7DkaRi764IdLUjmbXqp86+fC47q7rLixWraW8pYTqs5UFHm69+uy4YN6sY+tfWDv68PZn4tu1X38gd549BnIcMgQIECBAgAABAgQIECBAoJICAgOV7DaVJkCgSgICA09Gd6VNdgUGstFb9uC+U0sJlZUvMFClvz3UlQABAgQIECBAgAABAgQIdEdAYKA7rkolQIDArwXKAgNpTf4lF57863Ob+VJ8Yz9d0+iN/zTT4DNf+1FcsmfvgXRppGN9Ezwt3TJ96pFxfdmMh3TfNMNBYCBjX7dle3xZvX4kO1D77FRg4PpvZnsDbH5kV5Q854SjI/3Ta87J3a8sUxZYuPtLC+OSsv5O5aV+T/mUTquNl5TvVJrG45LanhOp3OnH2Hw4WUgJECBAgAABAgQIECBAgEASEBhIElICBAh0SUBg4OWQFRjIDzCBgbxHuzmBgXYFXU+AAAECBAgQIECAAAECwyQgMDBMva2tBAiMi0BZYKDR2vxllS2bMbDkomzmwRXnzc5dms7/8rqH4/ic90yNdM33H82dd+/NF+fyqd7//t3viOON1qTPXXxIprhW/QfmTItfv3zlGYec1fpXewzUt7vkxo3xQ5oZMtYZKsUZB2Vv3qeZAX/94D/F/X64bWek+195NdJ9B7J0/yuvRT59XHPxnPj68XNmpUNtpQIDbfG5mAABAgQIECBAgAABAgSGTEBgYMg6XHMJEOi9QHrAXnwQLzAgMPDGaEx7L6SR2amlhAQGMtGygEbylhIgQIAAAQIECBAgQIAAgWEUEBgYxl7XZgIEeipQFhgY6xvcxUoX3+hOv6c3sSdPnBCH/uKexyL98KkzIr383PdGuuiLGyJNH8svOzW+/vQXL0T6vfsejzRtVjt7RjZzoNHa8qm89Cb5jbf/3zg08sRzka5ZtiDS2TOmpFPbShfX1pTfsTOrdyqs0/dJ5XYqLVvDv93AQHJPSzel+qZ+bHbmR7OBheL4TuM6jbM0XtIb/UtXb4kqpRkEY93bIrWnmKbyi3sMzKyNs7W1cVe8Tp4AAQIECBAgQIAAAQIECAyjgMDAMPa6NhMg0FOB4oPTdPP0AHWsmw+n6wUGMgmBgTQislRgYFMORGAgxyFDgAABAgQIECBAgAABAgRCQGDAQCBAgECXBcoCA2kpoaWL5kYN0pvVzVYnPQC+9n8+EJfseval3KVHHPbWyC/+6EmRFtdyL1ubf84JR8f5111+WqTTph4Z6Vg/broz29Ng49an4tKxvrHe7P3K2jFsMwbSXhKP7Xw+6K79ejYukuPdX1oYXxuNs+KeEGkc/fkffSiuT+OheL//tfEf4/eVV5056n2K46LdAFnc7PWPshkDlhJKQlICBAgQIECAAAECBAgQIPCmgMDAmxa+ESBAoCsCAgMCA/UGVqeXEio+qBcYyNQFBuqNPscIECBAgAABAgQIECBAYNgFBAaGfQRoPwECXRcoCwx06k3p1ID0pnfKN7snQLpu0sTD4tLptRkCjd4sT/cppms2PhqHvvWDbG+Dbs0USPet6oyBdVu2RxNWrx9JTYm03T0GysbbvTdfnLtPWeaztT0A0p4QnR6nt37vJ3HrtIfFkotOjvwV580uq1JTx80YaIrJSQQIECBAgAABAgQIECBAIAQEBgwEAgQIdFmg7EFtpx+4pgf8qTkCA53d5Di5dioVGMg2txYY6NSIUg4BAgQIECBAgAABAgQIEGheQGCgeStnEiBAoCWBssBA2mNgxaXzWiq3UxelJWhanSGQ6tHrmQLpvlWdMdDppYSSxxduezC+3j+yOx2KtNGMgeI4TUvwrPnDc+P6dsdHqkxxRkKn9oIwYyAJSwkQIECAAAECBAgQIECAQGMBgYHGRs4gQIBAWwLFB66pMIGBJNFeKjCQ9xMY2JQDSQGO25efnzsuQ4AAAQIECBAgQIAAAQIEhllAYGCYe1/bCRDoiUBZYKDTSwn1pDF1blJs3/LLTo2zFp5+fJ2zO39o8arsQfCOnS/kCu/Um+i5QjuY6daMgUtu3Bi13LP3QK62KRD10dPeFcfTnhLfuW9H5DduzTaJnnPC0ZG/7vLTIp1W23MiMm18FMfJNRfPidI+fs6sNkp989KyGQMzZ0yJk9Yuy5aWevMK3wgQIECAAAECBAgQIECAwPAKCAwMb99rOQECPRIoPhBNtxUYSBLtpQIDeT+BgfyMAYGB/PiQI0CAAAECBAgQIECAAAECbwgIDBgHBAgQ6LJAWWAgvcG9dNHcqEGn1nDvcnN+XXza7HjFN7I17Rd/9KT4rewN8LSXwaf++w/jvP/xX34n0nbfSLeUUNYlu/e8HF8+87UfRfoHF50c6d59ByPd9MiuSHc++1Kk+w68Gums2hv1C06ZHvmLajM9OjUei+M/jftO761RNmPAUkLRrT4IECBAgAABAgQIECBAgEBOQGAgxyFDgACBzgsUH4ymO6QHpAIDRyaSllKBgYxNYCBbSmpJbWmpNJgEBpKElAABAgQIECBAgAABAgQIvCkgMPCmhW8ECBDoikBZYKCqSwmlN/+XfGVzeO1/JXvz/P0nZmvTv/rav8bxg6/9Kuf5i2eyN9V31d5Yv/fmi3O/t5qpamBg3Zbt0eTV60dyTZ9/0nGRv2XxWbnjVcsUx323x7sZA1UbIepLgAABAgQIECBAgAABAuMpIDAwnvruTYDAUAgUH5CmRnf7QWm6T6dTgYHOiAoMdMYxlSIwkCSkBAgQIECAAAECBAgQIECgsYDAQGMjZxAgQKAtgbLAQFpKqNNrrbdV2VEuTgGBXbW17NOSLVMnHx5X7dl7INIjDnvrKKW85S0TD39b/H7XdReOel6zP1Z1xsCGh56MJq68Y1uuqVWfMZDa9Sd3/STadeH84yO99mPvz7Wz0xmBgU6LKo8AAQIECBAgQIAAAQIEBllAYGCQe1fbCBDoCwGBgXw3CAxkHukBusBAfny0mhMYaFXOdQQIECBAgAABAgQIECAwjAICA8PY69pMgEBPBcoCA1VdSqineE3cbHFts9kdO7PNZ9Mla5YtiK+zZ0xJh/oqHbTAGH0vywAAHxpJREFUQPHBfKPxXZyB0m4/Fe+fOntmrf/X1sZDOi4lQIAAAQIECBAgQIAAAQLDLCAwMMy9r+0ECPREQGCgu8wCA931bbb04oN5gYFm5ZxHgAABAgQIECBAgAABAgR6LyAw0HtzdyRAYMgEygIDaY+BpYvmhsikiROGTKYzzbXHQGccWy0lvfm/5Cubo4ija3tOXHf5aZGfdET9cX3zd/N7K9zwyfmtViGuKwYmUmHTjzkqvt6+/Px0SEqAAAECBAgQIECAAAECBIZeQGBg6IcAAAIEui0gMNBdYYGB7vo2Kl1goJGQ3wkQIECAAAECBAgQIECAQP8JCAz0X5+oEQECAyZQFhhotNTKgDF0rTlVDQys27I9TFavH8nZzD/puMjfsvis3PF+zazZ+GhU7Vs/eKylKqaZMysundfS9ekiMwaShJQAAQIECBAgQIAAAQIECDQWEBhobOQMAgQItCUgMNAWX8OLBQYaEnX1BIGBrvIqnAABAgQIECBAgAABAgQIdEVAYKArrAolQIDAmwJlgYFOvSn95p2G81tVAwMbHnoyOmzlHfm19qs2YyC14xe/fKmlAfiud2Z7ACw8/fiWrk8XmTGQJKQECBAgQIAAAQIECBAgQKCxgMBAYyNnECBAoC0BgYG2+BpeLDDQkKirJwgMdJVX4QQIECBAgAABAgQIECBAoCsCAgNdYVUoAQIE3hQoCwzYY+BNo3a+LV61KS7fsfOFXDFrli2I/OwZU3LH+yWTHqhXfcZAv3iWzRiYWev/tbXx0C/1VQ8CBAgQIECAAAECBAgQIDCeAgID46nv3gQIDIWAwEB3u1lgoLu+VSldYKAqPaWeBAgQIECAAAECBAgQINAPAgID/dAL6kCAwEALlAUG0h4DSxfNjfZPmjhhoB261ThLCXVLtlrllgUGph+T7WFw+/Lzq9UgtSVAgAABAgQIECBAgAABAl0UEBjoIq6iCRAg8IaAwEB3x4HAQHd9q1K6wEBVeko9CRAgQIAAAQIECBAgQKAfBAQG+qEX1IEAgYEWKAsM2GOgM91e1cDAui3bA2D1+pEcxPyTjov8LYvPyh2XGV1AYGB0H78SIECAAAECBAgQIECAAIFDBQQGDtXwnQABAl0QEBjoAuohRQoMHIIxxF8FBoa48zWdAAECBAgQIECAAAECBMYsIDAwZjIXECBAYGwCZYGBtMfAikvnja1AZ+cEqhoY2PDQk9GOlXdsy7XHjIEcR9MZgYGmqZxIgAABAgQIECBAgAABAgTeIjBgEBAgQKDLAgID3QUWGOiub1VKFxioSk+pJwECBAgQIECAAAECBAj0g4DAQD/0gjoQIDDQAmWBAXsMdKbbF6/aFAXt2PlCrsA1yxZEfvaMKbnj/ZIxY6CzPVEWGJhZ6/+1tfHQ2bsqjQABAgQIECBAgAABAgQIVFNAYKCa/abWBAhUSEBgoLudJTDQXd+qlC4wUJWeUk8CBAgQIECAAAECBAgQ6AcBgYF+6AV1IEBgoAXKAgNpj4Gli+ZG+ydNnDDQDt1qnKWEuiVbrXLLAgPTjzkqGnL78vOr1SC1JUCAAAECBAgQIECAAAECXRQQGOgirqIJECDwhoDAQHfHgcBAd32rUrrAQFV6Sj0JECBAgAABAgQIECBAoB8EBAb6oRfUgQCBgRYoCwzYY6Az3V7VwMC6LdsDYPX6kRzE/JOOi/wti8/KHZcZXUBgYHQfvxIgQIAAAQIECBAgQIAAgUMFBAYO1fCdAAECXRAQGOgC6iFFCgwcgjHEXwUGhrjzNZ0AAQIECBAgQIAAAQIExiwgMDBmMhcQIEBgbAJlgYG0x8CKS+eNrUBn5wSqGhjY8NCT0Y6Vd2zLtceMgRxH0xmBgaapnEiAAAECBAgQIECAAAECBN4iMGAQECBAoMsCAgPdBRYY6K5vVUoXGKhKT6knAQIECBAgQIAAAQIECPSDgMBAP/SCOhAgMNACZYEBewx0ptsXr9oUBe3Y+UKuwDXLFkR+9owpueP9khmvGQO797wcBJOOmBDpi/sPRjpt6pH9QtNSPcoCAzNr/b+2Nh5aKtxFBAgQIECAAAECBAgQIEBgwAQEBgasQzWHAIH+ExAY6G6fCAyMzVdgYGxeziZAgAABAgQIECBAgAABAoMoIDAwiL2qTQQI9JVAWWAg7TGwdNHcqO+kidkb3H1V+QpUxlJCo3fS9d/cGidsfmRX3ROXX3ZqHF94+vF1f6/KwbIZA9OPOSqacPvy86vSFPUkQIAAAQIECBAgQIAAAQJdFxAY6DqxGxAgMOwCAgPdHQECA6P7CgwIDIw+QvxKgAABAgQIECBAgAABAsMoIDAwjL2uzQQI9FSgLDDQ7T0GHt7+TLTzzi2PR/r47r2RHj358EiPeXuWzj3h6MjPm/nOSFf91U8iXfYf3x9pv67RH5V7/aOqgYF1W7ZHE1avH0lNiXT+ScdFesvis3LH282UjcNvr7ggih7UPQbMGGh35LieAAECBAgQIECAAAECBAZRQGBgEHtVmwgQ6CuBsgeyAgOd6SaBgeYcy8ahwEBzfs4iQIAAAQIECBAgQIAAAQKDJCAwMEi9qS0ECPSlQNkD2bTHwIpL53Wk3i/uOxjlLP/G30Y68sRzkc6pzQhYdGa2hvy0d0yM43c98ESkZWvPV+WBcVUDAxseejL8V96xLdL00asZA4P2Jr09BtIIkhIgQIAAAQIECBAgQIAAgcYCAgONjZxBgACBtgQEBtria3ixwEBDojihOA4FBppzcxYBAgQIECBAgAABAgQIEBhEAYGBQexVbSJAoK8Eig9kU+U6tZTQ7j0vR5FfWf/3kd4/sjvSZss/7/PrU5UirdoD48WrNkW9d+x8IdeONcsWRL5f90jo9YyBm+58ODw2bn0q0mbHRw61jzNlMwZmzpgStV5bGw993ARVI0CAAAECBAgQIECAAAECPRMQGOgZtRsRIDCsAgID3e15gYHmfAUGskBRc1rOIkCAAAECBAgQIECAAAECgy0gMDDY/at1BAj0gUBZYCDtMbB00dyo5aSJE1qq7ZqNj8Z13/rBY5GmPQVWXnVmU+V+dvWWOC/tSVC1N8ktJRTd1/Djkhs3xjl79h6IdPllp0a68PRs74mGBfT5CWUzBqo2A6bPmVWPAAECBAgQIECAAAECBAZEQGBgQDpSMwgQ6F8BgYHu9o3AQHO+AgPnNwflLAIECBAgQIAAAQIECBAgMAQCAgND0MmaSIDA+AqUBQbafTM/7S3w+3/8N9HA/a+8FumtV58d6bxZxzbV8OID4xuunB/XnTtnelPXj/dJVQ0MrNuyPehWrx/JEc4/6bjI37L4rNzxVjMv7jsYly764oZcEd9ecUHkp009Mne8qhkzBqrac+pNgAABAgQIECBAgAABAuMhIDAwHuruSYDAUAkIDHS3uwUGRvcVGDgqgG5fbsbA6CPFrwQIECBAgAABAgQIECAwTAICA8PU29pKgMC4CJQFBtIeAysunddSvYp7C4x1LfU04+ATN92Tu3/V3iSvamBgw0NPhvvKO7bl/Ds9Y2DzyK4o//rbtkZaHCcpcHD75p/H7z/ctjPSE6dNjnTykdneF62O0yikBx9mDPQA2S0IECBAgAABAgQIECBAYGAEBAYGpis1hACBfhUQGOhuzwgMjO4rMGDGwOgjxK8ECBAgQIAAAQIECBAgMIwCAgPD2OvaTIBATwXKAgPt7jHwhdsejHbcP7I70rGWV3xjvfgmebNIaebB3tpa9j/f9ULu0mnvmBj5Zvc8yF3cRGbxqk1x1o6d+fuuWbYgjs+eMaWJUnp/StE/1aDTMwaKM0vSOPndM94Tt/zM134U6RGHvS3SPXv3R5r2rIjM6x9LLjo5vl5x3ux0qK/SshkDM2v9v7Y2Hvqq0ipDgAABAgQIECBAgAABAgTGSUBgYJzg3ZYAgeEREBgQGKg32gUG6qm0fkxgoHU7VxIgQIAAAQIECBAgQIDA8AkIDAxfn2sxAQI9FigLDKQ9BpYumhs1mjQxW8u92eqd9/n1uVOXX3Zq5BeefnzueFnm+m9ma85vfiRbg/4Dc6bFqV++8oyyS3LHb7rz4chv+n/ZmvQTD8/eOD/jpOPi+C+eeSnSkSeeizTNSLjhU78d+U69yW8poeAs/fjc2h/Hb1t/+nSkaZz8xT2PRf7TF2QzAIrjpjg+0g3uvfni9LWv0rLAQBp3Nh/uq+5SGQIECBAgQIAAAQIECBAYZwGBgXHuALcnQGDwBQQGBAbqjfJezRgQGLDHQL3x5xgBAgQIECBAgAABAgQIDLeAwMBw97/WEyDQA4GywEBa633Jhdna7c1WJa3p/4mb7sldkt4EL775nTvp9Uy716fy0oyFOSccHYdWXnVmpMWZD2lmwcatT8XvaabEikvnpaLaSqs6Y2Ddlu3R7tXrR3Lt7/QeA6mf0k3SG/SXfPCEOPTxc2aln3JpcdPi9OPdX1oYX4v9nH4fr9SMgfGSd18CBAgQIECAAAECBAgQqKKAwEAVe02dCRColIDAQLbkkMBAftgKDOQ92s0JDLQr6HoCBAgQIECAAAECBAgQGCYBgYFh6m1tJUBgXATKAgOtvjlf9sb/rVefHe2bN+vYUdv52dVb4ve09n86ec2yBfG12bX/00yAj572rriu7L7F+qY31ju15ntVZwx0eymhsgfl554yPfrrhk/OT11fN314+zNx/NqvP5D7fazjJHdxFzNl7e30eOtiExRNgAABAgQIECBAgAABAgR6JiAw0DNqNyJAYFgFBAZejq5PSx91+kGtwED9P1llD8oFBup7OUqAAAECBAgQIECAAAECBIZJQGBgmHpbWwkQGBeBssBAp/cYWHJRtlfBFefNrtvOVI+nX9gfv2/c+mSk+195LdJvr7gg0mlTj4w0PViePHFC7nhkxvBRfDO+1XaX3XLxqk3x046dL+RO6dc321Mliy7peKf2GEj9veb7j0bRRxz21kj//I8+FGnq53TfYlo2Y6A4TorXjVc+jdcltfGQ6jFzxpT4urY2IyYdlxIgQIAAAQIECBAgQIAAgWEWEBgY5t7XdgIEeiJQfECbbtrqA/Li0jypPIEBgYE0Ft5Ii+NOYCBbKutQI98JECBAgAABAgQIECBAgMCwCggMDGvPazcBAj0TKD6gTTdOewwsXTQ3Dk2qvZmffm+UXnLjxjhlz94DkRaX6Hlx38E4fvvmn0f6w207I73hU78dafHN6ru/tDCO79qTLf3z+T/7ceT/oDYTYeHpx0e+2Y/0BncqZ8YxR8WlK686M9KxtrfsvpYSqi/zubVZ/2396dNxwgfmTIv0y1eeUf+CwtGycXvvzRcXzsxnU+Bq13MvxQ+7n98X6d7aeJw3852Rb3Yvi3zp5bk03orjuvjnorwEvxAgQIAAAQIECBAgQIAAgeEREBgYnr7WUgIExkmg7AGrwEC2RFG73SIwUF9QYCBzERioPz4cJUCAAAECBAgQIECAAIHhFhAYGO7+13oCBHogUBYYaHUpoVTlzSO74uv1t21Nh+qmc044Oo6nN/XTSYu+uCF9zaVTJx8e+cs/9N5IP37OrNzvxUx6Q/wb9/xj/PTIjuci3fVs9sZ4uwGQ4v2K+aoGBtZt2R5NWb1+JNekTu0xUJxRcuvVZ8d9Zs94R6SNZmx84bYH47z7R3ZHmsbRn15zTuTTR3pT//q//Ls4lPo9nf+uY7OZIg/WZi6kGS5pXKy4dF4qqq001cOMgbYYXUyAAAECBAgQIECAAAECQyIgMDAkHa2ZBAiMn4DAwLsDv9Ulkxr1nMBAfSGBgczFjIH648NRAgQIECBAgAABAgQIEBhuAYGB4e5/rSdAoAcCZYGBTr0xnd6U/s59O6I1e1/O9hY4ddYxkb+otjdA8Q3xdN03/k/2pv+x75gY5y+an+0l0Owa8Gkvg+8/9GRcf/DVX0V6/z/8c6QjT2QzCNIb5GnmQrE+cXILH1UNDGyoea28Y1uu1e3OGEgzOD5x0z25cr+94oLIT5t6ZO54WaYYWCib4VJsxzUXz4kiy2aaFPur0fll9SseT+PZjIGijDwBAgQIECBAgAABAgQIEPhNAYGB3zRxhAABAh0VEBgQGKg3oIoP1NM5AgNJYmypwMDYvJxNgAABAgQIECBAgAABAsMtIDAw3P2v9QQI9ECgLDBQ9gZ2D6rU01vc+r2fxP2+d9/jkaaZA8W16lut1OJVm+LSHTtfyBWxZtmCyDc78yF3cQ8y3QoMlJV7780XN9Wqsr0r7v7Swri+ONMjPZB/8GdPx+9XnDd71PvcdOfD8fvGrU9FuvyyUyNdWJvZMurFo/yY6lGcMTBzxpS4am1tPIxShJ8IECBAgAABAgQIECBAgMDQCAgMDE1XaygBAuMlIDAgMFBv7JU9wG93xkBZuQIDWaCoXl84RoAAAQIECBAgQIAAAQIEhk1AYGDYelx7CRDouUBZYCDtMdCtTXl73tCSG6Y9CBZ9cUPujLGueZ+7+JBMcc369NOwzhhYs/HRIPjWDx5LFJE2Cgykflr+jb+N89PeEJ2e2fLZ1Vty5d969dmRnzfr2Ehb/SibMWDz4VZFXUeAAAECBAgQIECAAAECgywgMDDIvattBAj0hYDAQLYZssBAfjiWvdnf7owBgYFsaamkLTCQJKQECBAgQIAAAQIECBAgQOBNAYGBNy18I0CAQFcEygIDnX4TuyuVr1Po7j0vx9Gf1db0P3fO9Dpn/eah8z6/Pnew0RvsuZNHyVR1xsC6LdujVavXj+Ra125goPhGfiq8bI+ANFPg5u9ui1M3P7Ir0jSjZcWl81IRLaWp/O8/9GRcn9p7zcVzIv/xc2a1VG7xIjMGiiLyBAgQIECAAAECBAgQIECgXEBgoNzGLwQIEOiIgMBAxigwkB9OAgMCA/kRIUeAAAECBAgQIECAAAECBHonIDDQO2t3IkBgSAXKAgOdeiO716zFN7MbzXzYPJK9gX79bVujqu2+EV9sb1VnDJQtJZSWvvn0BbOjqZOOmBDpi/uzJZlS+987fUp8nT0jS9Ob+b/33/53OiXS/a+8Fmkq98Onzoj8lKMOi/Su+56IdNezL0X6sQ+eGOmSj5wU6aSJ2f0j08THw9ufibPueuCJSH/y+HOR7jvwaqRfveacSFO9IzPKR5qh8vCOX8ZZZR6piJV3ZDMfUj61+/bl56dDUgIECBAgQIAAAQIECBAgMPQCAgNDPwQAECDQbQGBAYGBemNMYCALaNSzOfSYwMChGr4TIECAAAECBAgQIECAAIHOCAgMdMZRKQQIECgVKAsMpAumTj48fa2bXnTG8XF8yYUn1/291wfTg9pP3HRP7tbnnpLtNfDuYyfF8aeeeTHSB3/6dKSzam+2r7zqzMg3ehP9khs3xnnNfuzZeyB36pplCyLf7JvpuYt7kCkLDDR76w/MmRanfvnKMyJNMwa+evffR37pornZ8dpMgzRzY/uuf4nje1/OZiCcOG1y5H/3jPdEOm3qkZG2+pFmDPzDU89HEQcOZjMW/vrH/xT51E+NZpqk+6fyrv36A+nQmNKZtXG3tjYexnSxkwkQIECAAAECBAgQIECAwIAKCAwMaMdqFgEC/SMgMCAwUG80CgxkSyU1CngJDNQbPY4RIECAAAECBAgQIECAAIH2BAQG2vNzNQECBBoKpAebd255vOG5h55w8LVfRfZ9/y5bcqXRA9RDr+3l9/Qm+ku1N9P37suvhT9v5jujOmN9c3/Nxkfjusd37430bW/9N3Wb9epr/1r3+FX/4bfi+FjvW7ewLhxMb/g/tjN7s754i0kTsz0AXtz3SvxUlu/X9hXbk/KLV22Krzt2vhDp8stOjXTh6dnMmHReMU1/jorHm83Pm3Vss6c6jwABAgQIECBAgAABAgQIDLyAwMDAd7EGEiAw3gLpgabAQHNryqf+EhgQGEhj4Y00/Tk69NhYvgsMjEXLuQQIECBAgAABAgQIECAw6AICA4Pew9pHgAABApUUSDMKGu3FULXGFZdQKu6VULX2qC8BAgQIECBAgAABAgQIEKiigMBAFXtNnQkQIEBg4AUEBga+izWQAAECBAgQIECAAAECBAiMm4DAwLjRuzEBAgQIEKi+wGO1vQJSSxrteVCcMXDuKdPj0hs+OT8VISVAgAABAgQIECBAgAABAgS6LCAw0GVgxRMgQIAAgUEWEBgY5N7VNgIECBAgQIAAAQIECBAYVAGBgUHtWe0iQIAAAQI9EEibRH/rB4/F3dYsWxBp2cyBL9z2YPx+/8juSG+9+uxIbQ4cDD4IECBAgAABAgQIECBAgEBPBAQGesLsJgQIECBAYDAFBAYGs1+1igABAgQIECBAgAABAgQGW0BgYLD7V+sIECBAgEBXBYp7BqSbXTj/3fH1nW8/ItIfbtsZ6a5nX4p0yUUnR3rFebMj9UGAAAECBAgQIECAAAECBAj0TkBgoHfW7kSAAAECBAZOQGBg4LpUgwgQIECAAAECBAgQIEBgCAQEBoagkzWRAAECBAh0W+DFfQfjFo/tfD7S3c/vi/S5vQciPeN9x0U6feqRkU6aOCFSHwQIECBAgAABAgQIECBAgEDvBQQGem/ujgQIECBAYOAEBAYGrks1iAABAgQIECBAgAABAgQGWEBgYIA7V9MIECBAgECvBFJgwEyAXom7DwECBAgQIECAAAECBAgQaF1AYKB1O1cSIECAAAECNQGBAUOBAAECBAgQIECAAAECBAhUR0BgoDp9paYECBAgQIAAAQIECBAgQIAAAQIECBAgQKBtAYGBtgkVQIAAAQIECBAgQIAAAQIECBAgQIAAAQIEqiMgMFCdvlJTAgQIECBAgAABAgQIECBAgAABAgQIECDQtoDAQNuECiBAgAABAgQIECBAgAABAgQIECBAgAABAtUREBioTl+pKQECBAgQIECAAAECBAgQIECAAAECBAgQaFtAYKBtQgUQIECAAAECBAgQIECAAAECBAgQIECAAIHqCAgMVKev1JQAAQIECBAgQIAAAQIECBAgQIAAAQIECLQtIDDQNqECCBAgQIAAAQIECBAgQIAAAQIECBAgQIBAdQQEBqrTV2pKgAABAgQIECBAgAABAgQIECBAgAABAgTaFhAYaJtQAQQIECBAgAABAgQIECBAgAABAgQIECBAoDoCAgPV6Ss1JUCAAAECBAgQIECAAAECBAgQIECAAAECbQsIDLRNqAACBAgQIECAAAECBAgQIECAAAECBAgQIFAdAYGB6vSVmhIgQIAAAQIECBAgQIAAAQIECBAgQIAAgbYFBAbaJlQAAQIECBAgQIAAAQIECBAgQIAAAQIECBCojoDAQHX6Sk0JECBAgAABAgQIECBAgAABAgQIECBAgEDbAgIDbRMqgAABAgQIECBAgAABAgQIECBAgAABAgQIVEdAYKA6faWmBAgQIECAAAECBAgQIECAAAECBAgQIECgbQGBgbYJFUCAAAECBAgQIECAAAECBAgQIECAAAECBKojIDBQnb5SUwIECBAgQIAAAQIECBAgQIAAAQIECBAg0LaAwEDbhAogQIAAAQIECBAgQIAAAQIECBAgQIAAAQLVERAYqE5fqSkBAgQIECBAgAABAgQIECBAgAABAgQIEGhbQGCgbUIFECBAgAABAgQIECBAgAABAgQIECBAgACB6ggIDFSnr9SUAAECBAgQIECAAAECBAgQIECAAAECBAi0LSAw0DahAggQIECAAAECBAgQIECAAAECBAgQIECAQHUEBAaq01dqSoAAAQIECBAgQIAAAQIECBAgQIAAAQIE2hYQGGibUAEECBAgQIAAAQIECBAgQIAAAQIECBAgQKA6AgID1ekrNSVAgAABAgQIECBAgAABAgQIECBAgAABAm0LCAy0TagAAgQIECBAgAABAgQIECBAgAABAgQIECBQHQGBger0lZoSIECAAAECBAgQIECAAAECBAgQIECAAIG2BQQG2iZUAAECBAgQIECAAAECBAgQIECAAAECBAgQqI6AwEB1+kpNCRAgQIAAAQIECBAgQIAAAQIECBAgQIBA2wICA20TKoAAAQIECBAgQIAAAQIECBAgQIAAAQIECFRHQGCgOn2lpgQIECBAgAABAgQIECBAgAABAgQIECBAoG0BgYG2CRVAgAABAgQIECBAgAABAgQIECBAgAABAgSqIyAwUJ2+UlMCBAgQIECAAAECBAgQIECAAAECBAgQINC2gMBA24QKIECAAAECBAgQIECAAAECBAgQIECAAAEC1REQGKhOX6kpAQIECBAgQIAAAQIECBAgQIAAAQIECBBoW0BgoG1CBRAgQIAAAQIECBAgQIAAAQIECBAgQIAAgeoICAxUp6/UlAABAgQIECBAgAABAgQIECBAgAABAgQItC0gMNA2oQIIECBAgAABAgQIECBAgAABAgQIECBAgEB1BAQGqtNXakqAAAECBAgQIECAAAECBAgQIECAAAECBNoWEBhom1ABBAgQIECAAAECBAgQIECAAAECBAgQIECgOgICA9XpKzUlQIAAAQIECBAgQIAAAQIECBAgQIAAAQJtCwgMtE2oAAIECBAgQIAAAQIECBAgQIAAAQIECBAgUB2B/w8c+DFwBOS/qQAAAABJRU5ErkJggg==)"
      ]
    },
    {
      "cell_type": "markdown",
      "metadata": {
        "id": "v8qwxlWHRSoi"
      },
      "source": [
        "The dot product multiplies the values in two vectors element-wise and then sums the result.\n",
        "Vector dot product requires the dimensions of the two vectors to be the same. "
      ]
    },
    {
      "cell_type": "markdown",
      "metadata": {
        "id": "jmY_9xo7RSoi"
      },
      "source": [
        "Let's implement our own version of the dot product below:\n",
        "\n",
        "**Using a for loop**, we can implement a function which returns the dot product of two vectors. The function to return given inputs $a$ and $b$:\n",
        "$$ x = \\sum_{i=0}^{n-1} a_i b_i $$\n",
        "Let both `a` and `b` are the same shape."
      ]
    },
    {
      "cell_type": "code",
      "execution_count": 11,
      "metadata": {
        "id": "24D3sN_ARSoi"
      },
      "outputs": [],
      "source": [
        "def my_dot(a, b): \n",
        "    \"\"\"\n",
        "   Compute the dot product of two vectors\n",
        " \n",
        "    Args:\n",
        "      a (ndarray (n,)):  input vector \n",
        "      b (ndarray (n,)):  input vector with same dimension as a\n",
        "    \n",
        "    Returns:\n",
        "      x (scalar): \n",
        "    \"\"\"\n",
        "    x=0 #store the result\n",
        "    for i in range(a.shape[0]):\n",
        "        x = x + a[i] * b[i]\n",
        "    return x"
      ]
    },
    {
      "cell_type": "code",
      "execution_count": 12,
      "metadata": {
        "id": "i-sKL4QhRSoi",
        "colab": {
          "base_uri": "https://localhost:8080/"
        },
        "outputId": "ce631561-b6bb-4e26-9456-7d50f80b640a"
      },
      "outputs": [
        {
          "output_type": "stream",
          "name": "stdout",
          "text": [
            "my_dot(a, b) = 24\n"
          ]
        }
      ],
      "source": [
        "# Testing for a 1-D array\n",
        "a = np.array([1, 2, 3, 4])\n",
        "b = np.array([-1, 4, 3, 2])\n",
        "print(f\"my_dot(a, b) = {my_dot(a, b)}\")"
      ]
    },
    {
      "cell_type": "markdown",
      "metadata": {
        "id": "odKoo1F2RSoi"
      },
      "source": [
        "Yes, the dot product is expected to return a scalar value. \n",
        "\n",
        "Let's try the same operations using `np.dot`.  (not a for loop)"
      ]
    },
    {
      "cell_type": "code",
      "execution_count": 13,
      "metadata": {
        "id": "0lcr6abTRSoi",
        "colab": {
          "base_uri": "https://localhost:8080/"
        },
        "outputId": "0957bb8b-417d-4b41-e9f9-392e38d85067"
      },
      "outputs": [
        {
          "output_type": "stream",
          "name": "stdout",
          "text": [
            "NumPy 1-D np.dot(a, b) = 24, np.dot(a, b).shape = () \n",
            "NumPy 1-D np.dot(b, a) = 24, np.dot(a, b).shape = () \n"
          ]
        }
      ],
      "source": [
        "# test 1-D\n",
        "a = np.array([1, 2, 3, 4])\n",
        "b = np.array([-1, 4, 3, 2])\n",
        "c = np.dot(a, b)\n",
        "print(f\"NumPy 1-D np.dot(a, b) = {c}, np.dot(a, b).shape = {c.shape} \") \n",
        "c = np.dot(b, a)\n",
        "print(f\"NumPy 1-D np.dot(b, a) = {c}, np.dot(a, b).shape = {c.shape} \")\n"
      ]
    },
    {
      "cell_type": "markdown",
      "metadata": {
        "id": "oX6TkxrURSoj"
      },
      "source": [
        "<a name=\"toc_40015_3.4.7\"></a>\n",
        "### Which one wins the race? vector vs for loop\n",
        "We utilized the NumPy library because it improves speed memory efficiency. Let's demonstrate:"
      ]
    },
    {
      "cell_type": "code",
      "execution_count": 14,
      "metadata": {
        "id": "Z2LpQI5PRSoj",
        "colab": {
          "base_uri": "https://localhost:8080/"
        },
        "outputId": "f1dc31da-6e45-47bf-80b7-8db9188845ea"
      },
      "outputs": [
        {
          "output_type": "stream",
          "name": "stdout",
          "text": [
            "np.dot(a, b) =  2501072.5817\n",
            "Vectorized version duration: 18.9250 ms \n",
            "my_dot(a, b) =  2501072.5817\n",
            "loop version duration: 7970.9008 ms \n"
          ]
        }
      ],
      "source": [
        "np.random.seed(1)\n",
        "a = np.random.rand(10000000)  # very large arrays\n",
        "b = np.random.rand(10000000)\n",
        "\n",
        "tic = time.time()  # capture start time\n",
        "c = np.dot(a, b)\n",
        "toc = time.time()  # capture end time\n",
        "\n",
        "print(f\"np.dot(a, b) =  {c:.4f}\")\n",
        "print(f\"Vectorized version duration: {1000*(toc-tic):.4f} ms \")\n",
        "\n",
        "tic = time.time()  # capture start time\n",
        "c = my_dot(a,b)\n",
        "toc = time.time()  # capture end time\n",
        "\n",
        "print(f\"my_dot(a, b) =  {c:.4f}\")\n",
        "print(f\"loop version duration: {1000*(toc-tic):.4f} ms \")\n",
        "\n",
        "del(a);del(b)  #remove these big arrays from memory"
      ]
    },
    {
      "cell_type": "markdown",
      "metadata": {
        "id": "EjPvONMPRSoj"
      },
      "source": [
        "So, vectorization provides a large speed up in this example. This is because NumPy makes better use of available **data parallelism** in the underlying hardware. GPU's and modern CPU's implement Single Instruction, Multiple Data (SIMD) pipelines allowing multiple operations to be issued in parallel. This is critical in Machine Learning where the data sets are often very large."
      ]
    },
    {
      "cell_type": "markdown",
      "metadata": {
        "id": "Jh2DcHQzRSoj"
      },
      "source": [
        "<a name=\"toc_12345_3.4.8\"></a>\n",
        "### Vector by Vector operations\n",
        "Vector-Vector operations will appear frequently in machine learning operations.  Here is why:\n",
        "- Going forward, our examples will be stored in an array, `X_train` of dimension (m,n). It is important to note that it is a 2-D array or matrix.\n",
        "- `w` will be a 1-dimensional vector of shape (n,).\n",
        "- We will perform operations by looping through the examples, extracting each example to work on individually by indexing X. For example:`X[i]`\n",
        "- `X[i]` returns a value of shape (n,), a 1-dimensional vector. Consequently, operations involving `X[i]` are often vector-vector.  \n",
        "\n",
        "That is a somewhat lengthy explanation, but aligning and understanding the shapes of our operands is important when performing vector operations."
      ]
    },
    {
      "cell_type": "code",
      "execution_count": 15,
      "metadata": {
        "id": "FHxKNMsjRSoj",
        "colab": {
          "base_uri": "https://localhost:8080/"
        },
        "outputId": "bf6d5d2d-be14-48e8-d73f-778470486bcd"
      },
      "outputs": [
        {
          "output_type": "stream",
          "name": "stdout",
          "text": [
            "X[1] has shape (1,)\n",
            "w has shape (1,)\n",
            "c has shape ()\n"
          ]
        }
      ],
      "source": [
        "# Showing common examples of array shape. \n",
        "X = np.array([[1],[2],[3],[4]])\n",
        "w = np.array([2])\n",
        "c = np.dot(X[1], w)\n",
        "\n",
        "print(f\"X[1] has shape {X[1].shape}\")\n",
        "print(f\"w has shape {w.shape}\")\n",
        "print(f\"c has shape {c.shape}\")"
      ]
    },
    {
      "cell_type": "markdown",
      "metadata": {
        "id": "f-E61mqJRSok"
      },
      "source": [
        "<a name=\"toc_40015_4\"></a>\n",
        "# Recap Matrices\n"
      ]
    },
    {
      "cell_type": "markdown",
      "metadata": {
        "id": "wcftXirRRSok"
      },
      "source": [
        "<a name=\"toc_40015_4.1\"></a>\n",
        "## Abstract\n",
        "Matrices, are two dimensional arrays. The elements of a matrix are all of the same type. In notation, matrices are denoted with capital, bold letter such as $\\mathbf{X}$. Here, `m` is often the number of rows and `n` the number of columns. The elements of a matrix can be referenced with a two dimensional index. In math settings, numbers in the index typically run from 1 to n. In computer science, indexing will run from 0 to n-1.  \n"
      ]
    },
    {
      "cell_type": "markdown",
      "metadata": {
        "id": "nZH0HiZ2RSok"
      },
      "source": [
        "<a name=\"toc_40015_4.2\"></a>\n",
        "## NumPy Arrays\n",
        "\n",
        "NumPy's basic data structure is an indexable, n-dimensional *array* containing elements of the **same type (`dtype`)**. Matrices have a two-dimensional (2-D) index [m,n].\n",
        "\n",
        "2-D matrices are used to hold training data. Training data is $m$ examples by $n$ features creating an (m,n) array. Here, we are not directly operating on matrices but typically will extract an example as a vector and operates on that. Below we will review: \n",
        "- data creation\n",
        "- slicing and indexing"
      ]
    },
    {
      "cell_type": "markdown",
      "metadata": {
        "id": "opfQyhfZRSok"
      },
      "source": [
        "<a name=\"toc_40015_4.3\"></a>\n",
        "## Matrix Creation\n",
        "The same functions that created 1-D vectors will create 2-D or n-D arrays. Here are some examples:\n"
      ]
    },
    {
      "cell_type": "markdown",
      "metadata": {
        "id": "il4ZcEeoRSok"
      },
      "source": [
        "Below, the shape tuple is provided to achieve a 2-D result. NumPy uses brackets to denote each dimension and when printing, will print one row per line.\n"
      ]
    },
    {
      "cell_type": "code",
      "execution_count": 16,
      "metadata": {
        "id": "0Wnv5L7IRSok",
        "colab": {
          "base_uri": "https://localhost:8080/"
        },
        "outputId": "81dfab35-0d72-4c9f-95d3-a47a033ff000"
      },
      "outputs": [
        {
          "output_type": "stream",
          "name": "stdout",
          "text": [
            "a shape = (1, 5), a = [[0. 0. 0. 0. 0.]]\n",
            "a shape = (2, 1), a = [[0.]\n",
            " [0.]]\n",
            "a shape = (1, 1), a = [[0.44236513]]\n"
          ]
        }
      ],
      "source": [
        "a = np.zeros((1, 5))                                       \n",
        "print(f\"a shape = {a.shape}, a = {a}\")                     \n",
        "\n",
        "a = np.zeros((2, 1))                                                                   \n",
        "print(f\"a shape = {a.shape}, a = {a}\") \n",
        "\n",
        "a = np.random.random_sample((1, 1))  \n",
        "print(f\"a shape = {a.shape}, a = {a}\") "
      ]
    },
    {
      "cell_type": "markdown",
      "metadata": {
        "id": "WgqX5pKvRSok"
      },
      "source": [
        "We can also manually specify data. Dimensions are specified with **additional brackets** matching the format in the printing above."
      ]
    },
    {
      "cell_type": "code",
      "execution_count": 17,
      "metadata": {
        "id": "VA8fuWmDRSok",
        "colab": {
          "base_uri": "https://localhost:8080/"
        },
        "outputId": "896898e3-dec2-4e97-c5f3-a01c97158ff2"
      },
      "outputs": [
        {
          "output_type": "stream",
          "name": "stdout",
          "text": [
            " a shape = (3, 1), np.array: a = [[5]\n",
            " [4]\n",
            " [3]]\n",
            " a shape = (3, 1), np.array: a = [[5]\n",
            " [4]\n",
            " [3]]\n"
          ]
        }
      ],
      "source": [
        "# NumPy routines which allocate memory and fill with user specified values\n",
        "a = np.array([[5], [4], [3]]);   print(f\" a shape = {a.shape}, np.array: a = {a}\")\n",
        "a = np.array([[5],   # One can also\n",
        "              [4],   # separate values\n",
        "              [3]]); #into separate rows\n",
        "print(f\" a shape = {a.shape}, np.array: a = {a}\")"
      ]
    },
    {
      "cell_type": "markdown",
      "metadata": {
        "id": "xlaHXLQiRSol"
      },
      "source": [
        "<a name=\"toc_40015_4.4\"></a>\n",
        "## Operations on Matrices\n",
        "Let's explore some operations using matrices."
      ]
    },
    {
      "cell_type": "markdown",
      "metadata": {
        "id": "RLgG6FbIRSol"
      },
      "source": [
        "<a name=\"toc_40015_4.4.1\"></a>\n",
        "### Indexing\n"
      ]
    },
    {
      "cell_type": "markdown",
      "metadata": {
        "id": "aqLQQ4KJRSol"
      },
      "source": [
        "Matrices include a second index. The two indexes describe [row, column]. Access can either return an element or a row/column. See below:"
      ]
    },
    {
      "cell_type": "code",
      "execution_count": 18,
      "metadata": {
        "id": "f9_2sT7nRSol",
        "colab": {
          "base_uri": "https://localhost:8080/"
        },
        "outputId": "bc4f4e69-626f-44e0-9ffd-729750148208"
      },
      "outputs": [
        {
          "output_type": "stream",
          "name": "stdout",
          "text": [
            "a.shape: (3, 2), \n",
            "a= [[0 1]\n",
            " [2 3]\n",
            " [4 5]]\n",
            "\n",
            "a[2,0].shape:   (), a[2,0] = 4,     type(a[2,0]) = <class 'numpy.int64'> Accessing an element returns a scalar\n",
            "\n",
            "a[2].shape:   (2,), a[2]   = [4 5], type(a[2])   = <class 'numpy.ndarray'>\n"
          ]
        }
      ],
      "source": [
        "#vector indexing operations on matrices\n",
        "a = np.arange(6).reshape(-1, 2)   #reshape is a convenient way to create matrices\n",
        "print(f\"a.shape: {a.shape}, \\na= {a}\")\n",
        "\n",
        "#access an element\n",
        "print(f\"\\na[2,0].shape:   {a[2, 0].shape}, a[2,0] = {a[2, 0]},     type(a[2,0]) = {type(a[2, 0])} Accessing an element returns a scalar\\n\")\n",
        "\n",
        "#access a row\n",
        "print(f\"a[2].shape:   {a[2].shape}, a[2]   = {a[2]}, type(a[2])   = {type(a[2])}\")"
      ]
    },
    {
      "cell_type": "markdown",
      "metadata": {
        "id": "vlK4ey38RSol"
      },
      "source": [
        "It is worth drawing attention to the last example. Accessing a matrix by just specifying the row will return a *1-D vector*."
      ]
    },
    {
      "cell_type": "markdown",
      "metadata": {
        "id": "I4XBx1u8RSol"
      },
      "source": [
        "**Reshape**  \n",
        "The previous example used [reshape](https://numpy.org/doc/stable/reference/generated/numpy.reshape.html) to shape the array.  \n",
        "`a = np.arange(6).reshape(-1, 2) `   \n",
        "This line of code first created a *1-D Vector* of six elements. It then reshaped that vector into a *2-D* array using the reshape command. This could have been written:  \n",
        "`a = np.arange(6).reshape(3, 2) `  \n",
        "To arrive at the same 3 row, 2 column array.\n",
        "The -1 argument tells the routine to compute the number of rows given the size of the array and the number of columns.\n"
      ]
    },
    {
      "cell_type": "markdown",
      "metadata": {
        "id": "KVoIzbnPRSol"
      },
      "source": [
        "<a name=\"toc_40015_4.4.2\"></a>\n",
        "### Slicing\n",
        "Slicing creates an array of indices using a set of three values (`start:stop:step`). A subset of values is also valid. Its use is best explained by example:"
      ]
    },
    {
      "cell_type": "code",
      "execution_count": 19,
      "metadata": {
        "id": "h-UMGBxeRSom",
        "colab": {
          "base_uri": "https://localhost:8080/"
        },
        "outputId": "08010602-ac23-4d8e-e901-9b88101c4166"
      },
      "outputs": [
        {
          "output_type": "stream",
          "name": "stdout",
          "text": [
            "a = \n",
            "[[ 0  1  2  3  4  5  6  7  8  9]\n",
            " [10 11 12 13 14 15 16 17 18 19]]\n",
            "a[0, 2:7:1] =  [2 3 4 5 6] ,  a[0, 2:7:1].shape = (5,) a 1-D array\n",
            "a[:, 2:7:1] = \n",
            " [[ 2  3  4  5  6]\n",
            " [12 13 14 15 16]] ,  a[:, 2:7:1].shape = (2, 5) a 2-D array\n",
            "a[:,:] = \n",
            " [[ 0  1  2  3  4  5  6  7  8  9]\n",
            " [10 11 12 13 14 15 16 17 18 19]] ,  a[:,:].shape = (2, 10)\n",
            "a[1,:] =  [10 11 12 13 14 15 16 17 18 19] ,  a[1,:].shape = (10,) a 1-D array\n",
            "a[1]   =  [10 11 12 13 14 15 16 17 18 19] ,  a[1].shape   = (10,) a 1-D array\n"
          ]
        }
      ],
      "source": [
        "#vector 2-D slicing operations\n",
        "a = np.arange(20).reshape(-1, 10)\n",
        "print(f\"a = \\n{a}\")\n",
        "\n",
        "#access 5 consecutive elements (start:stop:step)\n",
        "print(\"a[0, 2:7:1] = \", a[0, 2:7:1], \",  a[0, 2:7:1].shape =\", a[0, 2:7:1].shape, \"a 1-D array\")\n",
        "\n",
        "#access 5 consecutive elements (start:stop:step) in two rows\n",
        "print(\"a[:, 2:7:1] = \\n\", a[:, 2:7:1], \",  a[:, 2:7:1].shape =\", a[:, 2:7:1].shape, \"a 2-D array\")\n",
        "\n",
        "# access all elements\n",
        "print(\"a[:,:] = \\n\", a[:,:], \",  a[:,:].shape =\", a[:,:].shape)\n",
        "\n",
        "# access all elements in one row (very common usage)\n",
        "print(\"a[1,:] = \", a[1,:], \",  a[1,:].shape =\", a[1,:].shape, \"a 1-D array\")\n",
        "# same as\n",
        "print(\"a[1]   = \", a[1],   \",  a[1].shape   =\", a[1].shape, \"a 1-D array\")\n"
      ]
    }
  ],
  "metadata": {
    "dl_toc_settings": {
      "rndtag": "40015"
    },
    "kernelspec": {
      "display_name": "Python 3",
      "language": "python",
      "name": "python3"
    },
    "language_info": {
      "codemirror_mode": {
        "name": "ipython",
        "version": 3
      },
      "file_extension": ".py",
      "mimetype": "text/x-python",
      "name": "python",
      "nbconvert_exporter": "python",
      "pygments_lexer": "ipython3",
      "version": "3.7.6"
    },
    "toc-autonumbering": false,
    "colab": {
      "provenance": [],
      "include_colab_link": true
    }
  },
  "nbformat": 4,
  "nbformat_minor": 0
}